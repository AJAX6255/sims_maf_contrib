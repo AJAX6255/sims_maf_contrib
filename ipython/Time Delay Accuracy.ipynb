{
 "metadata": {
  "name": "",
  "signature": "sha256:c2b62ee143737f4696d7314d70e2682826bbf9ec1f9c3f257cb18ac7e04ca3ec"
 },
 "nbformat": 3,
 "nbformat_minor": 0,
 "worksheets": [
  {
   "cells": [
    {
     "cell_type": "heading",
     "level": 1,
     "metadata": {},
     "source": [
      "Time Delay Accuracy Metric and MAF Python script"
     ]
    },
    {
     "cell_type": "markdown",
     "metadata": {},
     "source": [
      "This ipython notebook is intended to provide documentation of two things: Phil Marshall's time delay accuracy metrics and an example of writing a python script to interact with the innards of MAF (rather than working with the driver and driver configuration file). \n",
      "\n",
      "Why would you skip the driver? In this case, Phil has a metric that returns several values per slicePoint (a 'complex' metric).  This is because the metric is calculating several different values that all depend on the same underlying (slightly expensive to calculate) quantities -- these values (Accuracy A, Precision P, and success rate f) are documented in http://arxiv.org/pdf/1409.1254.pdf (Liao et al).  These values are calculated as follows: "
     ]
    },
    {
     "cell_type": "markdown",
     "metadata": {},
     "source": [
      "\\begin{align}\n",
      "|A|_{\\rm model} &\\approx 0.06\\% \\left(\\frac{\\rm cad} {\\rm 3 days}  \\right)^{0.0}\n",
      "                          \\left(\\frac{\\rm sea}  {\\rm 4 months}\\right)^{-1.0}\n",
      "                          \\left(\\frac{\\rm camp}{\\rm 5 years} \\right)^{-1.1} \\notag \\\\\n",
      "  P_{\\rm model} &\\approx 4.0\\% \\left(\\frac{\\rm cad} {\\rm 3 days}  \\right)^{ 0.7}\n",
      "                         \\left(\\frac{\\rm sea}  {\\rm 4 months}\\right)^{-0.3}\n",
      "                         \\left(\\frac{\\rm camp}{\\rm 5 years} \\right)^{-0.6} \\notag \\\\\n",
      "  f_{\\rm model} &\\approx 30\\% \\left(\\frac{\\rm cad} {\\rm 3 days}  \\right)^{-0.4}\n",
      "                        \\left(\\frac{\\rm sea}  {\\rm 4 months}\\right)^{ 0.8}\n",
      "                        \\left(\\frac{\\rm camp}{\\rm 5 years} \\right)^{-0.2} \\notag\n",
      "\\end{align}"
     ]
    },
    {
     "cell_type": "markdown",
     "metadata": {},
     "source": [
      "So we want to skip the driver because we want to be able to control the plotting parameters for A, P, and f with more specificity than is currently allowed by the driver configuration files (this will change in the future, but is a problem for now), if these are just calculated as 'reduce' functions on a single metric. "
     ]
    },
    {
     "cell_type": "heading",
     "level": 2,
     "metadata": {},
     "source": [
      "Python Script"
     ]
    },
    {
     "cell_type": "markdown",
     "metadata": {},
     "source": [
      "The python for Phil's new metric class is in sims_maf_contrib/mafContrib (https://github.com/LSST-nonproject/sims_maf_contrib/tree/master/mafContrib/tdcMetric.py)"
     ]
    },
    {
     "cell_type": "markdown",
     "metadata": {},
     "source": [
      "To use his new metric, we're going to write some functions to interact with various levels of MAF, then combine the result in a few executable lines at the bottom. "
     ]
    },
    {
     "cell_type": "markdown",
     "metadata": {},
     "source": [
      "First we import the modules we'll need. "
     ]
    },
    {
     "cell_type": "code",
     "collapsed": false,
     "input": [
      "# Import MAF modules.\n",
      "import lsst.sims.maf.db as db\n",
      "import lsst.sims.maf.slicers as slicers\n",
      "import lsst.sims.maf.metrics as metrics\n",
      "import lsst.sims.maf.stackers as stackers\n",
      "import lsst.sims.maf.sliceMetrics as sliceMetrics\n",
      "# Import the contributed metrics and stackers (note this will add their info to the Metric and Stacker registry)\n",
      "import mafContrib\n",
      "# Import a MAF utility to identify the sources of columns (database or stackers)\n",
      "from lsst.sims.maf.utils import ColInfo"
     ],
     "language": "python",
     "metadata": {},
     "outputs": [],
     "prompt_number": 20
    },
    {
     "cell_type": "markdown",
     "metadata": {},
     "source": [
      "Next let's write a function to instantiate the metric(s) and slicer we want to use. We will end up calling this function first (before reading the data from the database) because by instantiating these objects the \"behind the scenes\" machinery in these classes lets MAF know what columns need to be called from the database. We want to specify the ra/dec columns to use for the slicer, since we may want to swap between dithered/non-dithered options, as well as the resolution for the healpix slicer (nside).\n",
      "\n",
      "The most complex thing here is identifying which columns come directly from the database and which need to come from stackers, and then automatically calling the stackers which are needed (or allowing the user to override a stacker's instantiation manually). This can be done using the \"ColInfo\" utility, which keeps a list of columns which can be built by Stackers. ColInfo assumes any column not identified as being built by a stacker (via the stacker's 'colsAdded' value) comes directly from the database. \n",
      "\n",
      "Note we have not specified a sqlconstraint here. In this case, we're just running the same metrics and same slicer for all sqlconstraints. "
     ]
    },
    {
     "cell_type": "code",
     "collapsed": false,
     "input": [
      "def getMetricsAndHealpixSlicer(raCol='ditheredRA', decCol='ditheredDec', nside=128):\n",
      "    \"\"\"\n",
      "    Instantiate the metrics, healpix slicer, and stackers and identify the columns needed from the database for each of these.\n",
      "    \n",
      "    - raCol is the RA column to use for the slicer (can be a stacker column)\n",
      "    - decCol is the dec column to use for the slicer (can be a stacker column)\n",
      "    - nside is the resolution for the healpix slicer\n",
      "    \"\"\"\n",
      "    # Instantiate the metrics.\n",
      "    metrics = []\n",
      "    metrics.append(mafContrib.TdcMetric(seasonCol='season', expMJDCol='expMJD', nightCol='night'))\n",
      "    # Instantiate the slicer.\n",
      "    slicer = slicers.HealpixSlicer(nside=nside, spatialkey1=raCol, spatialkey2=decCol)\n",
      "    # Identify all of the columns we need from the database, using 'ColInfo' utility.\n",
      "    # Also identify which stackers must be called (although we will allow override of these below)\n",
      "    colInfo = ColInfo()\n",
      "    # Save the columns direct from database\n",
      "    dbcolnames = set()  \n",
      "    defaultstackers = set() # stacker names that must be called to create all necessary columns \n",
      "    for col in raCol, decCol:\n",
      "        colsource = colInfo.getDataSource(col)\n",
      "        if colsource != colInfo.defaultDataSource:\n",
      "            defaultstackers.add(colsource)\n",
      "        else:\n",
      "            dbcolnames.add(col)\n",
      "    for col in metrics[0].colRegistry.colSet:\n",
      "        colsource = colInfo.getDataSource(col)\n",
      "        if colsource != colInfo.defaultDataSource:\n",
      "            defaultstackers.add(colsource)\n",
      "        else:\n",
      "            dbcolnames.add(col)\n",
      "    # If you want to specify options for stackers, do that here.\n",
      "    stackers = []\n",
      "    stackers.append(mafContrib.SeasonStacker())\n",
      "    # Remove explicity instantiated stackers from defaultstacker set.\n",
      "    for s in stackers:\n",
      "        if s.__class__ in defaultstackers:\n",
      "            defaultstackers.remove(s.__class__)\n",
      "    # Instantiate the remaining default stackers.\n",
      "    for s in defaultstackers:\n",
      "        stackers.append(s())\n",
      "    # Add the columns needed from the database from the stackers. \n",
      "    for s in stackers:\n",
      "        for col in s.colsReq:\n",
      "            dbcolnames.add(col)\n",
      "    return metrics, slicer, stackers, dbcolnames"
     ],
     "language": "python",
     "metadata": {},
     "outputs": [],
     "prompt_number": 21
    },
    {
     "cell_type": "markdown",
     "metadata": {},
     "source": [
      "Now we write a function to get the data from the database for this sqlconstraint. We'll also take this opportunity to actually run the stackers and generate the additional data columns that are calculated by these. That way we generate a coherent 'simData' for all the visits which match this sqlconstraint. "
     ]
    },
    {
     "cell_type": "code",
     "collapsed": false,
     "input": [
      "def getData(dbAddress, sqlconstraint, dbcolnames, stackers):\n",
      "    \"\"\"\n",
      "    Get data from the database.\n",
      "    \n",
      "    - dbAddress is a sqlalchemy connection string, such as 'sqlite:///ops2_1078_sqlite.db'\n",
      "    - sqlconstraint is a sql constraint for this query\n",
      "    - dbcolnames are the names of the column to query from the database.\n",
      "    - stackers is the list of instantiated stacker objects.\n",
      "    \"\"\"\n",
      "    oo = db.OpsimDatabase(dbAddress)\n",
      "    simData = oo.fetchMetricData(dbcolnames, sqlconstraint)\n",
      "    for s in stackers:\n",
      "        simData = s.run(simData)\n",
      "    return simData"
     ],
     "language": "python",
     "metadata": {},
     "outputs": [],
     "prompt_number": 22
    },
    {
     "cell_type": "markdown",
     "metadata": {},
     "source": [
      "Next we want to write a function that will take the simData and use it to 'setup' the slicer. This is necessary because each slicer indexes the simData so that it can effectively identify the relevant visits in the opsim data for each \"slice\" in the slicer. For example, a healpix slicer creates a kd-tree ranging over the opsim visits so that at each healpixel point, the visits which overlap that point can be quickly identified and returned to the user. "
     ]
    },
    {
     "cell_type": "code",
     "collapsed": false,
     "input": [
      "def setupSlicer(slicer, simData):\n",
      "    \"\"\"\n",
      "    Set up indexing in the slicer. \n",
      "    \"\"\"\n",
      "    slicer.setupSlicer(simData)\n",
      "    return slicer"
     ],
     "language": "python",
     "metadata": {},
     "outputs": [],
     "prompt_number": 23
    },
    {
     "cell_type": "markdown",
     "metadata": {},
     "source": [
      "At this point, our data has been retrieved from the database, the slicer is ready to slice, and the thing that is left to do is actually calculate the metric values at each point in the slicer. We use the RunSliceMetric class from MAF to do this, as the sliceMetrics classes provides a higher-level interface uniting metrics and slicers. The RunSliceMetric gives users some easy ways to calculate metric values, run the reduce functions, create plots, and write metric data to disk. Here we'll write a function to go through the calculation and saving of the metric values, then will separate plotting into its own function (as Phil needs to customize the plotting).\n",
      "\n",
      "The option 'useResultsDb' means that the outputs of MAF will be registered in the results database (see the MAF documentation for more info, but this is necessary for the web interface visualization 'showMaf.py'). It could be safely turned off if the web interface view to the outputs isn't desired. The opsimName and metadata are used for automated output file name generation and plot titles as well as being stored to the output files as useful information to have later, and the sqlconstraint is just saved to the output file as useful information. "
     ]
    },
    {
     "cell_type": "code",
     "collapsed": false,
     "input": [
      "def calculateMetrics(simData, slicer, metrics, opsimName, sqlconstraint, metadata=None, outputDir='Output'):\n",
      "    \"\"\"\n",
      "    Calculate metric values and reduced metric values. \n",
      "    \"\"\"\n",
      "    # Add a more compact version of the sqlconstraint as the metadata if none provided.\n",
      "    if metadata is None:\n",
      "        metadata = sqlconstraint.replace(\"'\",'').replace('\"','').replace('  ', ' ')\n",
      "        metadata = metadata.replace('filter', '').replace('=', '')\n",
      "    # Instantiate the RunSliceMetric.\n",
      "    sm = sliceMetrics.RunSliceMetric(useResultsDb=True, outDir=outputDir)\n",
      "    sm.setSlicer(slicer)\n",
      "    sm.setMetrics(metrics)\n",
      "    # Calculate the metric values. \n",
      "    sm.runSlices(simData, simDataName=opsimName, sqlconstraint=sqlconstraint, metadata=metadata)\n",
      "    # Calculate the 'reduced' metric values.\n",
      "    sm.reduceAll()\n",
      "    # Save the output files.\n",
      "    sm.writeAll()\n",
      "    return sm"
     ],
     "language": "python",
     "metadata": {},
     "outputs": [],
     "prompt_number": 24
    },
    {
     "cell_type": "markdown",
     "metadata": {},
     "source": [
      "Okay, now we generate the plots. First let's write a function which would just generate the default plots for a list of metrics."
     ]
    },
    {
     "cell_type": "code",
     "collapsed": false,
     "input": [
      "def plotMetrics(sm, metrics=None):\n",
      "    \"\"\"\n",
      "    Generate plots for the metrics in list 'metrics'.\n",
      "    \"\"\"\n",
      "    if metrics is None:\n",
      "        metrics = sm.metricNames.values()\n",
      "    else:\n",
      "        metricNames = []\n",
      "        for m in metrics:\n",
      "            metricNames.append(m.name)\n",
      "            for k in m.reduceFuncs.keys():\n",
      "                metricNames.append(k)\n",
      "    # Identify the \"ID number\" of the metric data inside the sliceMetric.\n",
      "    iids = []\n",
      "    for m in metricNames:\n",
      "        iids.append(sm.findIids(metricName=m))\n",
      "    # Plot. \n",
      "    for iid in iids:\n",
      "        sm.plotMetric(iid)"
     ],
     "language": "python",
     "metadata": {},
     "outputs": [],
     "prompt_number": 20
    },
    {
     "cell_type": "markdown",
     "metadata": {},
     "source": [
      "But Phil wanted custom plotting parameters. So let's replace this function and plot only his reduced metric values with the limits he wants."
     ]
    },
    {
     "cell_type": "code",
     "collapsed": false,
     "input": [
      "def plotMetrics(sm, metrics=None):\n",
      "    \"\"\"\n",
      "    Generate the plots for Phil's metrics.\n",
      "    \"\"\"\n",
      "    metricName = 'tdc_accuracy'\n",
      "    iid = sm.findIids(metricName=metricName)\n",
      "    # Set the plotting parameters for this value.\n",
      "    maxAccuracy = 0.03\n",
      "    sm.plotDicts[iid] = {'xMin':0, 'xMax':maxAccuracy, 'colorMin':0, 'colorMax':maxAccuracy}\n",
      "    sm.plotMetric(iid)\n",
      "    \n",
      "    metricName = 'tdc_precision'\n",
      "    iid = sm.findIids(metricName=metricName)\n",
      "    # Set the plotting parameters for this value.\n",
      "    maxPrecision = 0.03\n",
      "    sm.plotDicts[iid] = {'xMin':0, 'xMax':maxPrecision, 'colorMin':0, 'colorMax':maxPrecision}\n",
      "    sm.plotMetric(iid)\n",
      "    \n",
      "    metricName = 'tdc_rate'\n",
      "    iid = sm.findIids(metricName=metricName)\n",
      "    # Set the plotting parameters for this value.\n",
      "    sm.plotDicts[iid] = {'percentile':90}\n",
      "    sm.plotMetric(iid)"
     ],
     "language": "python",
     "metadata": {},
     "outputs": [],
     "prompt_number": 25
    },
    {
     "cell_type": "markdown",
     "metadata": {},
     "source": [
      "Time to put it all together. "
     ]
    },
    {
     "cell_type": "code",
     "collapsed": false,
     "input": [
      "import matplotlib.pyplot as plt\n",
      "\n",
      "opsimName = 'ops2_1078'\n",
      "dbAddress = 'sqlite:///' + opsimName + '_sqlite.db'\n",
      "\n",
      "# Define our sqlconstraints. \n",
      "sqlconstraints = []\n",
      "for f in ('u', 'g', 'r', 'i', 'z', 'y', 'multi'):\n",
      "    if f == 'multi':\n",
      "        sqlconstraint = ''\n",
      "    else:\n",
      "        sqlconstraint = 'filter = \"%s\"' %(f)\n",
      "    sqlconstraints.append(sqlconstraint)\n",
      "\n",
      "# Instantiate the same slicer and metrics we'll use for all sqlconstraints. \n",
      "metrics, slicer, stackers, dbcolnames = getMetricsAndHealpixSlicer(raCol='ditheredRA', decCol='ditheredDec', nside=128)\n",
      "\n",
      "for sqlconstraint in sqlconstraints:\n",
      "    simData = getData(dbAddress, sqlconstraint, dbcolnames, stackers)\n",
      "    if hasattr(slicer, 'opsimtree'):\n",
      "        del slicer.opsimtree\n",
      "    slicer = setupSlicer(slicer, simData)\n",
      "    metadata = sqlconstraint.replace('filter', '').replace('=', '')\n",
      "    metadata += ' dithered'\n",
      "    sm = calculateMetrics(simData, slicer, metrics, opsimName, sqlconstraint, metadata, outputDir='Output')\n",
      "    plotMetrics(sm)\n",
      "\n",
      "plt.show()"
     ],
     "language": "python",
     "metadata": {},
     "outputs": [
      {
       "output_type": "stream",
       "stream": "stdout",
       "text": [
        "Healpix slicer using NSIDE=128, approximate resolution 27.483891 arcminutes\n"
       ]
      },
      {
       "ename": "TypeError",
       "evalue": "'dict' object is not callable",
       "output_type": "pyerr",
       "traceback": [
        "\u001b[0;31m---------------------------------------------------------------------------\u001b[0m\n\u001b[0;31mTypeError\u001b[0m                                 Traceback (most recent call last)",
        "\u001b[0;32m<ipython-input-26-f6b240b01fcc>\u001b[0m in \u001b[0;36m<module>\u001b[0;34m()\u001b[0m\n\u001b[1;32m     23\u001b[0m     \u001b[0mmetadata\u001b[0m \u001b[0;34m=\u001b[0m \u001b[0msqlconstraint\u001b[0m\u001b[0;34m.\u001b[0m\u001b[0mreplace\u001b[0m\u001b[0;34m(\u001b[0m\u001b[0;34m'filter'\u001b[0m\u001b[0;34m,\u001b[0m \u001b[0;34m''\u001b[0m\u001b[0;34m)\u001b[0m\u001b[0;34m.\u001b[0m\u001b[0mreplace\u001b[0m\u001b[0;34m(\u001b[0m\u001b[0;34m'='\u001b[0m\u001b[0;34m,\u001b[0m \u001b[0;34m''\u001b[0m\u001b[0;34m)\u001b[0m\u001b[0;34m\u001b[0m\u001b[0m\n\u001b[1;32m     24\u001b[0m     \u001b[0mmetadata\u001b[0m \u001b[0;34m+=\u001b[0m \u001b[0;34m' dithered'\u001b[0m\u001b[0;34m\u001b[0m\u001b[0m\n\u001b[0;32m---> 25\u001b[0;31m     \u001b[0msm\u001b[0m \u001b[0;34m=\u001b[0m \u001b[0mcalculateMetrics\u001b[0m\u001b[0;34m(\u001b[0m\u001b[0msimData\u001b[0m\u001b[0;34m,\u001b[0m \u001b[0mslicer\u001b[0m\u001b[0;34m,\u001b[0m \u001b[0mmetrics\u001b[0m\u001b[0;34m,\u001b[0m \u001b[0mopsimName\u001b[0m\u001b[0;34m,\u001b[0m \u001b[0msqlconstraint\u001b[0m\u001b[0;34m,\u001b[0m \u001b[0mmetadata\u001b[0m\u001b[0;34m,\u001b[0m \u001b[0moutputDir\u001b[0m\u001b[0;34m=\u001b[0m\u001b[0;34m'Output'\u001b[0m\u001b[0;34m)\u001b[0m\u001b[0;34m\u001b[0m\u001b[0m\n\u001b[0m\u001b[1;32m     26\u001b[0m     \u001b[0mplotMetrics\u001b[0m\u001b[0;34m(\u001b[0m\u001b[0msm\u001b[0m\u001b[0;34m)\u001b[0m\u001b[0;34m\u001b[0m\u001b[0m\n\u001b[1;32m     27\u001b[0m \u001b[0;34m\u001b[0m\u001b[0m\n",
        "\u001b[0;32m<ipython-input-24-1442602f9934>\u001b[0m in \u001b[0;36mcalculateMetrics\u001b[0;34m(simData, slicer, metrics, opsimName, sqlconstraint, metadata, outputDir)\u001b[0m\n\u001b[1;32m     14\u001b[0m     \u001b[0msm\u001b[0m\u001b[0;34m.\u001b[0m\u001b[0mrunSlices\u001b[0m\u001b[0;34m(\u001b[0m\u001b[0msimData\u001b[0m\u001b[0;34m,\u001b[0m \u001b[0msimDataName\u001b[0m\u001b[0;34m=\u001b[0m\u001b[0mopsimName\u001b[0m\u001b[0;34m,\u001b[0m \u001b[0msqlconstraint\u001b[0m\u001b[0;34m=\u001b[0m\u001b[0msqlconstraint\u001b[0m\u001b[0;34m,\u001b[0m \u001b[0mmetadata\u001b[0m\u001b[0;34m=\u001b[0m\u001b[0mmetadata\u001b[0m\u001b[0;34m)\u001b[0m\u001b[0;34m\u001b[0m\u001b[0m\n\u001b[1;32m     15\u001b[0m     \u001b[0;31m# Calculate the 'reduced' metric values.\u001b[0m\u001b[0;34m\u001b[0m\u001b[0;34m\u001b[0m\u001b[0m\n\u001b[0;32m---> 16\u001b[0;31m     \u001b[0msm\u001b[0m\u001b[0;34m.\u001b[0m\u001b[0mreduceAll\u001b[0m\u001b[0;34m(\u001b[0m\u001b[0;34m)\u001b[0m\u001b[0;34m\u001b[0m\u001b[0m\n\u001b[0m\u001b[1;32m     17\u001b[0m     \u001b[0;31m# Save the output files.\u001b[0m\u001b[0;34m\u001b[0m\u001b[0;34m\u001b[0m\u001b[0m\n\u001b[1;32m     18\u001b[0m     \u001b[0msm\u001b[0m\u001b[0;34m.\u001b[0m\u001b[0mwriteAll\u001b[0m\u001b[0;34m(\u001b[0m\u001b[0;34m)\u001b[0m\u001b[0;34m\u001b[0m\u001b[0m\n",
        "\u001b[0;32m/Users/lynnej/lsstRepo/sims_maf/python/lsst/sims/maf/sliceMetrics/runSliceMetric.pyc\u001b[0m in \u001b[0;36mreduceAll\u001b[0;34m(self)\u001b[0m\n\u001b[1;32m    176\u001b[0m             \u001b[0;31m# Apply reduce functions\u001b[0m\u001b[0;34m\u001b[0m\u001b[0;34m\u001b[0m\u001b[0m\n\u001b[1;32m    177\u001b[0m             self.reduceMetric(iid, self.metricObjs[iid].reduceFuncs.values(),\n\u001b[0;32m--> 178\u001b[0;31m                               self.metricObjs[iid].reduceOrder.values())            \n\u001b[0m\u001b[1;32m    179\u001b[0m \u001b[0;34m\u001b[0m\u001b[0m\n\u001b[1;32m    180\u001b[0m     \u001b[0;32mdef\u001b[0m \u001b[0mreduceMetric\u001b[0m\u001b[0;34m(\u001b[0m\u001b[0mself\u001b[0m\u001b[0;34m,\u001b[0m \u001b[0miid\u001b[0m\u001b[0;34m,\u001b[0m \u001b[0mreduceFunc\u001b[0m\u001b[0;34m,\u001b[0m \u001b[0mreduceOrder\u001b[0m\u001b[0;34m=\u001b[0m\u001b[0mNone\u001b[0m\u001b[0;34m)\u001b[0m\u001b[0;34m:\u001b[0m\u001b[0;34m\u001b[0m\u001b[0m\n",
        "\u001b[0;32m/Users/lynnej/lsstRepo/sims_maf/python/lsst/sims/maf/sliceMetrics/runSliceMetric.pyc\u001b[0m in \u001b[0;36mreduceMetric\u001b[0;34m(self, iid, reduceFunc, reduceOrder)\u001b[0m\n\u001b[1;32m    222\u001b[0m               \u001b[0;31m# Evaluate reduced version of metric values.\u001b[0m\u001b[0;34m\u001b[0m\u001b[0;34m\u001b[0m\u001b[0m\n\u001b[1;32m    223\u001b[0m               \u001b[0;32mfor\u001b[0m \u001b[0mriid\u001b[0m\u001b[0;34m,\u001b[0m \u001b[0mrFunc\u001b[0m \u001b[0;32min\u001b[0m \u001b[0mzip\u001b[0m\u001b[0;34m(\u001b[0m\u001b[0mriids\u001b[0m\u001b[0;34m,\u001b[0m \u001b[0mreduceFunc\u001b[0m\u001b[0;34m)\u001b[0m\u001b[0;34m:\u001b[0m\u001b[0;34m\u001b[0m\u001b[0m\n\u001b[0;32m--> 224\u001b[0;31m                  \u001b[0mself\u001b[0m\u001b[0;34m.\u001b[0m\u001b[0mmetricValues\u001b[0m\u001b[0;34m[\u001b[0m\u001b[0mriid\u001b[0m\u001b[0;34m]\u001b[0m\u001b[0;34m.\u001b[0m\u001b[0mdata\u001b[0m\u001b[0;34m[\u001b[0m\u001b[0mi\u001b[0m\u001b[0;34m]\u001b[0m \u001b[0;34m=\u001b[0m \u001b[0mrFunc\u001b[0m\u001b[0;34m(\u001b[0m\u001b[0mmVal\u001b[0m\u001b[0;34m)\u001b[0m\u001b[0;34m\u001b[0m\u001b[0m\n\u001b[0m\u001b[1;32m    225\u001b[0m \u001b[0;34m\u001b[0m\u001b[0m\n\u001b[1;32m    226\u001b[0m \u001b[0;34m\u001b[0m\u001b[0m\n",
        "\u001b[0;32m/Users/lynnej/lsstRepo/sims_maf_contrib/mafContrib/tdcMetric.py\u001b[0m in \u001b[0;36mreduceRate\u001b[0;34m(self, metricValue)\u001b[0m\n\u001b[1;32m     49\u001b[0m \u001b[0;34m\u001b[0m\u001b[0m\n\u001b[1;32m     50\u001b[0m     \u001b[0;32mdef\u001b[0m \u001b[0mreduceRate\u001b[0m\u001b[0;34m(\u001b[0m\u001b[0mself\u001b[0m\u001b[0;34m,\u001b[0m \u001b[0mmetricValue\u001b[0m\u001b[0;34m)\u001b[0m\u001b[0;34m:\u001b[0m\u001b[0;34m\u001b[0m\u001b[0m\n\u001b[0;32m---> 51\u001b[0;31m         \u001b[0;32mreturn\u001b[0m \u001b[0mmetricValue\u001b[0m\u001b[0;34m[\u001b[0m\u001b[0;34m'rate'\u001b[0m\u001b[0;34m]\u001b[0m\u001b[0;34m\u001b[0m\u001b[0m\n\u001b[0m\u001b[1;32m     52\u001b[0m \u001b[0;34m\u001b[0m\u001b[0m\n",
        "\u001b[0;31mTypeError\u001b[0m: 'dict' object is not callable"
       ]
      }
     ],
     "prompt_number": 26
    }
   ],
   "metadata": {}
  }
 ]
}