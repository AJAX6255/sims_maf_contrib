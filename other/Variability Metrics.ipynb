{
 "cells": [
  {
   "cell_type": "markdown",
   "metadata": {},
   "source": [
    "##Variability Metrics"
   ]
  },
  {
   "cell_type": "markdown",
   "metadata": {},
   "source": [
    "These variabilty metrics were developed as a first attempt to understand LSST performance for discovering and characterising periodic variables. They are available in the [sims_maf_contrib](https://github.com/LSST-nonproject/sims_maf_contrib) github repo, in [varMetrics.py](https://github.com/LSST-nonproject/sims_maf_contrib/blob/master/mafContrib/varMetrics.py). \n",
    "\n",
    "One metric (PhaseGaps) looks at the gaps in phase coverage for a set of observations. At each point in the sky (if we use a healpix slicer), a range of periods and the times of the visits are converted to phase values: then the largest gap in these phases is calculated. The metric calculates the max gap for a range of periods at each point; thus it also provides a few reduce functions to convert this to the period with the largest gap (at each point in the sky) and the value of the largest gap in phase coverage (at each point in the sky). We can also read the metric values back into python and generate plots of phase gaps vs. period, including the data for all points.\n",
    "\n",
    "The second metric (PeriodDeviation) generates a light curve (representing the variability of the source as a simple sine curve but neglecting photometric errors) with user-settable range of periods, then attempts to recover the period using a simple lomb-scargle calculation. Changing the period fitting routine would doubtless improve the period recovery.  Again, this should be paired with a healpix slicer to evaluate sets of visits which correspond to the same spot on the sky, and again each point is sampled at a range of different periods so the metric provides reduce methods and we can also read back in the results to evaluate true period vs. fit period across the entire sky. "
   ]
  },
  {
   "cell_type": "code",
   "execution_count": 1,
   "metadata": {
    "collapsed": true
   },
   "outputs": [],
   "source": [
    "import matplotlib.pyplot as plt\n",
    "%matplotlib inline\n",
    "# Import MAF modules.\n",
    "import lsst.sims.maf.db as db\n",
    "import lsst.sims.maf.slicers as slicers\n",
    "import lsst.sims.maf.metrics as metrics\n",
    "import lsst.sims.maf.stackers as stackers\n",
    "from lsst.sims.maf.metricBundles import MetricBundle, MetricBundleGroup\n",
    "# Import the contributed metrics and stackers \n",
    "import mafContrib"
   ]
  },
  {
   "cell_type": "markdown",
   "metadata": {},
   "source": [
    "Connect to the opsim database and set up some metadata."
   ]
  },
  {
   "cell_type": "code",
   "execution_count": 2,
   "metadata": {
    "collapsed": true
   },
   "outputs": [],
   "source": [
    "runName = 'enigma_1189'\n",
    "dbAddress = 'sqlite:///' + runName + '_sqlite.db'\n",
    "opsdb = db.OpsimDatabase(dbAddress)\n",
    "outDir = 'variability_test'"
   ]
  },
  {
   "cell_type": "markdown",
   "metadata": {},
   "source": [
    "Set up the metrics and slicer. "
   ]
  },
  {
   "cell_type": "code",
   "execution_count": 3,
   "metadata": {
    "collapsed": false
   },
   "outputs": [
    {
     "name": "stdout",
     "output_type": "stream",
     "text": [
      "Healpix slicer using NSIDE=64, approximate resolution 54.967783 arcminutes\n"
     ]
    }
   ],
   "source": [
    "phaseMetric = mafContrib.PhaseGapMetric(nPeriods=5, periodMin=0.5, periodMax=3.5)\n",
    "periodMetric = mafContrib.PeriodDeviationMetric(nPeriods=5, periodMin=0.5, periodMax=3.5)\n",
    "slicer = slicers.HealpixSlicer(nside=64, lonCol='ditheredRA', latCol='ditheredDec')"
   ]
  },
  {
   "cell_type": "code",
   "execution_count": 4,
   "metadata": {
    "collapsed": true
   },
   "outputs": [],
   "source": [
    "summaryMetrics = [metrics.MinMetric(), metrics.MaxMetric(), metrics.MeanMetric()]"
   ]
  },
  {
   "cell_type": "code",
   "execution_count": 5,
   "metadata": {
    "collapsed": true
   },
   "outputs": [],
   "source": [
    "sqlconstraint = 'night<365 and (filter=\"r\" or filter=\"i\")'\n",
    "phaseBundle = MetricBundle(phaseMetric, slicer, sqlconstraint=sqlconstraint, \n",
    "                           runName=runName, summaryMetrics=summaryMetrics)\n",
    "periodBundle = MetricBundle(periodMetric, slicer, sqlconstraint=sqlconstraint, \n",
    "                            runName=runName, summaryMetrics=summaryMetrics)"
   ]
  },
  {
   "cell_type": "code",
   "execution_count": 6,
   "metadata": {
    "collapsed": true
   },
   "outputs": [],
   "source": [
    "bdict = {'Phase':phaseBundle, 'Period':periodBundle}"
   ]
  },
  {
   "cell_type": "code",
   "execution_count": 7,
   "metadata": {
    "collapsed": false
   },
   "outputs": [],
   "source": [
    "resultsDb = db.ResultsDb(outDir=outDir)\n",
    "bgroup = MetricBundleGroup(bdict, opsdb, outDir=outDir, resultsDb=resultsDb)"
   ]
  },
  {
   "cell_type": "code",
   "execution_count": null,
   "metadata": {
    "collapsed": false
   },
   "outputs": [
    {
     "name": "stdout",
     "output_type": "stream",
     "text": [
      "Querying database with constraint night<365 and (filter=\"r\" or filter=\"i\")\n",
      "Found 84922 visits"
     ]
    }
   ],
   "source": [
    "bgroup.runAll()"
   ]
  },
  {
   "cell_type": "code",
   "execution_count": null,
   "metadata": {
    "collapsed": true
   },
   "outputs": [],
   "source": []
  }
 ],
 "metadata": {
  "kernelspec": {
   "display_name": "Python 2",
   "language": "python",
   "name": "python2"
  },
  "language_info": {
   "codemirror_mode": {
    "name": "ipython",
    "version": 2
   },
   "file_extension": ".py",
   "mimetype": "text/x-python",
   "name": "python",
   "nbconvert_exporter": "python",
   "pygments_lexer": "ipython2",
   "version": "2.7.9"
  }
 },
 "nbformat": 4,
 "nbformat_minor": 0
}
