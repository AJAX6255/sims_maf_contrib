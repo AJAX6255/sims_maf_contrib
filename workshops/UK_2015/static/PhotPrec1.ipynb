{
 "cells": [
  {
   "cell_type": "code",
   "execution_count": 3,
   "metadata": {
    "collapsed": false
   },
   "outputs": [],
   "source": [
    "%matplotlib inline"
   ]
  },
  {
   "cell_type": "code",
   "execution_count": null,
   "metadata": {
    "collapsed": false
   },
   "outputs": [],
   "source": [
    "# This notebook assumes you are using sims_maf version >= 1.0, and have 'setup sims_maf' in your shell. \n",
    "# \n",
    "\n",
    "import matplotlib.pyplot as plt\n",
    "import lsst.sims.maf.db as db\n",
    "import lsst.sims.maf.metrics as metrics\n",
    "import PhotPrecMetrics\n",
    "import lsst.sims.maf.slicers as slicers\n",
    "import lsst.sims.maf.metricBundles as metricBundles\n",
    "import numpy as np\n",
    "\n",
    "\"\"\"\n",
    "Run the PhotPrecMetrics \n",
    "\"\"\"\n",
    "\n",
    "\n",
    "goodSeeing = 0.7\n",
    "\n",
    "sqls = [' night < %f' % ( 5.*365.25), ' night < %f and finSeeing < %f'% ( 5.*365.25, goodSeeing)]\n",
    "\n",
    "\n",
    "# Set up the database connection\n",
    "opsdb = db.OpsimDatabase('enigma_1189_sqlite.db')\n",
    "outDir = 'goodseeing_test'\n",
    "resultsDb = db.ResultsDb(outDir=outDir)\n",
    "\n",
    "\n",
    "slicer = slicers.HealpixSlicer(nside=16, lonCol='ditheredRA', latCol='ditheredDec')\n",
    "summaryMetrics = [metrics.MeanMetric(), metrics.MedianMetric(), PhotPrecMetrics.RelRmsMetric()]\n",
    "\n",
    "bgroupList = []\n",
    "names = ['All Visits', 'Good Seeing']\n",
    "\n",
    "for name,sql in zip(names, sqls):\n",
    "    bundles = {}\n",
    "    cnt=0\n",
    "    sed = { 'g':25, 'r': 26, 'i': 25}\n",
    "    metric1 = PhotPrecMetrics.SEDSNMetric(metricName='SEDSN', mags=sed)\n",
    "    metric2 = PhotPrecMetrics.ThreshSEDSNMetric(metricName='SEDSN', mags=sed)\n",
    "\n",
    "    bundle1 = metricBundles.MetricBundle(metric1, slicer, sql, summaryMetrics=summaryMetrics)\n",
    "    bundle2 = metricBundles.MetricBundle(metric2, slicer, sql, summaryMetrics=summaryMetrics)\n",
    "\n",
    "    bundles={0:bundle1,1:bundle2}\n",
    "\n",
    "    bgroup = metricBundles.MetricBundleGroup(bundles, opsdb, outDir=outDir, resultsDb=resultsDb)\n",
    "    bgroupList.append(bgroup)\n",
    "\n",
    "\n",
    "for bgroup in bgroupList:\n",
    "    bgroup.runAll()\n",
    "    bgroup.plotAll(closefigs=False)\n",
    "\n",
    "if False:\n",
    "    print 'name, mean PhotPrec, median PhotPrec '\n",
    "    for bundleGroup in bgroupList:\n",
    "        for i in range(6):\n",
    "            print 'Filter %d'%i\n",
    "            print bundleGroup.bundleDict[i].metric.name, \\\n",
    "                bundleGroup.bundleDict[i].summaryValues['Mean'], \\\n",
    "                bundleGroup.bundleDict[i].summaryValues['Median'],\\\n",
    "                bundleGroup.bundleDict[i].summaryValues['RelRms']"
   ]
  },
  {
   "cell_type": "code",
   "execution_count": null,
   "metadata": {
    "collapsed": false
   },
   "outputs": [],
   "source": []
  }
 ],
 "metadata": {
  "kernelspec": {
   "display_name": "Python 2",
   "language": "python",
   "name": "python2"
  },
  "language_info": {
   "codemirror_mode": {
    "name": "ipython",
    "version": 2
   },
   "file_extension": ".py",
   "mimetype": "text/x-python",
   "name": "python",
   "nbconvert_exporter": "python",
   "pygments_lexer": "ipython2",
   "version": "2.7.10"
  }
 },
 "nbformat": 4,
 "nbformat_minor": 0
}
