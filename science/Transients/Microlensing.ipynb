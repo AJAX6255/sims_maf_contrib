{
 "cells": [
  {
   "cell_type": "code",
   "execution_count": 1,
   "metadata": {},
   "outputs": [],
   "source": [
    "%matplotlib inline\n",
    "import numpy as np\n",
    "import matplotlib.pyplot as plt\n",
    "import lsst.sims.maf.db as db\n",
    "import lsst.sims.maf.utils as utils\n",
    "import lsst.sims.maf.metrics as metrics\n",
    "import lsst.sims.maf.slicers as slicers\n",
    "import lsst.sims.maf.metricBundles as metricBundles\n",
    "from lsst.sims.utils import equatorialFromGalactic\n",
    "# Make the notebook repeatable\n",
    "np.random.seed(42)"
   ]
  },
  {
   "cell_type": "code",
   "execution_count": 19,
   "metadata": {},
   "outputs": [],
   "source": [
    "def microlensing_amplification(t, impact_parameter=1, crossing_time=1825., peak_time=100):\n",
    "    \"\"\"The microlensing amplification\n",
    "    \n",
    "    Parameters\n",
    "    ----------\n",
    "    t : float\n",
    "        The time of observation (days)\n",
    "    impact_parameter : float (1)\n",
    "        The impact paramter (0 means big amplification)\n",
    "    crossing_time : float (1825)\n",
    "        Einstein crossing time (days)\n",
    "    peak_time : float (100)\n",
    "        The peak time (days)\n",
    "    \"\"\"\n",
    "    \n",
    "    lightcurve_u = np.sqrt(impact_parameter**2 + ((t-peak_time)**2/crossing_time**2))    \n",
    "    amplification = (lightcurve_u**2 + 2)/(lightcurve_u*np.sqrt(lightcurve_u**2 +4))\n",
    "    \n",
    "    return amplification\n",
    "    "
   ]
  },
  {
   "cell_type": "code",
   "execution_count": 20,
   "metadata": {},
   "outputs": [],
   "source": [
    "t = np.arange(200)\n",
    "lc = microlensing_amplification(t, crossing_time=500, impact_parameter=0.01)"
   ]
  },
  {
   "cell_type": "code",
   "execution_count": 21,
   "metadata": {},
   "outputs": [
    {
     "data": {
      "text/plain": [
       "[<matplotlib.lines.Line2D at 0x1c6e8784a8>]"
      ]
     },
     "execution_count": 21,
     "metadata": {},
     "output_type": "execute_result"
    },
    {
     "data": {
      "image/png": "[encoded data removed]",
      "text/plain": [
       "<Figure size 432x288 with 1 Axes>"
      ]
     },
     "metadata": {
      "needs_background": "light"
     },
     "output_type": "display_data"
    }
   ],
   "source": [
    "plt.plot(t, lc)"
   ]
  },
  {
   "cell_type": "code",
   "execution_count": 22,
   "metadata": {},
   "outputs": [
    {
     "data": {
      "text/plain": [
       "array([  5.0685439 ,   5.11811837,   5.16871554,   5.22036689,\n",
       "         5.27310519,   5.32696458,   5.38198065,   5.43819051,\n",
       "         5.49563287,   5.55434814,   5.61437847,   5.67576795,\n",
       "         5.73856262,   5.80281062,   5.86856233,   5.93587046,\n",
       "         6.00479022,   6.07537946,   6.14769882,   6.2218119 ,\n",
       "         6.29778547,   6.37568963,   6.45559804,   6.53758815,\n",
       "         6.62174145,   6.70814372,   6.79688533,   6.88806155,\n",
       "         6.98177286,   7.07812536,   7.17723112,   7.27920863,\n",
       "         7.38418325,   7.49228774,   7.60366278,   7.71845758,\n",
       "         7.83683056,   7.95895002,   8.08499495,   8.21515592,\n",
       "         8.34963593,   8.48865157,   8.63243405,   8.78123052,\n",
       "         8.93530546,   9.09494218,   9.26044456,   9.4321389 ,\n",
       "         9.61037607,   9.79553381,   9.98801936,  10.18827235,\n",
       "        10.39676814,  10.61402142,  10.84059037,  11.07708134,\n",
       "        11.32415409,  11.58252779,  11.85298779,  12.13639335,\n",
       "        12.43368648,  12.74590203,  13.07417933,  13.41977558,\n",
       "        13.78408131,  14.16863833,  14.57516064,  15.00555881,\n",
       "        15.46196862,  15.94678469,  16.4627003 ,  17.0127546 ,\n",
       "        17.60038886,  18.22951385,  18.90459087,  19.63072966,\n",
       "        20.41380728,  21.26061326,  22.17902754,  23.17823986,\n",
       "        24.26902141,  25.46406272,  26.7783955 ,  28.22992069,\n",
       "        29.84007013,  31.63463391,  33.64478822,  35.90835338,\n",
       "        38.47128778,  41.38935616,  44.72974437,  48.5720145 ,\n",
       "        53.00696922,  58.13027092,  64.0242975 ,  70.71598131,\n",
       "        78.09168321,  85.75366572,  92.85170791,  98.06189179,\n",
       "       100.00374996,  98.06189179,  92.85170791,  85.75366572,\n",
       "        78.09168321,  70.71598131,  64.0242975 ,  58.13027092,\n",
       "        53.00696922,  48.5720145 ,  44.72974437,  41.38935616,\n",
       "        38.47128778,  35.90835338,  33.64478822,  31.63463391,\n",
       "        29.84007013,  28.22992069,  26.7783955 ,  25.46406272,\n",
       "        24.26902141,  23.17823986,  22.17902754,  21.26061326,\n",
       "        20.41380728,  19.63072966,  18.90459087,  18.22951385,\n",
       "        17.60038886,  17.0127546 ,  16.4627003 ,  15.94678469,\n",
       "        15.46196862,  15.00555881,  14.57516064,  14.16863833,\n",
       "        13.78408131,  13.41977558,  13.07417933,  12.74590203,\n",
       "        12.43368648,  12.13639335,  11.85298779,  11.58252779,\n",
       "        11.32415409,  11.07708134,  10.84059037,  10.61402142,\n",
       "        10.39676814,  10.18827235,   9.98801936,   9.79553381,\n",
       "         9.61037607,   9.4321389 ,   9.26044456,   9.09494218,\n",
       "         8.93530546,   8.78123052,   8.63243405,   8.48865157,\n",
       "         8.34963593,   8.21515592,   8.08499495,   7.95895002,\n",
       "         7.83683056,   7.71845758,   7.60366278,   7.49228774,\n",
       "         7.38418325,   7.27920863,   7.17723112,   7.07812536,\n",
       "         6.98177286,   6.88806155,   6.79688533,   6.70814372,\n",
       "         6.62174145,   6.53758815,   6.45559804,   6.37568963,\n",
       "         6.29778547,   6.2218119 ,   6.14769882,   6.07537946,\n",
       "         6.00479022,   5.93587046,   5.86856233,   5.80281062,\n",
       "         5.73856262,   5.67576795,   5.61437847,   5.55434814,\n",
       "         5.49563287,   5.43819051,   5.38198065,   5.32696458,\n",
       "         5.27310519,   5.22036689,   5.16871554,   5.11811837])"
      ]
     },
     "execution_count": 22,
     "metadata": {},
     "output_type": "execute_result"
    }
   ],
   "source": [
    "lc"
   ]
  },
  {
   "cell_type": "code",
   "execution_count": null,
   "metadata": {},
   "outputs": [],
   "source": []
  }
 ],
 "metadata": {
  "kernelspec": {
   "display_name": "Python 3",
   "language": "python",
   "name": "python3"
  },
  "language_info": {
   "codemirror_mode": {
    "name": "ipython",
    "version": 3
   },
   "file_extension": ".py",
   "mimetype": "text/x-python",
   "name": "python",
   "nbconvert_exporter": "python",
   "pygments_lexer": "ipython3",
   "version": "3.7.2"
  }
 },
 "nbformat": 4,
 "nbformat_minor": 2
}
