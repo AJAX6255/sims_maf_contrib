{
 "cells": [
  {
   "cell_type": "markdown",
   "metadata": {},
   "source": [
    "# TDEsMonteMetric\n",
    "\n",
    "\n",
    "This notebook demonstrates how to use TDEsMonteMetric which calculate what fraction of an input TDE lightcurve would be detected. Paired with a spatial slicer, you can obtain the skymap or the observed light curve. \n"
   ]
  },
  {
   "cell_type": "code",
   "execution_count": 1,
   "metadata": {},
   "outputs": [],
   "source": [
    "%matplotlib inline\n",
    "\n",
    "import os\n",
    "import numpy as np\n",
    "import matplotlib.pylab as plt\n",
    "\n",
    "import healpy as hp\n",
    "#import pandas as pd\n",
    "\n",
    "import lsst.sims.maf.metrics as metrics\n",
    "import lsst.sims.maf.slicers as slicers\n",
    "import lsst.sims.maf.metricBundles as metricBundles\n",
    "import lsst.sims.maf.db as db\n",
    "import lsst.sims.maf.plots as plots\n",
    "\n",
    "from lsst.utils import getPackageDir"
   ]
  },
  {
   "cell_type": "code",
   "execution_count": 2,
   "metadata": {},
   "outputs": [],
   "source": [
    "# import metric from mafContrib\n",
    "from mafContrib import TDEsMonteMetric"
   ]
  },
  {
   "cell_type": "markdown",
   "metadata": {},
   "source": [
    "\n"
   ]
  },
  {
   "cell_type": "markdown",
   "metadata": {},
   "source": []
  },
  {
   "cell_type": "markdown",
   "metadata": {},
   "source": [
    "The lightcurve template is stored in an ascii file [TDEfaintfast_z0.1.dat](https://github.com/lsst_nonproject/sims_maf_contrib/data/tde/TDEfaintfast_z0.1.dat)."
   ]
  },
  {
   "cell_type": "code",
   "execution_count": 3,
   "metadata": {},
   "outputs": [],
   "source": [
    "# light curve file\n",
    "asciifile = os.path.join(getPackageDir('sims_maf_contrib'), 'data', 'tde', 'TDEfaintfast_z0.1.dat')\n",
    "\n",
    "# query columns \n",
    "mjdCol = 'observationStartMJD'\n",
    "m5Col = 'fiveSigmaDepth'\n",
    "filterCol = 'filter'\n",
    "detectSNR={'u': 5, 'g': 5, 'r': 5, 'i': 5, 'z': 5, 'y': 5}\n",
    "\n",
    "# set event rate\n",
    "eventRate = .3\n",
    "\n",
    "# set light curve parameters\n",
    "epochStart = -22\n",
    "peakEpoch = 0\n",
    "nearPeakT = 10\n",
    "postPeakT = 14 # two weeks\n",
    "\n",
    "#requirements for TDE_pop_color\n",
    "nObsTotal_color = {'u': 0, 'g': 0, 'r': 0, 'i': 0, 'z': 0, 'y': 0}\n",
    "nObsPrePeak_color = 1\n",
    "nObsNearPeak_color = {'u': 0, 'g': 0, 'r': 0, 'i': 0, 'z': 0, 'y': 0}\n",
    "nFiltersNearPeak_color = 3\n",
    "nObsPostPeak_color = {'u': 0, 'g': 0, 'r': 0, 'i': 0, 'z': 0, 'y': 0} \n",
    "nFiltersPostPeak_color = 2\n",
    "\n",
    "#requirements for TDE_pop_color+u\n",
    "nObsTotal_u = {'u': 0, 'g': 0, 'r': 0, 'i': 0, 'z': 0, 'y': 0}\n",
    "nObsPrePeak_u = 1 #1 obs pre-peak is probably quite neccesary though\n",
    "nObsNearPeak_u = {'u': 1, 'g': 0, 'r': 1, 'i': 0, 'z': 0, 'y': 0}\n",
    "nFiltersNearPeak_u = 0\n",
    "nObsPostPeak_u = {'u': 1, 'g': 0, 'r': 1, 'i': 0, 'z': 0, 'y': 0}\n",
    "nFiltersPostPeak_u = 0\n",
    "\n"
   ]
  },
  {
   "cell_type": "markdown",
   "metadata": {},
   "source": [
    "Let's plot the light curve template. "
   ]
  },
  {
   "cell_type": "code",
   "execution_count": 4,
   "metadata": {},
   "outputs": [],
   "source": [
    "# plot light curve\n",
    "def plotlc(dataSlice, time_key='time', mag_key='mag', filter_key='filter', err_key = None,\n",
    "          peakEpoch=None, nearPeakT=None, postPeakT=None):\n",
    "    # Input: dataSlice, pandas DataFrame or numpy ndarray\n",
    "    \n",
    "    colors = {'u': 'indigo', 'g': 'mediumvioletred', 'r': 'red', 'i': 'orange', 'z': 'limegreen', 'y': 'teal'}\n",
    "    \n",
    "    plt.figure(figsize=(10, 6))\n",
    "    \n",
    "    for f in np.unique(dataSlice[filter_key]):\n",
    "        fmatch = dataSlice[filter_key]==f\n",
    "        time = dataSlice[time_key][fmatch]\n",
    "        mag = dataSlice[mag_key][fmatch]\n",
    "        \n",
    "        # draw a vertical line to denote pre/near/post peak\n",
    "        if peakEpoch!=None:\n",
    "            plt.axvline(x=peakEpoch, linestyle='-', linewidth=1, color='k', alpha=0.1)\n",
    "            plt.axvline(x=peakEpoch-nearPeakT/2, linestyle='--', linewidth=1, color='k', alpha=0.1)\n",
    "            plt.axvline(x=peakEpoch+nearPeakT/2, linestyle='--', linewidth=1, color='k', alpha=0.1)\n",
    "            plt.axvline(x=peakEpoch+nearPeakT/2+postPeakT, linestyle='dotted', linewidth=1, color='k', alpha=0.1)\n",
    "        \n",
    "        if err_key!=None:\n",
    "            mag_err = dataSlice[err_key][fmatch]\n",
    "            plt.errorbar(time, mag, yerr=mag_err, color=colors[f], fmt='.', label=f)\n",
    "        else:\n",
    "            plt.scatter(time, mag, color=colors[f], marker='.', label=f)\n",
    "\n",
    "    plt.legend()\n",
    "    plt.xlabel('days')\n",
    "    plt.ylabel('mag')\n",
    "    plt.ylim(plt.ylim()[::-1])"
   ]
  },
  {
   "cell_type": "code",
   "execution_count": 5,
   "metadata": {
    "scrolled": false
   },
   "outputs": [
    {
     "name": "stderr",
     "output_type": "stream",
     "text": [
      "/Users/yoachim/lsst/python/miniconda3-4.5.12/envs/lsst-scipipe-1172c30/lib/python3.7/site-packages/matplotlib/figure.py:445: UserWarning: Matplotlib is currently using agg, which is a non-GUI backend, so cannot show the figure.\n",
      "  % get_backend())\n"
     ]
    }
   ],
   "source": [
    "asciifile = '../../data/tde/TDEfaintfast_z0.1.dat'\n",
    "\n",
    "lcv_template = np.genfromtxt(asciifile, dtype=[('ph', 'f8'), ('mag', 'f8'), ('flt', 'U1')])\n",
    "\n",
    "#df = pd.DataFrame()\n",
    "#df['ph'] = lcv_template['ph']\n",
    "#df['mag'] = lcv_template['mag']\n",
    "#df['flt'] = lcv_template['flt']\n",
    "\n",
    "plotlc(lcv_template, time_key='ph', mag_key='mag', filter_key='flt', \n",
    "       peakEpoch=peakEpoch, nearPeakT=nearPeakT, postPeakT=postPeakT)\n",
    "\n",
    "plt.xlabel('epoch [days] \\n An example of an input lightcurve template. \\n' )\n",
    "plt.show()"
   ]
  },
  {
   "cell_type": "markdown",
   "metadata": {},
   "source": [
    "## Opsim database"
   ]
  },
  {
   "cell_type": "markdown",
   "metadata": {},
   "source": [
    "Connect to opsim database and get the proposalId"
   ]
  },
  {
   "cell_type": "code",
   "execution_count": 6,
   "metadata": {},
   "outputs": [
    {
     "data": {
      "text/plain": [
       "({0: 'Other',\n",
       "  1: 'WFD',\n",
       "  2: 'DD:290',\n",
       "  3: 'DD:COSMOS',\n",
       "  4: 'DD:ECDFS',\n",
       "  5: 'DD:XMM-LSS',\n",
       "  6: 'DD:ELAISS1'},\n",
       " {'WFD': [1], 'DD': [2, 3, 4, 5, 6], 'NES': []})"
      ]
     },
     "execution_count": 6,
     "metadata": {},
     "output_type": "execute_result"
    }
   ],
   "source": [
    "# connect to opsim database\n",
    "opsdb_baseline = db.OpsimDatabase('baseline_v1.4_10yrs.db')\n",
    "opsdb_baseline.fetchPropInfo()"
   ]
  },
  {
   "cell_type": "code",
   "execution_count": 7,
   "metadata": {},
   "outputs": [],
   "source": [
    "# output directory\n",
    "outDir = 'TDE_example'\n",
    "resultsDb = db.ResultsDb(outDir=outDir)"
   ]
  },
  {
   "cell_type": "code",
   "execution_count": 8,
   "metadata": {},
   "outputs": [],
   "source": [
    "# query columns \n",
    "mjdCol = 'observationStartMJD'\n",
    "m5Col = 'fiveSigmaDepth'\n",
    "filterCol = 'filter'\n",
    "detectSNR={'u': 5, 'g': 5, 'r': 5, 'i': 5, 'z': 5, 'y': 5}\n",
    "\n",
    "# set event rate\n",
    "eventRate = .3\n",
    "\n",
    "# set light curve parameters\n",
    "epochStart = -22\n",
    "peakEpoch = 0\n",
    "nearPeakT = 10\n",
    "postPeakT = 14 # two weeks"
   ]
  },
  {
   "cell_type": "code",
   "execution_count": 9,
   "metadata": {},
   "outputs": [],
   "source": [
    "#requirements for TDE_pop_color\n",
    "nObsTotal_color = {'u': 0, 'g': 0, 'r': 0, 'i': 0, 'z': 0, 'y': 0}\n",
    "nObsPrePeak_color = 1\n",
    "nObsNearPeak_color = {'u': 0, 'g': 0, 'r': 0, 'i': 0, 'z': 0, 'y': 0}\n",
    "nFiltersNearPeak_color = 3\n",
    "nObsPostPeak_color = {'u': 0, 'g': 0, 'r': 0, 'i': 0, 'z': 0, 'y': 0} \n",
    "nFiltersPostPeak_color = 2\n",
    "\n",
    "#requirements for TDE_pop_color+u\n",
    "nObsTotal_u = {'u': 0, 'g': 0, 'r': 0, 'i': 0, 'z': 0, 'y': 0}\n",
    "nObsPrePeak_u = 1 #1 obs pre-peak is probably quite neccesary though\n",
    "nObsNearPeak_u = {'u': 1, 'g': 0, 'r': 1, 'i': 0, 'z': 0, 'y': 0}\n",
    "nFiltersNearPeak_u = 0\n",
    "nObsPostPeak_u = {'u': 1, 'g': 0, 'r': 1, 'i': 0, 'z': 0, 'y': 0}\n",
    "nFiltersPostPeak_u = 0\n"
   ]
  },
  {
   "cell_type": "code",
   "execution_count": 10,
   "metadata": {},
   "outputs": [
    {
     "name": "stdout",
     "output_type": "stream",
     "text": [
      "Finish initializing metric\n",
      "Healpix slicer using NSIDE=16, approximate resolution 219.871130 arcminutes\n",
      "Querying database SummaryAllProps with constraint night<365 for columns ['fiveSigmaDepth', 'fieldDec', 'fieldRA', 'observationStartMJD', 'filter']\n",
      "Found 225012 visits\n",
      "Running:  ['transmetricSky']\n",
      "Completed metric generation.\n",
      "Running reduce methods.\n",
      "Running summary statistics.\n",
      "Completed.\n",
      "Plotting figures with \"night<365\" constraint now.\n",
      "monopole: 0.0421738  dipole: lon: -169.35, lat: -20.8652, amp: 0.0567985\n",
      "Plotting complete.\n"
     ]
    }
   ],
   "source": [
    "transmetric = TDEsMonteMetric(asciifilelist=[asciifile], mjdCol=mjdCol, m5Col=m5Col, filterCol=filterCol, \n",
    "                              detectSNR=detectSNR, eventRate=eventRate,\n",
    "                              epochStart=epochStart, peakEpoch=peakEpoch, \n",
    "                              nearPeakT=nearPeakT, postPeakT=postPeakT,\n",
    "                              nObsTotal= nObsTotal_color, nObsPrePeak=nObsPrePeak_color, \n",
    "                              nObsNearPeak=nObsNearPeak_color, nFiltersNearPeak=nFiltersNearPeak_color, \n",
    "                              nObsPostPeak=nObsPostPeak_color, nFiltersPostPeak=nFiltersPostPeak_color,\n",
    "                              dataout=False)\n",
    "\n",
    "slicer = slicers.HealpixSlicer(nside=16) \n",
    "sqlconstraint = 'night<365' #this is for one year only!\n",
    "\n",
    "transmetricSky = metricBundles.MetricBundle(transmetric,slicer,sqlconstraint)\n",
    "\n",
    "group = metricBundles.MetricBundleGroup({'transmetricSky':transmetricSky}, opsdb_baseline, outDir=outDir, \n",
    "                                        resultsDb=resultsDb)\n",
    "group.runAll()\n",
    "group.plotAll(closefigs=False)"
   ]
  },
  {
   "cell_type": "code",
   "execution_count": null,
   "metadata": {},
   "outputs": [],
   "source": []
  },
  {
   "cell_type": "code",
   "execution_count": null,
   "metadata": {},
   "outputs": [],
   "source": []
  }
 ],
 "metadata": {
  "kernelspec": {
   "display_name": "Python 3",
   "language": "python",
   "name": "python3"
  },
  "language_info": {
   "codemirror_mode": {
    "name": "ipython",
    "version": 3
   },
   "file_extension": ".py",
   "mimetype": "text/x-python",
   "name": "python",
   "nbconvert_exporter": "python",
   "pygments_lexer": "ipython3",
   "version": "3.7.2"
  }
 },
 "nbformat": 4,
 "nbformat_minor": 2
}
