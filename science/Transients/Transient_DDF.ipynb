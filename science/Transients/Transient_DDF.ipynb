{
 "cells": [
  {
   "cell_type": "markdown",
   "metadata": {},
   "source": [
    "An example of using the plasticc light curves to put lots of transients around a DDF location."
   ]
  },
  {
   "cell_type": "code",
   "execution_count": 1,
   "metadata": {},
   "outputs": [
    {
     "name": "stderr",
     "output_type": "stream",
     "text": [
      "/Users/yoachim/lsstp3/python/miniconda3-4.3.21/lib/python3.6/site-packages/matplotlib/__init__.py:1405: UserWarning: \n",
      "This call to matplotlib.use() has no effect because the backend has already\n",
      "been chosen; matplotlib.use() must be called *before* pylab, matplotlib.pyplot,\n",
      "or matplotlib.backends is imported for the first time.\n",
      "\n",
      "  warnings.warn(_use_error_msg)\n",
      "/Users/yoachim/lsstp3/python/miniconda3-4.3.21/lib/python3.6/site-packages/matplotlib/__init__.py:1405: UserWarning: \n",
      "This call to matplotlib.use() has no effect because the backend has already\n",
      "been chosen; matplotlib.use() must be called *before* pylab, matplotlib.pyplot,\n",
      "or matplotlib.backends is imported for the first time.\n",
      "\n",
      "  warnings.warn(_use_error_msg)\n"
     ]
    }
   ],
   "source": [
    "%matplotlib inline\n",
    "import numpy as np\n",
    "import matplotlib.pyplot as plt\n",
    "import lsst.sims.maf.db as db\n",
    "import lsst.sims.maf.utils as utils\n",
    "import lsst.sims.maf.metrics as metrics\n",
    "import lsst.sims.maf.slicers as slicers\n",
    "import lsst.sims.maf.metricBundles as metricBundles\n",
    "import lsst.sims.maf.plots as plots\n",
    "from mafContrib import Plasticc_metric, plasticc_slicer\n",
    "from lsst.sims.utils import _healbin\n",
    "import healpy as hp\n",
    "from lsst.sims.featureScheduler.surveys import generate_dd_surveys\n"
   ]
  },
  {
   "cell_type": "code",
   "execution_count": 2,
   "metadata": {},
   "outputs": [],
   "source": [
    "runName = 'baseline_1exp_pairsmix_10yrs'\n",
    "#runName = 'roll_mod3_sdf0.20mixed_10yrs'\n",
    "#runName = 'very_alt3_rm5illum20_10yrs'\n",
    "#This next command assumes you have downloaded baseline2018a.db into the tutorials directory in this repo.\n",
    "#Change this path according to your datbase and where it is saved.\n",
    "opsdb = db.OpsimDatabase(runName+'.db')\n",
    "outDir = 'temp'\n",
    "resultsDb = db.ResultsDb(outDir=outDir)"
   ]
  },
  {
   "cell_type": "code",
   "execution_count": 3,
   "metadata": {},
   "outputs": [],
   "source": [
    "ddf_surveys = generate_dd_surveys()\n",
    "survey = ddf_surveys[0]"
   ]
  },
  {
   "cell_type": "code",
   "execution_count": 4,
   "metadata": {},
   "outputs": [
    {
     "data": {
      "text/plain": [
       "'DD:ELAISS1'"
      ]
     },
     "execution_count": 4,
     "metadata": {},
     "output_type": "execute_result"
    }
   ],
   "source": [
    "ddf_surveys[0].survey_name"
   ]
  },
  {
   "cell_type": "code",
   "execution_count": null,
   "metadata": {},
   "outputs": [],
   "source": [
    "bundleList = []\n",
    "slicer = plasticc_slicer(model='SNIa-normal', seed=42,\n",
    "                                         ra_cen=survey.ra, dec_cen=survey.dec, radius=np.radians(3.))\n",
    "metric = Plasticc_metric(metricName=survey.survey_name+' SNIa')\n",
    "sql = ''\n",
    "summary_stats = [metrics.MeanMetric(maskVal=0)]\n",
    "plotFuncs = [plots.HealpixSkyMap()]\n",
    "bundle = metricBundles.MetricBundle(metric, slicer, sql, runName=runName, summaryMetrics=summary_stats,\n",
    "                         plotFuncs=plotFuncs)\n",
    "bundleList.append(bundle)"
   ]
  },
  {
   "cell_type": "code",
   "execution_count": null,
   "metadata": {},
   "outputs": [
    {
     "name": "stdout",
     "output_type": "stream",
     "text": [
      "Querying database SummaryAllProps with no constraint for columns ['observationStartMJD', 'filter', 'fieldRA', 'fiveSigmaDepth', 'fieldDec'].\n"
     ]
    }
   ],
   "source": [
    "bundleDict = metricBundles.makeBundlesDictFromList(bundleList)\n",
    "bgroup = metricBundles.MetricBundleGroup(bundleDict, opsdb, outDir=outDir, resultsDb=resultsDb)\n",
    "bgroup.runAll()"
   ]
  },
  {
   "cell_type": "code",
   "execution_count": null,
   "metadata": {},
   "outputs": [],
   "source": [
    "bgroup.plotAll(closefigs=False)"
   ]
  },
  {
   "cell_type": "code",
   "execution_count": null,
   "metadata": {},
   "outputs": [],
   "source": [
    "# bundleDict['DD:ELAISS1 SNIa_WellSampled'].metricValues\n",
    "nside = 1024\n",
    "data = _healbin(slicer.slicePoints['ra'], slicer.slicePoints['dec'],\n",
    "                                   bundleDict['DD:ELAISS1 SNIa_WellSampled'].metricValues, nside=nside,\n",
    "                                   reduceFunc=np.mean, fillVal=slicer.badval)"
   ]
  },
  {
   "cell_type": "code",
   "execution_count": null,
   "metadata": {},
   "outputs": [],
   "source": [
    "plt.scatter(np.degrees(slicer.slicePoints['ra']), np.degrees(slicer.slicePoints['dec']), alpha=.5,c=bundleDict['DD:ELAISS1 SNIa_WellSampled'].metricValues)"
   ]
  },
  {
   "cell_type": "code",
   "execution_count": null,
   "metadata": {},
   "outputs": [],
   "source": [
    "rot = (np.degrees(survey.ra), np.degrees(survey.dec))\n",
    "hp.gnomview(data, rot=rot)"
   ]
  },
  {
   "cell_type": "code",
   "execution_count": null,
   "metadata": {},
   "outputs": [],
   "source": []
  },
  {
   "cell_type": "code",
   "execution_count": null,
   "metadata": {},
   "outputs": [],
   "source": [
    "np.where(data > 0)"
   ]
  },
  {
   "cell_type": "code",
   "execution_count": null,
   "metadata": {},
   "outputs": [],
   "source": []
  }
 ],
 "metadata": {
  "kernelspec": {
   "display_name": "Python 3",
   "language": "python",
   "name": "python3"
  }
 },
 "nbformat": 4,
 "nbformat_minor": 2
}
