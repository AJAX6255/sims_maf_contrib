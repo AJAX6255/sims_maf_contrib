{
 "cells": [
  {
   "cell_type": "code",
   "execution_count": null,
   "metadata": {},
   "outputs": [],
   "source": [
    "%matplotlib inline\n",
    "import numpy as np\n",
    "import matplotlib.pyplot as plt\n",
    "import lsst.sims.maf.db as db\n",
    "import lsst.sims.maf.utils as utils\n",
    "import lsst.sims.maf.metrics as metrics\n",
    "import lsst.sims.maf.slicers as slicers\n",
    "import lsst.sims.maf.metricBundles as metricBundles\n",
    "from mafContrib import Plasticc_metric, plasticc_slicer\n",
    "from lsst.sims.utils import _healbin\n",
    "import healpy as hp"
   ]
  },
  {
   "cell_type": "code",
   "execution_count": null,
   "metadata": {},
   "outputs": [],
   "source": [
    "#runName = 'baseline_1exp_pairsmix_10yrs'\n",
    "runName = 'roll_mod3_sdf0.20mixed_10yrs.db'\n",
    "#runName = 'very_alt3_rm5illum20_10yrs'\n",
    "#This next command assumes you have downloaded baseline2018a.db into the tutorials directory in this repo.\n",
    "#Change this path according to your datbase and where it is saved.\n",
    "opsdb = db.OpsimDatabase(runName+'.db')\n",
    "outDir = 'temp'\n",
    "resultsDb = db.ResultsDb(outDir=outDir)"
   ]
  },
  {
   "cell_type": "code",
   "execution_count": null,
   "metadata": {},
   "outputs": [],
   "source": [
    "bundleList = []\n",
    "sql=''\n",
    "slicer1 = plasticc_slicer(model='SNIa-normal')\n",
    "slicer2 = plasticc_slicer(model='KN', seed=43)\n"
   ]
  },
  {
   "cell_type": "code",
   "execution_count": null,
   "metadata": {},
   "outputs": [],
   "source": [
    "metric = Plasticc_metric(metricName='SNIa')\n",
    "# Set the maskval so that we count missing objects as zero.\n",
    "summary_stats = [metrics.MeanMetric(maskVal=0)]\n",
    "bundle = metricBundles.MetricBundle(metric, slicer1, sql, runName=runName, summaryMetrics=summary_stats)\n",
    "bundleList.append(bundle)\n",
    "\n",
    "metric = Plasticc_metric(metricName='KN')\n",
    "bundle = metricBundles.MetricBundle(metric, slicer2, sql, runName=runName, summaryMetrics=summary_stats)\n",
    "bundleList.append(bundle)\n",
    "\n"
   ]
  },
  {
   "cell_type": "code",
   "execution_count": null,
   "metadata": {},
   "outputs": [],
   "source": [
    "bundleDict = metricBundles.makeBundlesDictFromList(bundleList)\n",
    "bgroup = metricBundles.MetricBundleGroup(bundleDict, opsdb, outDir=outDir, resultsDb=resultsDb)\n",
    "bgroup.runAll()"
   ]
  },
  {
   "cell_type": "code",
   "execution_count": null,
   "metadata": {},
   "outputs": [],
   "source": [
    "bgroup.plotAll(closefigs=False)"
   ]
  },
  {
   "cell_type": "code",
   "execution_count": null,
   "metadata": {},
   "outputs": [],
   "source": [
    "for key in bundleDict:\n",
    "    print(key, bundleDict[key].summaryValues)\n"
   ]
  },
  {
   "cell_type": "code",
   "execution_count": null,
   "metadata": {},
   "outputs": [],
   "source": [
    "ack = _healbin(slicer1.slicePoints['ra'],slicer1.slicePoints['dec'],\n",
    "               bundleDict['SNIa_WellFit'].metricValues, nside=8,\n",
    "               reduceFunc=np.sum)\n",
    "              "
   ]
  },
  {
   "cell_type": "code",
   "execution_count": null,
   "metadata": {},
   "outputs": [],
   "source": [
    "hp.mollview(ack)"
   ]
  },
  {
   "cell_type": "code",
   "execution_count": null,
   "metadata": {},
   "outputs": [],
   "source": []
  },
  {
   "cell_type": "code",
   "execution_count": null,
   "metadata": {},
   "outputs": [],
   "source": [
    "plt.plot(slicer2.slicePoints['plc'][0]['r']['mjd'], -2.5*np.log10(slicer2.slicePoints['plc'][0]['r']['fluxcal'])+27.5 )\n",
    "plt.ylim([35,19])"
   ]
  },
  {
   "cell_type": "code",
   "execution_count": null,
   "metadata": {},
   "outputs": [],
   "source": []
  }
 ],
 "metadata": {
  "kernelspec": {
   "display_name": "Python 3",
   "language": "python",
   "name": "python3"
  },
  "language_info": {
   "codemirror_mode": {
    "name": "ipython",
    "version": 3
   },
   "file_extension": ".py",
   "mimetype": "text/x-python",
   "name": "python",
   "nbconvert_exporter": "python",
   "pygments_lexer": "ipython3",
   "version": "3.6.2"
  }
 },
 "nbformat": 4,
 "nbformat_minor": 2
}
