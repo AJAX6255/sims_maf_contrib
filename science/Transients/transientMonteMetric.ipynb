{
 "cells": [
  {
   "cell_type": "markdown",
   "metadata": {},
   "source": [
    "Let's run a Monte Carlo with a new transient metric that computes some agregate of transient properties"
   ]
  },
  {
   "cell_type": "code",
   "execution_count": 1,
   "metadata": {
    "collapsed": false
   },
   "outputs": [
    {
     "name": "stderr",
     "output_type": "stream",
     "text": [
      "/Users/yoachim/lsst/DarwinX86/anaconda/2.2.0/lib/python2.7/site-packages/matplotlib/font_manager.py:273: UserWarning: Matplotlib is building the font cache using fc-list. This may take a moment.\n",
      "  warnings.warn('Matplotlib is building the font cache using fc-list. This may take a moment.')\n"
     ]
    }
   ],
   "source": [
    "%matplotlib inline\n",
    "import numpy as np\n",
    "import matplotlib.pyplot as plt\n",
    "import lsst.sims.maf.db as db\n",
    "import lsst.sims.maf.utils as utils\n",
    "import lsst.sims.maf.metrics as metrics\n",
    "import lsst.sims.maf.slicers as slicers\n",
    "import lsst.sims.maf.metricBundles as metricBundles"
   ]
  },
  {
   "cell_type": "code",
   "execution_count": 3,
   "metadata": {
    "collapsed": false
   },
   "outputs": [],
   "source": [
    "class TransientMonteMetric(metrics.BaseMetric):\n",
    "    \"\"\"\n",
    "    Generate a population of transient objects and see what fraction are detected\n",
    "    \"\"\"\n",
    "    \n",
    "    def __init__(self, metricName='TransientMonteMetric', mjdCol='expMJD', m5Col='fiveSigmaDepth',\n",
    "                 filterCol='filter', duration=10., slope=3., **kwargs):\n",
    "        self.mjdCol = mjdCol\n",
    "        self.m5Col = m5Col\n",
    "        self.filterCol = filterCol\n",
    "        super(TransientMonteMetric, self).__init__(col=[self.mjdCol, self.m5Col, self.filterCol],\n",
    "                                                  units='Fraction Detected',\n",
    "                                                  metricName=metricName, **kwargs)\n",
    "        # Properties of the transient object\n",
    "        self.duration = duration\n",
    "        self.slope = slope\n",
    "        \n",
    "    def lightCurve(self, t0, m_r_0, times, filters):\n",
    "        \"\"\"\n",
    "        Let's say this is a simple object that pops up and linearly decays for 10 days\n",
    "        \n",
    "        t0:  mjd of initial detection\n",
    "        m_r_0: initial r-band brightness\n",
    "        times: array of mjd\n",
    "        \"\"\"\n",
    "        \n",
    "        \n",
    "        \n",
    "        \n",
    "    def run(self,  dataSlice, slicePoint=None):\n",
    "        \n",
    "        # Make a distribution of objects\n",
    "        \n",
    "        objRate = 1 # Expect 1 to go off per day\n",
    "        # Define the magnitude distribution\n",
    "        \n",
    "        "
   ]
  },
  {
   "cell_type": "code",
   "execution_count": null,
   "metadata": {
    "collapsed": true
   },
   "outputs": [],
   "source": []
  }
 ],
 "metadata": {
  "kernelspec": {
   "display_name": "Python 2",
   "language": "python",
   "name": "python2"
  },
  "language_info": {
   "codemirror_mode": {
    "name": "ipython",
    "version": 2
   },
   "file_extension": ".py",
   "mimetype": "text/x-python",
   "name": "python",
   "nbconvert_exporter": "python",
   "pygments_lexer": "ipython2",
   "version": "2.7.11"
  }
 },
 "nbformat": 4,
 "nbformat_minor": 0
}
