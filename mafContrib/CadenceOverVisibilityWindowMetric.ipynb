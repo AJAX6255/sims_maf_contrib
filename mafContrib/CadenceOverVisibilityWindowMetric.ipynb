{
 "cells": [
  {
   "cell_type": "markdown",
   "metadata": {},
   "source": [
    "# Metric to evaluate the cadence of observations over a visibility window"
   ]
  },
  {
   "cell_type": "markdown",
   "metadata": {},
   "source": [
    "## Motivation:\n",
    "Science applications often require that repeated observations of a given field in a given filter take place at intervals dictated by the phenomenon being studied.  However in practice these regularity of observations must take the field visibility into account, since intervals will necessarily be longer while the target is unobservable. \n",
    "\n",
    "The goal of this metric is to calculate the desired number of observations as a function of time, and to compare this with the achieved number of observations.  "
   ]
  },
  {
   "cell_type": "code",
   "execution_count": 3,
   "metadata": {},
   "outputs": [],
   "source": [
    "from __future__ import print_function\n",
    "import numpy as np \n",
    "import matplotlib.pyplot as plt\n",
    "%matplotlib inline\n",
    "import lsst.sims.maf.db as db\n",
    "import lsst.sims.maf.metrics as metrics\n",
    "import lsst.sims.maf.slicers as slicers\n",
    "import lsst.sims.maf.metricBundles as metricBundles\n",
    "from lsst.sims.maf.metrics import BaseMetric\n",
    "import calc_expected_visits"
   ]
  },
  {
   "cell_type": "code",
   "execution_count": 4,
   "metadata": {},
   "outputs": [],
   "source": [
    "import numpy as np\n",
    "import matplotlib.pyplot as plt\n",
    "from astropy.visualization import astropy_mpl_style\n",
    "plt.style.use(astropy_mpl_style)\n",
    "import astropy.units as u\n",
    "from astropy.time import Time, TimeDelta\n",
    "from astropy.coordinates import SkyCoord, EarthLocation, AltAz\n",
    "from astropy.coordinates import get_sun\n",
    "from astropy.coordinates import get_moon"
   ]
  },
  {
   "cell_type": "code",
   "execution_count": 5,
   "metadata": {},
   "outputs": [],
   "source": [
    "obsdb = db.OpsimDatabase('../../tutorials/baseline2018a.db')\n",
    "outputDir = '/home/docmaf/'\n",
    "resultsDb = db.ResultsDb(outDir=outputDir)"
   ]
  },
  {
   "cell_type": "code",
   "execution_count": 6,
   "metadata": {},
   "outputs": [
    {
     "name": "stdout",
     "output_type": "stream",
     "text": [
      "{'WFD': [3], 'DD': [5], 'NES': [1]}\n",
      "{1: 'NorthEclipticSpur', 2: 'SouthCelestialPole', 3: 'WideFastDeep', 4: 'GalacticPlane', 5: 'DeepDrillingCosmology1'}\n"
     ]
    }
   ],
   "source": [
    "propids, proptags = obsdb.fetchPropInfo()\n",
    "ddWhere = obsdb.createSQLWhere('DD',proptags)\n",
    "print(proptags)\n",
    "print(propids)"
   ]
  },
  {
   "cell_type": "code",
   "execution_count": 7,
   "metadata": {},
   "outputs": [
    {
     "name": "stdout",
     "output_type": "stream",
     "text": [
      "Config ['configId', 'Session_sessionId', 'paramName', 'paramValue']\n",
      "Field ['fieldId', 'Session_sessionId', 'fov', 'ra', 'dec', 'gl', 'gb', 'el', 'eb']\n",
      "ObsExposures ['exposureId', 'Session_sessionId', 'exposureNum', 'exposureStartTime', 'exposureTime', 'ObsHistory_observationId']\n",
      "ObsHistory ['observationId', 'Session_sessionId', 'night', 'observationStartTime', 'observationStartMJD', 'observationStartLST', 'TargetHistory_targetId', 'Field_fieldId', 'groupId', 'filter', 'ra', 'dec', 'angle', 'altitude', 'azimuth', 'numExposures', 'visitTime', 'visitExposureTime', 'airmass', 'skyBrightness', 'cloud', 'seeingFwhm500', 'seeingFwhmGeom', 'seeingFwhmEff', 'fiveSigmaDepth', 'moonRA', 'moonDec', 'moonAlt', 'moonAz', 'moonDistance', 'moonPhase', 'sunRA', 'sunDec', 'sunAlt', 'sunAz', 'solarElong']\n",
      "ObsProposalHistory ['propHistId', 'Session_sessionId', 'Proposal_propId', 'proposalValue', 'proposalNeed', 'proposalBonus', 'proposalBoost', 'ObsHistory_observationId']\n",
      "Proposal ['propId', 'Session_sessionId', 'propName', 'propType']\n",
      "ProposalField ['propFieldId', 'Session_sessionId', 'Proposal_propId', 'Field_fieldId']\n",
      "ScheduledDowntime ['night', 'Session_sessionId', 'duration', 'activity']\n",
      "Session ['sessionId', 'sessionUser', 'sessionHost', 'sessionDate', 'version', 'runComment']\n",
      "SlewActivities ['slewActivityId', 'Session_sessionId', 'activity', 'activityDelay', 'inCriticalPath', 'SlewHistory_slewCount']\n",
      "SlewFinalState ['slewStateId', 'Session_sessionId', 'slewStateDate', 'targetRA', 'targetDec', 'tracking', 'altitude', 'azimuth', 'paraAngle', 'domeAlt', 'domeAz', 'telAlt', 'telAz', 'rotTelPos', 'rotSkyPos', 'filter', 'SlewHistory_slewCount']\n",
      "SlewHistory ['slewCount', 'Session_sessionId', 'startDate', 'endDate', 'slewTime', 'slewDistance', 'ObsHistory_observationId']\n",
      "SlewInitialState ['slewStateId', 'Session_sessionId', 'slewStateDate', 'targetRA', 'targetDec', 'tracking', 'altitude', 'azimuth', 'paraAngle', 'domeAlt', 'domeAz', 'telAlt', 'telAz', 'rotTelPos', 'rotSkyPos', 'filter', 'SlewHistory_slewCount']\n",
      "SlewMaxSpeeds ['slewMaxSpeedId', 'Session_sessionId', 'domeAltSpeed', 'domeAzSpeed', 'telAltSpeed', 'telAzSpeed', 'rotatorSpeed', 'SlewHistory_slewCount']\n",
      "TargetExposures ['exposureId', 'Session_sessionId', 'exposureNum', 'exposureTime', 'TargetHistory_targetId']\n",
      "TargetHistory ['targetId', 'Session_sessionId', 'Field_fieldId', 'groupId', 'filter', 'requestTime', 'requestMJD', 'ra', 'dec', 'angle', 'numExposures', 'requestedExpTime', 'airmass', 'skyBrightness', 'cloud', 'seeing', 'slewTime', 'cost', 'rank', 'propBoost', 'numRequestingProps', 'moonRA', 'moonDec', 'moonAlt', 'moonAz', 'moonDistance', 'moonPhase', 'sunRA', 'sunDec', 'sunAlt', 'sunAz', 'solarElong']\n",
      "TargetProposalHistory ['propHistId', 'Session_sessionId', 'Proposal_propId', 'proposalValue', 'proposalNeed', 'proposalBonus', 'proposalBoost', 'TargetHistory_targetId']\n",
      "UnscheduledDowntime ['night', 'Session_sessionId', 'duration', 'activity']\n",
      "SummaryAllProps ['observationId', 'night', 'observationStartTime', 'observationStartMJD', 'observationStartLST', 'numExposures', 'visitTime', 'visitExposureTime', 'proposalId', 'fieldId', 'fieldRA', 'fieldDec', 'altitude', 'azimuth', 'filter', 'airmass', 'skyBrightness', 'cloud', 'seeingFwhm500', 'seeingFwhmGeom', 'seeingFwhmEff', 'fiveSigmaDepth', 'slewTime', 'slewDistance', 'paraAngle', 'rotTelPos', 'rotSkyPos', 'moonRA', 'moonDec', 'moonAlt', 'moonAz', 'moonDistance', 'moonPhase', 'sunAlt', 'sunAz', 'solarElong']\n"
     ]
    }
   ],
   "source": [
    "for key, value in obsdb.columnNames.items():\n",
    "    print(key, value)"
   ]
  },
  {
   "cell_type": "code",
   "execution_count": 8,
   "metadata": {},
   "outputs": [],
   "source": [
    "class CadenceOverVisibilityWindowMetric(BaseMetric):\n",
    "    \"\"\"Metric to compare the lightcurve cadence produced by LSST over the visibility window \n",
    "    for a given position in the sky to the desired cadence\"\"\"\n",
    "    \n",
    "    def __init__(self, cols=['fieldRA','fieldDec'], metricName='CadenceOverVisibilityWindowMetric',**kwargs):\n",
    "        \"\"\"Kwargs must contain:\n",
    "        filters  list Filterset over which to compute the metric\n",
    "        cadence  list Cadence desired for each filter in units of decimal hours\n",
    "        start_date string Start of observing window YYYY-MM-DD\n",
    "        end_date string End of observing window YYYY-MM-DD\n",
    "        \"\"\"\n",
    "        \n",
    "        self.ra_col = 'fieldRA'\n",
    "        self.dec_col = 'fieldDec'\n",
    "        self.exp_col = 'visitExposureTime'\n",
    "        self.n_exp_col = 'numExposures'\n",
    "        self.obstime_col = 'observationStartMJD'\n",
    "        self.visittime_col = 'visitTime'\n",
    "        self.metricName = 'CadenceOverVisibilityWindowMetric'\n",
    "        \n",
    "        for key in ['filters', 'cadence', 'start_date', 'end_date']:\n",
    "            if key in kwargs.keys():\n",
    "                setattr(self, key, kwargs[key])\n",
    "            else:\n",
    "                print('ERROR: Missing data for '+key)\n",
    "                exit()\n",
    "                \n",
    "        cols = [ self.ra_col, self.dec_col, self.exp_col, self.n_exp_col, self.obstime_col, self.visittime_col ]\n",
    "        \n",
    "        super(CadenceOverVisibilityWindowMetric,self).__init__(col=cols, metricName=metricName,**kwargs)\n",
    "    \n",
    "    def run(self, dataSlice, slicePoint=None):\n",
    "        \n",
    "        t = np.empty(dataSlice.size, dtype=list(zip(['time','filter'],[float,'|S1'])))\n",
    "        t['time'] = dataSlice[self.mjdCol]\n",
    "        \n",
    "        t_start = Time(start_date+' 00:00:00')\n",
    "        t_end = Time(end_date+' 00:00:00')\n",
    "        n_days = int((t_end - t_start).value)\n",
    "        dates = np.array([t_start + \\\n",
    "                TimeDelta(i,format='jd',scale=None) for i in range(0,n_days,1)])\n",
    "        \n",
    "        result = 0.0\n",
    "        \n",
    "        for i,f in enumerate(self.filters):\n",
    "            \n",
    "            # Array of the number of visits \n",
    "            n_visits_desired = calc_expected_visits.calc_expected_visits(dataSlice[self.ra_col],\n",
    "                                                                         dataSlice[self.dec_col],\n",
    "                                                                         self.cadence[i],\n",
    "                                                                         self.start_date,self.end_date)\n",
    "            \n",
    "            idx = np.where(dataSlice[self.filterCol] == f)\n",
    "            actual_visits_per_filter = dataSlice[self.filterCol][idx]\n",
    "            \n",
    "            n_visits_actual = 0.0\n",
    "            for j,d in enumerate(dates):\n",
    "                \n",
    "                tdx = np.where(actual_visits_per_filter[self.mjdCol] == (d.jd-2400000.5))\n",
    "            \n",
    "                n_visits_actual = float(len(actual_visits_per_filter[tdx]))\n",
    "            \n",
    "                night_efficiency = n_visits_actual / n_visits_desired[j]\n",
    "            \n",
    "                result += night_efficiency\n",
    "                \n",
    "        return result\n"
   ]
  },
  {
   "cell_type": "code",
   "execution_count": 9,
   "metadata": {},
   "outputs": [],
   "source": [
    "propids, proptags = obsdb.fetchPropInfo()\n",
    "wfdWhere = obsdb.createSQLWhere('WFD',proptags)"
   ]
  },
  {
   "cell_type": "code",
   "execution_count": null,
   "metadata": {},
   "outputs": [],
   "source": [
    "params = {'filters': ['g', 'r', 'i', 'z'],\n",
    "          'cadence': [ 168.0, 168.0, 1.0, 168.0 ],\n",
    "          'start_date': '2020-03-01',\n",
    "          'end_date': '2020-04-01'}\n",
    "\n",
    "metric = CadenceOverVisibilityWindowMetric(**params)\n",
    "slicer = slicers.HealpixSlicer(nside=64)\n",
    "sqlconstraint = wfdWhere\n",
    "bundle = metricBundles.MetricBundle(metric, slicer, sqlconstraint)"
   ]
  },
  {
   "cell_type": "code",
   "execution_count": 12,
   "metadata": {},
   "outputs": [
    {
     "name": "stdout",
     "output_type": "stream",
     "text": [
      "Querying database SummaryAllProps with constraint proposalId = 3 for columns ['fieldRA', 'visitTime', 'numExposures', 'fieldDec', 'observationStartMJD', 'visitExposureTime']\n",
      "Found 2049326 visits\n",
      "Running:  [0]\n"
     ]
    },
    {
     "ename": "ValueError",
     "evalue": "shape mismatch: objects cannot be broadcast to a single shape",
     "output_type": "error",
     "traceback": [
      "\u001b[0;31m---------------------------------------------------------------------------\u001b[0m",
      "\u001b[0;31mValueError\u001b[0m                                Traceback (most recent call last)",
      "\u001b[0;32m<ipython-input-12-f35bbea52d3a>\u001b[0m in \u001b[0;36m<module>\u001b[0;34m()\u001b[0m\n\u001b[1;32m      1\u001b[0m \u001b[0mbgroup\u001b[0m \u001b[0;34m=\u001b[0m \u001b[0mmetricBundles\u001b[0m\u001b[0;34m.\u001b[0m\u001b[0mMetricBundleGroup\u001b[0m\u001b[0;34m(\u001b[0m\u001b[0;34m{\u001b[0m\u001b[0;36m0\u001b[0m\u001b[0;34m:\u001b[0m\u001b[0mbundle\u001b[0m\u001b[0;34m}\u001b[0m\u001b[0;34m,\u001b[0m \u001b[0mobsdb\u001b[0m\u001b[0;34m,\u001b[0m \u001b[0moutDir\u001b[0m\u001b[0;34m=\u001b[0m\u001b[0;34m'newmetric_test'\u001b[0m\u001b[0;34m,\u001b[0m\u001b[0mresultsDb\u001b[0m\u001b[0;34m=\u001b[0m\u001b[0mresultsDb\u001b[0m\u001b[0;34m)\u001b[0m\u001b[0;34m\u001b[0m\u001b[0m\n\u001b[0;32m----> 2\u001b[0;31m \u001b[0mbgroup\u001b[0m\u001b[0;34m.\u001b[0m\u001b[0mrunAll\u001b[0m\u001b[0;34m(\u001b[0m\u001b[0;34m)\u001b[0m\u001b[0;34m\u001b[0m\u001b[0m\n\u001b[0m",
      "\u001b[0;32m~/stack/stack/miniconda3-4.5.4-10a4fa6/Linux64/sims_maf/2.9.0.sims/python/lsst/sims/maf/metricBundles/metricBundleGroup.py\u001b[0m in \u001b[0;36mrunAll\u001b[0;34m(self, clearMemory, plotNow, plotKwargs)\u001b[0m\n\u001b[1;32m    204\u001b[0m             \u001b[0mself\u001b[0m\u001b[0;34m.\u001b[0m\u001b[0msetCurrent\u001b[0m\u001b[0;34m(\u001b[0m\u001b[0mconstraint\u001b[0m\u001b[0;34m)\u001b[0m\u001b[0;34m\u001b[0m\u001b[0m\n\u001b[1;32m    205\u001b[0m             self.runCurrent(constraint, clearMemory=clearMemory,\n\u001b[0;32m--> 206\u001b[0;31m                             plotNow=plotNow, plotKwargs=plotKwargs)\n\u001b[0m\u001b[1;32m    207\u001b[0m \u001b[0;34m\u001b[0m\u001b[0m\n\u001b[1;32m    208\u001b[0m     \u001b[0;32mdef\u001b[0m \u001b[0msetCurrent\u001b[0m\u001b[0;34m(\u001b[0m\u001b[0mself\u001b[0m\u001b[0;34m,\u001b[0m \u001b[0mconstraint\u001b[0m\u001b[0;34m)\u001b[0m\u001b[0;34m:\u001b[0m\u001b[0;34m\u001b[0m\u001b[0m\n",
      "\u001b[0;32m~/stack/stack/miniconda3-4.5.4-10a4fa6/Linux64/sims_maf/2.9.0.sims/python/lsst/sims/maf/metricBundles/metricBundleGroup.py\u001b[0m in \u001b[0;36mrunCurrent\u001b[0;34m(self, constraint, simData, clearMemory, plotNow, plotKwargs)\u001b[0m\n\u001b[1;32m    282\u001b[0m             \u001b[0;32mif\u001b[0m \u001b[0mself\u001b[0m\u001b[0;34m.\u001b[0m\u001b[0mverbose\u001b[0m\u001b[0;34m:\u001b[0m\u001b[0;34m\u001b[0m\u001b[0m\n\u001b[1;32m    283\u001b[0m                 \u001b[0mprint\u001b[0m\u001b[0;34m(\u001b[0m\u001b[0;34m'Running: '\u001b[0m\u001b[0;34m,\u001b[0m \u001b[0mcompatibleList\u001b[0m\u001b[0;34m)\u001b[0m\u001b[0;34m\u001b[0m\u001b[0m\n\u001b[0;32m--> 284\u001b[0;31m             \u001b[0mself\u001b[0m\u001b[0;34m.\u001b[0m\u001b[0m_runCompatible\u001b[0m\u001b[0;34m(\u001b[0m\u001b[0mcompatibleList\u001b[0m\u001b[0;34m)\u001b[0m\u001b[0;34m\u001b[0m\u001b[0m\n\u001b[0m\u001b[1;32m    285\u001b[0m             \u001b[0;32mif\u001b[0m \u001b[0mself\u001b[0m\u001b[0;34m.\u001b[0m\u001b[0mverbose\u001b[0m\u001b[0;34m:\u001b[0m\u001b[0;34m\u001b[0m\u001b[0m\n\u001b[1;32m    286\u001b[0m                 \u001b[0mprint\u001b[0m\u001b[0;34m(\u001b[0m\u001b[0;34m'Completed metric generation.'\u001b[0m\u001b[0;34m)\u001b[0m\u001b[0;34m\u001b[0m\u001b[0m\n",
      "\u001b[0;32m~/stack/stack/miniconda3-4.5.4-10a4fa6/Linux64/sims_maf/2.9.0.sims/python/lsst/sims/maf/metricBundles/metricBundleGroup.py\u001b[0m in \u001b[0;36m_runCompatible\u001b[0;34m(self, compatibleList)\u001b[0m\n\u001b[1;32m    437\u001b[0m                             \u001b[0mb\u001b[0m\u001b[0;34m.\u001b[0m\u001b[0mmetricValues\u001b[0m\u001b[0;34m.\u001b[0m\u001b[0mdata\u001b[0m\u001b[0;34m[\u001b[0m\u001b[0mi\u001b[0m\u001b[0;34m]\u001b[0m \u001b[0;34m=\u001b[0m \u001b[0mb\u001b[0m\u001b[0;34m.\u001b[0m\u001b[0mmetricValues\u001b[0m\u001b[0;34m.\u001b[0m\u001b[0mdata\u001b[0m\u001b[0;34m[\u001b[0m\u001b[0mcacheDict\u001b[0m\u001b[0;34m[\u001b[0m\u001b[0mcacheKey\u001b[0m\u001b[0;34m]\u001b[0m\u001b[0;34m]\u001b[0m\u001b[0;34m\u001b[0m\u001b[0m\n\u001b[1;32m    438\u001b[0m                         \u001b[0;32melse\u001b[0m\u001b[0;34m:\u001b[0m\u001b[0;34m\u001b[0m\u001b[0m\n\u001b[0;32m--> 439\u001b[0;31m                             \u001b[0mb\u001b[0m\u001b[0;34m.\u001b[0m\u001b[0mmetricValues\u001b[0m\u001b[0;34m.\u001b[0m\u001b[0mdata\u001b[0m\u001b[0;34m[\u001b[0m\u001b[0mi\u001b[0m\u001b[0;34m]\u001b[0m \u001b[0;34m=\u001b[0m \u001b[0mb\u001b[0m\u001b[0;34m.\u001b[0m\u001b[0mmetric\u001b[0m\u001b[0;34m.\u001b[0m\u001b[0mrun\u001b[0m\u001b[0;34m(\u001b[0m\u001b[0mslicedata\u001b[0m\u001b[0;34m,\u001b[0m \u001b[0mslicePoint\u001b[0m\u001b[0;34m=\u001b[0m\u001b[0mslice_i\u001b[0m\u001b[0;34m[\u001b[0m\u001b[0;34m'slicePoint'\u001b[0m\u001b[0;34m]\u001b[0m\u001b[0;34m)\u001b[0m\u001b[0;34m\u001b[0m\u001b[0m\n\u001b[0m\u001b[1;32m    440\u001b[0m                     \u001b[0;31m# If we are above the cache size, drop the oldest element from the cache dict.\u001b[0m\u001b[0;34m\u001b[0m\u001b[0;34m\u001b[0m\u001b[0m\n\u001b[1;32m    441\u001b[0m                     \u001b[0;32mif\u001b[0m \u001b[0mlen\u001b[0m\u001b[0;34m(\u001b[0m\u001b[0mcacheDict\u001b[0m\u001b[0;34m)\u001b[0m \u001b[0;34m>\u001b[0m \u001b[0mslicer\u001b[0m\u001b[0;34m.\u001b[0m\u001b[0mcacheSize\u001b[0m\u001b[0;34m:\u001b[0m\u001b[0;34m\u001b[0m\u001b[0m\n",
      "\u001b[0;32m<ipython-input-9-e3550955e0d0>\u001b[0m in \u001b[0;36mrun\u001b[0;34m(self, dataSlice, slicePoint)\u001b[0m\n\u001b[1;32m     28\u001b[0m \u001b[0;34m\u001b[0m\u001b[0m\n\u001b[1;32m     29\u001b[0m         total_field_vis = calculate_lsst_field_visibility(dataSlice[self.ra_col], dataSlice[self.dec_col],\n\u001b[0;32m---> 30\u001b[0;31m                                                                     diagnostics=False)\n\u001b[0m\u001b[1;32m     31\u001b[0m \u001b[0;34m\u001b[0m\u001b[0m\n\u001b[1;32m     32\u001b[0m         \u001b[0mresult\u001b[0m \u001b[0;34m=\u001b[0m \u001b[0mtotal_time_obs\u001b[0m \u001b[0;34m/\u001b[0m \u001b[0mtotal_field_vis\u001b[0m\u001b[0;34m\u001b[0m\u001b[0m\n",
      "\u001b[0;32m<ipython-input-7-e47c5a9909f3>\u001b[0m in \u001b[0;36mcalculate_lsst_field_visibility\u001b[0;34m(fieldRA, fieldDec, min_alt, dt_days, diagnostics)\u001b[0m\n\u001b[1;32m     25\u001b[0m         \u001b[0mframe\u001b[0m \u001b[0;34m=\u001b[0m \u001b[0mAltAz\u001b[0m\u001b[0;34m(\u001b[0m\u001b[0mobstime\u001b[0m\u001b[0;34m=\u001b[0m\u001b[0mts\u001b[0m\u001b[0;34m,\u001b[0m \u001b[0mlocation\u001b[0m\u001b[0;34m=\u001b[0m\u001b[0mlsst\u001b[0m\u001b[0;34m)\u001b[0m\u001b[0;34m\u001b[0m\u001b[0m\n\u001b[1;32m     26\u001b[0m \u001b[0;34m\u001b[0m\u001b[0m\n\u001b[0;32m---> 27\u001b[0;31m         \u001b[0maltaz\u001b[0m \u001b[0;34m=\u001b[0m \u001b[0mfield\u001b[0m\u001b[0;34m.\u001b[0m\u001b[0mtransform_to\u001b[0m\u001b[0;34m(\u001b[0m\u001b[0mframe\u001b[0m\u001b[0;34m)\u001b[0m\u001b[0;34m\u001b[0m\u001b[0m\n\u001b[0m\u001b[1;32m     28\u001b[0m \u001b[0;34m\u001b[0m\u001b[0m\n\u001b[1;32m     29\u001b[0m         \u001b[0mprint\u001b[0m\u001b[0;34m(\u001b[0m\u001b[0;34m'ALTAZ: '\u001b[0m\u001b[0;34m,\u001b[0m\u001b[0maltaz\u001b[0m\u001b[0;34m)\u001b[0m\u001b[0;34m\u001b[0m\u001b[0m\n",
      "\u001b[0;32m~/stack/python/miniconda3-4.5.4/envs/lsst-scipipe-10a4fa6/lib/python3.6/site-packages/astropy/coordinates/sky_coordinate.py\u001b[0m in \u001b[0;36mtransform_to\u001b[0;34m(self, frame, merge_attributes)\u001b[0m\n\u001b[1;32m    476\u001b[0m         \u001b[0;31m# Do the transformation, returning a coordinate frame of the desired\u001b[0m\u001b[0;34m\u001b[0m\u001b[0;34m\u001b[0m\u001b[0m\n\u001b[1;32m    477\u001b[0m         \u001b[0;31m# final type (not generic).\u001b[0m\u001b[0;34m\u001b[0m\u001b[0;34m\u001b[0m\u001b[0m\n\u001b[0;32m--> 478\u001b[0;31m         \u001b[0mnew_coord\u001b[0m \u001b[0;34m=\u001b[0m \u001b[0mtrans\u001b[0m\u001b[0;34m(\u001b[0m\u001b[0mself\u001b[0m\u001b[0;34m.\u001b[0m\u001b[0mframe\u001b[0m\u001b[0;34m,\u001b[0m \u001b[0mgeneric_frame\u001b[0m\u001b[0;34m)\u001b[0m\u001b[0;34m\u001b[0m\u001b[0m\n\u001b[0m\u001b[1;32m    479\u001b[0m \u001b[0;34m\u001b[0m\u001b[0m\n\u001b[1;32m    480\u001b[0m         \u001b[0;31m# Finally make the new SkyCoord object from the `new_coord` and\u001b[0m\u001b[0;34m\u001b[0m\u001b[0;34m\u001b[0m\u001b[0m\n",
      "\u001b[0;32m~/stack/python/miniconda3-4.5.4/envs/lsst-scipipe-10a4fa6/lib/python3.6/site-packages/astropy/coordinates/transformations.py\u001b[0m in \u001b[0;36m__call__\u001b[0;34m(self, fromcoord, toframe)\u001b[0m\n\u001b[1;32m   1312\u001b[0m \u001b[0;34m\u001b[0m\u001b[0m\n\u001b[1;32m   1313\u001b[0m             \u001b[0mcurr_toframe\u001b[0m \u001b[0;34m=\u001b[0m \u001b[0mt\u001b[0m\u001b[0;34m.\u001b[0m\u001b[0mtosys\u001b[0m\u001b[0;34m(\u001b[0m\u001b[0;34m**\u001b[0m\u001b[0mfrattrs\u001b[0m\u001b[0;34m)\u001b[0m\u001b[0;34m\u001b[0m\u001b[0m\n\u001b[0;32m-> 1314\u001b[0;31m             \u001b[0mcurr_coord\u001b[0m \u001b[0;34m=\u001b[0m \u001b[0mt\u001b[0m\u001b[0;34m(\u001b[0m\u001b[0mcurr_coord\u001b[0m\u001b[0;34m,\u001b[0m \u001b[0mcurr_toframe\u001b[0m\u001b[0;34m)\u001b[0m\u001b[0;34m\u001b[0m\u001b[0m\n\u001b[0m\u001b[1;32m   1315\u001b[0m \u001b[0;34m\u001b[0m\u001b[0m\n\u001b[1;32m   1316\u001b[0m         \u001b[0;31m# this is safe even in the case where self.transforms is empty, because\u001b[0m\u001b[0;34m\u001b[0m\u001b[0;34m\u001b[0m\u001b[0m\n",
      "\u001b[0;32m~/stack/python/miniconda3-4.5.4/envs/lsst-scipipe-10a4fa6/lib/python3.6/site-packages/astropy/coordinates/transformations.py\u001b[0m in \u001b[0;36m__call__\u001b[0;34m(self, fromcoord, toframe)\u001b[0m\n\u001b[1;32m    912\u001b[0m             \u001b[0;32mreturn\u001b[0m \u001b[0mreprwithoutdiff\u001b[0m\u001b[0;34m.\u001b[0m\u001b[0mrealize_frame\u001b[0m\u001b[0;34m(\u001b[0m\u001b[0mreprwithdiff\u001b[0m\u001b[0;34m)\u001b[0m\u001b[0;34m\u001b[0m\u001b[0m\n\u001b[1;32m    913\u001b[0m         \u001b[0;32melse\u001b[0m\u001b[0;34m:\u001b[0m\u001b[0;34m\u001b[0m\u001b[0m\n\u001b[0;32m--> 914\u001b[0;31m             \u001b[0;32mreturn\u001b[0m \u001b[0msupcall\u001b[0m\u001b[0;34m(\u001b[0m\u001b[0mfromcoord\u001b[0m\u001b[0;34m,\u001b[0m \u001b[0mtoframe\u001b[0m\u001b[0;34m)\u001b[0m\u001b[0;34m\u001b[0m\u001b[0m\n\u001b[0m\u001b[1;32m    915\u001b[0m \u001b[0;34m\u001b[0m\u001b[0m\n\u001b[1;32m    916\u001b[0m \u001b[0;34m\u001b[0m\u001b[0m\n",
      "\u001b[0;32m~/stack/python/miniconda3-4.5.4/envs/lsst-scipipe-10a4fa6/lib/python3.6/site-packages/astropy/coordinates/builtin_frames/icrs_cirs_transforms.py\u001b[0m in \u001b[0;36micrs_to_cirs\u001b[0;34m(icrs_coo, cirs_frame)\u001b[0m\n\u001b[1;32m     38\u001b[0m         \u001b[0mi_ra\u001b[0m \u001b[0;34m=\u001b[0m \u001b[0musrepr\u001b[0m\u001b[0;34m.\u001b[0m\u001b[0mlon\u001b[0m\u001b[0;34m.\u001b[0m\u001b[0mto_value\u001b[0m\u001b[0;34m(\u001b[0m\u001b[0mu\u001b[0m\u001b[0;34m.\u001b[0m\u001b[0mradian\u001b[0m\u001b[0;34m)\u001b[0m\u001b[0;34m\u001b[0m\u001b[0m\n\u001b[1;32m     39\u001b[0m         \u001b[0mi_dec\u001b[0m \u001b[0;34m=\u001b[0m \u001b[0musrepr\u001b[0m\u001b[0;34m.\u001b[0m\u001b[0mlat\u001b[0m\u001b[0;34m.\u001b[0m\u001b[0mto_value\u001b[0m\u001b[0;34m(\u001b[0m\u001b[0mu\u001b[0m\u001b[0;34m.\u001b[0m\u001b[0mradian\u001b[0m\u001b[0;34m)\u001b[0m\u001b[0;34m\u001b[0m\u001b[0m\n\u001b[0;32m---> 40\u001b[0;31m         \u001b[0mcirs_ra\u001b[0m\u001b[0;34m,\u001b[0m \u001b[0mcirs_dec\u001b[0m \u001b[0;34m=\u001b[0m \u001b[0matciqz\u001b[0m\u001b[0;34m(\u001b[0m\u001b[0mi_ra\u001b[0m\u001b[0;34m,\u001b[0m \u001b[0mi_dec\u001b[0m\u001b[0;34m,\u001b[0m \u001b[0mastrom\u001b[0m\u001b[0;34m)\u001b[0m\u001b[0;34m\u001b[0m\u001b[0m\n\u001b[0m\u001b[1;32m     41\u001b[0m \u001b[0;34m\u001b[0m\u001b[0m\n\u001b[1;32m     42\u001b[0m         newrep = UnitSphericalRepresentation(lat=u.Quantity(cirs_dec, u.radian, copy=False),\n",
      "\u001b[0;32m~/stack/python/miniconda3-4.5.4/envs/lsst-scipipe-10a4fa6/lib/python3.6/site-packages/astropy/coordinates/builtin_frames/utils.py\u001b[0m in \u001b[0;36matciqz\u001b[0;34m(rc, dc, astrom)\u001b[0m\n\u001b[1;32m    246\u001b[0m \u001b[0;34m\u001b[0m\u001b[0m\n\u001b[1;32m    247\u001b[0m     \u001b[0;31m# Light deflection by the Sun, giving BCRS natural direction.\u001b[0m\u001b[0;34m\u001b[0m\u001b[0;34m\u001b[0m\u001b[0m\n\u001b[0;32m--> 248\u001b[0;31m     \u001b[0mpnat\u001b[0m \u001b[0;34m=\u001b[0m \u001b[0merfa\u001b[0m\u001b[0;34m.\u001b[0m\u001b[0mld\u001b[0m\u001b[0;34m(\u001b[0m\u001b[0;36m1.0\u001b[0m\u001b[0;34m,\u001b[0m \u001b[0mpco\u001b[0m\u001b[0;34m,\u001b[0m \u001b[0mpco\u001b[0m\u001b[0;34m,\u001b[0m \u001b[0mastrom\u001b[0m\u001b[0;34m[\u001b[0m\u001b[0;34m'eh'\u001b[0m\u001b[0;34m]\u001b[0m\u001b[0;34m,\u001b[0m \u001b[0mastrom\u001b[0m\u001b[0;34m[\u001b[0m\u001b[0;34m'em'\u001b[0m\u001b[0;34m]\u001b[0m\u001b[0;34m,\u001b[0m \u001b[0;36m5e-8\u001b[0m\u001b[0;34m)\u001b[0m\u001b[0;34m\u001b[0m\u001b[0m\n\u001b[0m\u001b[1;32m    249\u001b[0m \u001b[0;34m\u001b[0m\u001b[0m\n\u001b[1;32m    250\u001b[0m     \u001b[0;31m# Aberration, giving GCRS proper direction.\u001b[0m\u001b[0;34m\u001b[0m\u001b[0;34m\u001b[0m\u001b[0m\n",
      "\u001b[0;32m~/stack/python/miniconda3-4.5.4/envs/lsst-scipipe-10a4fa6/lib/python3.6/site-packages/astropy/_erfa/core.py\u001b[0m in \u001b[0;36mld\u001b[0;34m(bm, p, q, e, em, dlim)\u001b[0m\n\u001b[1;32m   5280\u001b[0m \u001b[0;34m\u001b[0m\u001b[0m\n\u001b[1;32m   5281\u001b[0m     \u001b[0;31m#Create the output array, based on the broadcasted shape, adding the generated dimensions if needed\u001b[0m\u001b[0;34m\u001b[0m\u001b[0;34m\u001b[0m\u001b[0m\n\u001b[0;32m-> 5282\u001b[0;31m     \u001b[0mbroadcast\u001b[0m \u001b[0;34m=\u001b[0m \u001b[0mnumpy\u001b[0m\u001b[0;34m.\u001b[0m\u001b[0mbroadcast\u001b[0m\u001b[0;34m(\u001b[0m\u001b[0mnumpy\u001b[0m\u001b[0;34m.\u001b[0m\u001b[0mint32\u001b[0m\u001b[0;34m(\u001b[0m\u001b[0;36m0.0\u001b[0m\u001b[0;34m)\u001b[0m\u001b[0;34m,\u001b[0m \u001b[0mnumpy\u001b[0m\u001b[0;34m.\u001b[0m\u001b[0mint32\u001b[0m\u001b[0;34m(\u001b[0m\u001b[0;36m0.0\u001b[0m\u001b[0;34m)\u001b[0m\u001b[0;34m,\u001b[0m \u001b[0mbm_in\u001b[0m\u001b[0;34m,\u001b[0m \u001b[0mp_in\u001b[0m\u001b[0;34m[\u001b[0m\u001b[0;34m...\u001b[0m\u001b[0;34m,\u001b[0m\u001b[0;36m0\u001b[0m\u001b[0;34m]\u001b[0m\u001b[0;34m,\u001b[0m \u001b[0mq_in\u001b[0m\u001b[0;34m[\u001b[0m\u001b[0;34m...\u001b[0m\u001b[0;34m,\u001b[0m\u001b[0;36m0\u001b[0m\u001b[0;34m]\u001b[0m\u001b[0;34m,\u001b[0m \u001b[0me_in\u001b[0m\u001b[0;34m[\u001b[0m\u001b[0;34m...\u001b[0m\u001b[0;34m,\u001b[0m\u001b[0;36m0\u001b[0m\u001b[0;34m]\u001b[0m\u001b[0;34m,\u001b[0m \u001b[0mem_in\u001b[0m\u001b[0;34m,\u001b[0m \u001b[0mdlim_in\u001b[0m\u001b[0;34m)\u001b[0m\u001b[0;34m\u001b[0m\u001b[0m\n\u001b[0m\u001b[1;32m   5283\u001b[0m     \u001b[0mp1_out\u001b[0m \u001b[0;34m=\u001b[0m \u001b[0mnumpy\u001b[0m\u001b[0;34m.\u001b[0m\u001b[0mempty\u001b[0m\u001b[0;34m(\u001b[0m\u001b[0mbroadcast\u001b[0m\u001b[0;34m.\u001b[0m\u001b[0mshape\u001b[0m \u001b[0;34m+\u001b[0m \u001b[0;34m(\u001b[0m\u001b[0;36m3\u001b[0m\u001b[0;34m,\u001b[0m\u001b[0;34m)\u001b[0m\u001b[0;34m,\u001b[0m \u001b[0mdtype\u001b[0m\u001b[0;34m=\u001b[0m\u001b[0mnumpy\u001b[0m\u001b[0;34m.\u001b[0m\u001b[0mdouble\u001b[0m\u001b[0;34m)\u001b[0m\u001b[0;34m\u001b[0m\u001b[0m\n\u001b[1;32m   5284\u001b[0m \u001b[0;34m\u001b[0m\u001b[0m\n",
      "\u001b[0;31mValueError\u001b[0m: shape mismatch: objects cannot be broadcast to a single shape"
     ]
    }
   ],
   "source": [
    "bgroup = metricBundles.MetricBundleGroup({0:bundle}, obsdb, outDir='newmetric_test',resultsDb=resultsDb)\n",
    "bgroup.runAll()"
   ]
  },
  {
   "cell_type": "code",
   "execution_count": null,
   "metadata": {},
   "outputs": [],
   "source": []
  }
 ],
 "metadata": {
  "kernelspec": {
   "display_name": "Python 3",
   "language": "python",
   "name": "python3"
  },
  "language_info": {
   "codemirror_mode": {
    "name": "ipython",
    "version": 3
   },
   "file_extension": ".py",
   "mimetype": "text/x-python",
   "name": "python",
   "nbconvert_exporter": "python",
   "pygments_lexer": "ipython3",
   "version": "3.6.2"
  }
 },
 "nbformat": 4,
 "nbformat_minor": 2
}
