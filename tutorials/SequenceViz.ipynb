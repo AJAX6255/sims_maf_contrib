{
 "cells": [
  {
   "cell_type": "markdown",
   "metadata": {},
   "source": [
    "Let's vizualize the sequence of observations from a spot in the sky.  "
   ]
  },
  {
   "cell_type": "code",
   "execution_count": 1,
   "metadata": {},
   "outputs": [],
   "source": [
    "from __future__ import print_function\n",
    "import os\n",
    "import numpy as np\n",
    "import matplotlib.pyplot as plt\n",
    "%matplotlib inline\n",
    "import lsst.sims.maf.slicers as slicers\n",
    "import lsst.sims.maf.metrics as metrics\n",
    "import lsst.sims.maf.metricBundles as metricBundles\n",
    "import lsst.sims.maf.db as db"
   ]
  },
  {
   "cell_type": "code",
   "execution_count": 2,
   "metadata": {},
   "outputs": [],
   "source": [
    "runName = 'baseline2018a'\n",
    "\n",
    "opsdb = db.OpsimDatabase(runName + '.db')\n",
    "\n",
    "mjdcol = 'observationStartMJD'\n",
    "degrees = True\n",
    "\n",
    "outDir = 'Transients'\n",
    "resultsDb = db.ResultsDb(outDir=outDir)"
   ]
  },
  {
   "cell_type": "code",
   "execution_count": 3,
   "metadata": {},
   "outputs": [],
   "source": [
    "metric=metrics.PassMetric(cols=[mjdcol, 'fiveSigmaDepth', 'filter'])\n",
    "ra = [0.]\n",
    "dec = [-30. if degrees else np.radians(-30.)]\n",
    "slicer = slicers.UserPointsSlicer(ra=ra,dec=dec)\n",
    "sqlconstraint = 'night < 365'"
   ]
  },
  {
   "cell_type": "code",
   "execution_count": 4,
   "metadata": {},
   "outputs": [
    {
     "name": "stdout",
     "output_type": "stream",
     "text": [
      "Querying database SummaryAllProps with constraint night < 365 for columns ['filter', 'fieldRA', 'fiveSigmaDepth', 'observationStartMJD', 'fieldDec']\n",
      "Found 227468 visits\n",
      "Running:  [0]\n",
      "Completed metric generation.\n",
      "Running reduce methods.\n",
      "Running summary statistics.\n",
      "Completed.\n"
     ]
    }
   ],
   "source": [
    "bundle = metricBundles.MetricBundle(\n",
    "    metric, slicer, sqlconstraint, runName=runName)\n",
    "bgroup = metricBundles.MetricBundleGroup(\n",
    "    {0: bundle}, opsdb, outDir=outDir, resultsDb=resultsDb)\n",
    "bgroup.runAll()"
   ]
  },
  {
   "cell_type": "code",
   "execution_count": 5,
   "metadata": {},
   "outputs": [],
   "source": [
    "filters = np.unique(bundle.metricValues[0]['filter'])\n",
    "colors = {'u': 'b','g': 'g','r': 'r',\n",
    "          'i': 'purple',\"z\": 'y',\"y\": 'magenta'}"
   ]
  },
  {
   "cell_type": "code",
   "execution_count": 6,
   "metadata": {},
   "outputs": [
    {
     "data": {
      "text/plain": [
       "<matplotlib.legend.Legend at 0x7f8fce1346a0>"
      ]
     },
     "execution_count": 6,
     "metadata": {},
     "output_type": "execute_result"
    },
    {
     "data": {
      "image/png": "[encoded data removed]",
      "text/plain": [
       "<matplotlib.figure.Figure at 0x7f8fce1466d8>"
      ]
     },
     "metadata": {},
     "output_type": "display_data"
    }
   ],
   "source": [
    "mv = bundle.metricValues[0]\n",
    "for filterName in filters:\n",
    "    good = np.where(mv['filter'] == filterName)\n",
    "    plt.scatter(mv[mjdcol][good]-mv[mjdcol].min(),\n",
    "                mv['fiveSigmaDepth'][good],\n",
    "                c=colors[filterName], label=filterName)\n",
    "plt.xlabel('Day')\n",
    "plt.ylabel('5$\\sigma$ depth (mags)')\n",
    "plt.xlim([0,100])\n",
    "plt.legend(scatterpoints=1)"
   ]
  },
  {
   "cell_type": "code",
   "execution_count": null,
   "metadata": {
    "collapsed": true
   },
   "outputs": [],
   "source": []
  }
 ],
 "metadata": {
  "kernelspec": {
   "display_name": "Python 3",
   "language": "python",
   "name": "python3"
  },
  "language_info": {
   "codemirror_mode": {
    "name": "ipython",
    "version": 3
   },
   "file_extension": ".py",
   "mimetype": "text/x-python",
   "name": "python",
   "nbconvert_exporter": "python",
   "pygments_lexer": "ipython3",
   "version": "3.6.2"
  }
 },
 "nbformat": 4,
 "nbformat_minor": 2
}
