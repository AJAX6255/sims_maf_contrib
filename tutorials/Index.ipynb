{
 "cells": [
  {
   "cell_type": "markdown",
   "metadata": {},
   "source": [
    "##Index##\n",
    "\n",
    "This notebook serves as an 'index' to the other sims_maf tutorials, providing a short description of their contents. \n",
    "\n",
    "---\n",
    "\n",
    "### Installing MAF ### \n",
    "If you have not installed the LSST software stack and sims_maf (an LSST software package), this can be done by either:\n",
    "\n",
    "-- installing from binaries, using conda\n",
    "    * Install anaconda (and conda) from the [Anaconda](https://store.continuum.io/cshop/anaconda/) website\n",
    "    * Add the LSST software channel\n",
    "        > conda config --add channels http://eupsforge.net/conda/dev conda install lsst-sims-maf`\n",
    "    * Install sims_maf\n",
    "        > conda install lsst-sims-maf`\n",
    "    * Activate eups and setup sims_maf (you must do this in every new shell)\n",
    "        > source eups-setups.sh <br>\n",
    "        > setup sims_maf\n",
    "-- or installing from source -- note that this would let you use alternate python installations, if needed.\n",
    "    * Follow the instructions to install [the base LSST software](https://confluence.lsstcorp.org/display/SIM/Catalogs+and+MAF) (note the link to special cases of using your own python)\n",
    "    * Activate eups and install sims_maf\n",
    "        > source ~/lsst/loadLSST.csh <br>\n",
    "        > eups distrib install sims_maf -t sims\n",
    "    * Activate eups (if needed) and set up sims_maf (you must do this in every new shell)\n",
    "        > source ~/lsst/loadLSST.csh <br>\n",
    "        > setup sims_maf -t sims\n",
    "\n",
    "---\n",
    "\n",
    "\n",
    "Note that all of these tutorials expect sims_maf to be setup in your shell, and it must be sims_maf version 1.1 or better.  To check which version of sims_maf you are using, you can enter the following commands at a python prompt:\n",
    ">`import lsst.sims.maf`<br>\n",
    ">`lsst.sims.maf.__version__`"
   ]
  },
  {
   "cell_type": "markdown",
   "metadata": {},
   "source": [
    "---\n",
    "\n",
    "## Tutorials: Start here ##\n",
    "\n",
    "If you are new to ipython notebooks and uncertain if your environment is set up correctly, you may find it helpful to start with the [TestNotebook](./TestNotebook.ipynb). In this notebook, you can see how the basic ipython environment works. \n",
    "\n",
    "Start with the [Introduction](./Introduction%20Notebook.ipynb) to start using MAF with a hands-on example. If you want some overview slides, we also have an [introductory talk](https://github.com/LSST-nonproject/sims_maf_contrib/blob/master/workshops/UK_2015/Cambridge_MAFIntro.pdf). \n",
    "\n",
    "To learn about various slicer options, look at the [Slicers](./Slicers.ipynb) notebook."
   ]
  },
  {
   "cell_type": "code",
   "execution_count": null,
   "metadata": {
    "collapsed": true
   },
   "outputs": [],
   "source": []
  }
 ],
 "metadata": {
  "kernelspec": {
   "display_name": "Python 2",
   "language": "python",
   "name": "python2"
  },
  "language_info": {
   "codemirror_mode": {
    "name": "ipython",
    "version": 2
   },
   "file_extension": ".py",
   "mimetype": "text/x-python",
   "name": "python",
   "nbconvert_exporter": "python",
   "pygments_lexer": "ipython2",
   "version": "2.7.10"
  }
 },
 "nbformat": 4,
 "nbformat_minor": 0
}
