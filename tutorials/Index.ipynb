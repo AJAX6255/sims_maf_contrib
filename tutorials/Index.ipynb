{
 "cells": [
  {
   "cell_type": "markdown",
   "metadata": {},
   "source": [
    "##Index##\n",
    "\n",
    "This notebook serves as an 'index' to the other tutorials, providing a short description of their contents. "
   ]
  },
  {
   "cell_type": "markdown",
   "metadata": {},
   "source": [
    "---\n",
    "\n",
    "### Starting points: \n",
    "\n",
    "If you are new to ipython notebooks and uncertain if your environment is set up correctly, you may find it helpful to start with the [TestNotebook](./TestNotebook.ipynb). In this notebook, you can see how the basic ipython environment works. \n",
    "\n",
    "Start with the [Introduction](./Introduction%20Notebook.ipynb) to start using MAF with a hands-on example. If you want some overview slides, we also have an [introductory talk](https://github.com/LSST-nonproject/sims_maf_contrib/blob/master/workshops/UK_2015/Cambridge_MAFIntro.pdf). "
   ]
  },
  {
   "cell_type": "code",
   "execution_count": null,
   "metadata": {
    "collapsed": true
   },
   "outputs": [],
   "source": []
  }
 ],
 "metadata": {
  "kernelspec": {
   "display_name": "Python 2",
   "language": "python",
   "name": "python2"
  },
  "language_info": {
   "codemirror_mode": {
    "name": "ipython",
    "version": 2
   },
   "file_extension": ".py",
   "mimetype": "text/x-python",
   "name": "python",
   "nbconvert_exporter": "python",
   "pygments_lexer": "ipython2",
   "version": "2.7.10"
  }
 },
 "nbformat": 4,
 "nbformat_minor": 0
}
