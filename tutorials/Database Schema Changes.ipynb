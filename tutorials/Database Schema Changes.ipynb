{
 "cells": [
  {
   "cell_type": "markdown",
   "metadata": {},
   "source": [
    "### Database Schema Changes ###\n",
    "With the transition from Opsim v3 to Opsim v4, the additional of alternative scheduler output databases, and the evolution of MAF to default to v4 databases --- the time has come to put into play kwargs for metrics, slicers and stackers! There is some variation in the database schema between v3 and v4 and alt schedulers: column names have changed and significantly, all angles in v4 are in degrees while in v3 they were in radians. MAF 2.5.0 and above should be able to handle these variations, but if you are not using a standard v4 output database, you will likely have to do some kwarg configuration. \n",
    "\n",
    "### tl;dr ###\n",
    "\n",
    "Metrics, slicers and stackers which deal with values that could be in degrees or radians should now have a kwarg that is something like \"degrees\" (or latLonDeg for the HealpixSlicer). The defaults are that these kwargs are set to \"True\", and angles are then assumed to be in degrees and return values will also be in degrees. If they are set to \"False\", then angles are assumed to be in radians and return values will also be in radians.\n",
    "\n",
    "Columns where the names have been changed now default to opsim v4 values; kwargs will let you set them to other values. Typical places to have to set these kwargs are in the OpsimFieldSlicer and various stackers. \n",
    "\n",
    "You can check available kwargs and their defaults by doing<br>\n",
    "```help(slicers.HealpixSlicer)```\n",
    "or \n",
    "```help(stackers.RandomDitherFieldPerNightStacker)```.\n"
   ]
  },
  {
   "cell_type": "markdown",
   "metadata": {},
   "source": [
    "#### Why can't MAF find the data in the database? ####\n",
    "With the schema changes, the default columns required for your metrics, slicers and stackers may not be in the database. So how can you tell what columns your metricBundle (a metric + slicer + stackers) is going to look for? \n",
    "\n",
    "Here's some examples! \n"
   ]
  },
  {
   "cell_type": "code",
   "execution_count": 1,
   "metadata": {},
   "outputs": [],
   "source": [
    "import lsst.sims.maf.metrics as metrics\n",
    "import lsst.sims.maf.stackers as stackers\n",
    "import lsst.sims.maf.slicers as slicers\n",
    "import lsst.sims.maf.metricBundles as mb"
   ]
  },
  {
   "cell_type": "code",
   "execution_count": 2,
   "metadata": {},
   "outputs": [
    {
     "name": "stdout",
     "output_type": "stream",
     "text": [
      "Healpix slicer using NSIDE=64, approximate resolution 54.967783 arcminutes\n",
      "Find the columns that will be requested from the database: {'fieldRA', 'expMJD', 'fieldDec'}\n"
     ]
    }
   ],
   "source": [
    "m = metrics.CountMetric(col='expMJD')\n",
    "s = slicers.HealpixSlicer(nside=64, lonCol='fieldRA', latCol='fieldDec', latLonDeg=False)\n",
    "bb = mb.MetricBundle(metric=m, slicer=s)\n",
    "print(\"Find the columns that will be requested from the database:\", bb.dbCols)"
   ]
  },
  {
   "cell_type": "code",
   "execution_count": 3,
   "metadata": {},
   "outputs": [
    {
     "name": "stdout",
     "output_type": "stream",
     "text": [
      "Healpix slicer using NSIDE=64, approximate resolution 54.967783 arcminutes\n",
      "Find the columns that will be requested from the database: {'fieldID', 'expMJD', 'night', 'fieldDec', 'fieldRA'}\n"
     ]
    }
   ],
   "source": [
    "m = metrics.CountMetric(col='expMJD')\n",
    "s = slicers.HealpixSlicer(nside=64, lonCol='randomDitherFieldPerNightRa', latCol='randomDitherFieldPerNightDec', \n",
    "                          latLonDeg=False)\n",
    "st = stackers.RandomDitherFieldPerNightStacker(fieldIdCol='fieldID', degrees=False)\n",
    "bb = mb.MetricBundle(metric=m, slicer=s, stackerList=[st])\n",
    "print(\"Find the columns that will be requested from the database:\", bb.dbCols)"
   ]
  },
  {
   "cell_type": "code",
   "execution_count": 4,
   "metadata": {},
   "outputs": [
    {
     "name": "stdout",
     "output_type": "stream",
     "text": [
      "Healpix slicer using NSIDE=64, approximate resolution 54.967783 arcminutes\n",
      "Find the columns that will be requested from the database: {'expMJD', 'fieldRA', 'fieldDec'}\n"
     ]
    }
   ],
   "source": [
    "m = metrics.CountMetric(col='expMJD')\n",
    "s = slicers.HealpixSlicer(nside=64, lonCol='randomDitherFieldPerVisitRa', latCol='randomDitherFieldPerVisitDec', \n",
    "                          latLonDeg=False)\n",
    "st = stackers.RandomDitherFieldPerVisitStacker(degrees=False)\n",
    "bb = mb.MetricBundle(metric=m, slicer=s, stackerList=[st])\n",
    "print(\"Find the columns that will be requested from the database:\", bb.dbCols)"
   ]
  },
  {
   "cell_type": "code",
   "execution_count": 5,
   "metadata": {},
   "outputs": [
    {
     "name": "stdout",
     "output_type": "stream",
     "text": [
      "Healpix slicer using NSIDE=64, approximate resolution 54.967783 arcminutes\n",
      "Find the columns that will be requested from the database: {'fieldID', 'expMJD', 'night', 'fieldDec', 'fieldRA'}\n"
     ]
    }
   ],
   "source": [
    "# Note that a stacker will be run, EVEN if we're not actually using those columns in our metric/slicer. \n",
    "# So if you have a stacker in the bundle, those columns will be pulled from the database. \n",
    "m = metrics.CountMetric(col='expMJD')\n",
    "s = slicers.HealpixSlicer(nside=64, lonCol='fieldRA', latCol='fieldDec', latLonDeg=False)\n",
    "st = stackers.RandomDitherFieldPerNightStacker(fieldIdCol='fieldID', degrees=False)\n",
    "bb = mb.MetricBundle(metric=m, slicer=s, stackerList=[st])\n",
    "print(\"Find the columns that will be requested from the database:\", bb.dbCols)"
   ]
  },
  {
   "cell_type": "code",
   "execution_count": 8,
   "metadata": {},
   "outputs": [
    {
     "name": "stdout",
     "output_type": "stream",
     "text": [
      "Help on class RandomDitherFieldPerNightStacker in module lsst.sims.maf.stackers.ditherStackers:\n",
      "\n",
      "class RandomDitherFieldPerNightStacker(RandomDitherFieldPerVisitStacker)\n",
      " |  Randomly dither the RA and Dec pointings up to maxDither degrees from center,\n",
      " |  one dither offset per new night of observation of a field.\n",
      " |  e.g. visits within the same night, to the same field, have the same offset.\n",
      " |  \n",
      " |  Parameters\n",
      " |  ----------\n",
      " |  raCol : str, optional\n",
      " |      The name of the RA column in the data.\n",
      " |      Default 'fieldRA'.\n",
      " |  decCol : str, optional\n",
      " |      The name of the Dec column in the data.\n",
      " |      Default 'fieldDec'.\n",
      " |  degrees : bool, optional\n",
      " |      Flag whether RA/Dec should be treated as (and kept as) degrees.\n",
      " |  fieldIdCol : str, optional\n",
      " |      The name of the fieldId column in the data.\n",
      " |      Used to identify fields which should be identified as the 'same'.\n",
      " |      Default 'fieldId'.\n",
      " |  nightCol : str, optional\n",
      " |      The name of the night column in the data.\n",
      " |      Default 'night'.\n",
      " |  maxDither : float, optional\n",
      " |      The radius of the maximum dither offset, in degrees.\n",
      " |      Default 1.75 degrees.\n",
      " |  inHex : bool, optional\n",
      " |      If True, offsets are constrained to lie within a hexagon inscribed within the maxDither circle.\n",
      " |      If False, offsets can lie anywhere out to the edges of the maxDither circle.\n",
      " |      Default True.\n",
      " |  randomSeed : int, optional\n",
      " |      If set, then used as the random seed for the numpy random number generation for the dither offsets.\n",
      " |      Default None.\n",
      " |  \n",
      " |  Method resolution order:\n",
      " |      RandomDitherFieldPerNightStacker\n",
      " |      RandomDitherFieldPerVisitStacker\n",
      " |      lsst.sims.maf.stackers.baseStacker.BaseStacker\n",
      " |      builtins.object\n",
      " |  \n",
      " |  Methods defined here:\n",
      " |  \n",
      " |  __init__(self, raCol='fieldRA', decCol='fieldDec', degrees=True, fieldIdCol='fieldId', nightCol='night', maxDither=1.75, inHex=True, randomSeed=None)\n",
      " |      @ MaxDither in degrees\n",
      " |  \n",
      " |  ----------------------------------------------------------------------\n",
      " |  Methods inherited from lsst.sims.maf.stackers.baseStacker.BaseStacker:\n",
      " |  \n",
      " |  __eq__(self, otherStacker)\n",
      " |      Evaluate if two stackers are equivalent.\n",
      " |  \n",
      " |  __hash__(self)\n",
      " |      Return hash(self).\n",
      " |  \n",
      " |  __ne__(self, otherStacker)\n",
      " |      Evaluate if two stackers are not equal.\n",
      " |  \n",
      " |  run(self, simData)\n",
      " |      Example: Generate the new stacker columns, given the simdata columns from the database.\n",
      " |      Returns the new simdata structured array that includes the new stacker columns.\n",
      " |  \n",
      " |  ----------------------------------------------------------------------\n",
      " |  Data descriptors inherited from lsst.sims.maf.stackers.baseStacker.BaseStacker:\n",
      " |  \n",
      " |  __dict__\n",
      " |      dictionary for instance variables (if defined)\n",
      " |  \n",
      " |  __weakref__\n",
      " |      list of weak references to the object (if defined)\n",
      " |  \n",
      " |  ----------------------------------------------------------------------\n",
      " |  Data and other attributes inherited from lsst.sims.maf.stackers.baseStacker.BaseStacker:\n",
      " |  \n",
      " |  registry = {'BaseMoStacker': <class 'lsst.sims.maf.stackers.moStackers...\n",
      "\n"
     ]
    }
   ],
   "source": [
    "help(stackers.RandomDitherFieldPerNightStacker)"
   ]
  },
  {
   "cell_type": "code",
   "execution_count": null,
   "metadata": {},
   "outputs": [],
   "source": []
  }
 ],
 "metadata": {
  "kernelspec": {
   "display_name": "Python 3",
   "language": "python",
   "name": "python3"
  },
  "language_info": {
   "codemirror_mode": {
    "name": "ipython",
    "version": 3
   },
   "file_extension": ".py",
   "mimetype": "text/x-python",
   "name": "python",
   "nbconvert_exporter": "python",
   "pygments_lexer": "ipython3",
   "version": "3.6.4"
  }
 },
 "nbformat": 4,
 "nbformat_minor": 2
}
