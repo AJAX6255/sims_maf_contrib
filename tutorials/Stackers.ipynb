{
 "cells": [
  {
   "cell_type": "markdown",
   "metadata": {},
   "source": [
    "This notebook assumes you are using sims_maf version >= 1.1, and have 'setup sims_maf' in your shell. \n",
    "\n",
    "This notebook demonstrates the basic use of stackers. You can also look at the \"Dithers\" notebook for more examples, specifically pertaining to dithering. \n",
    "\n",
    "Stackers allow the creation of 'virtual' columns to extend the opsim database. These columns are created on-the-fly, using the algorithms in the Stackers classes and cease to exist after the data queried by MAF leaves memory. "
   ]
  },
  {
   "cell_type": "code",
   "execution_count": 1,
   "metadata": {
    "collapsed": false
   },
   "outputs": [],
   "source": [
    "import matplotlib.pyplot as plt\n",
    "%matplotlib inline\n",
    "import healpy as hp\n",
    "\n",
    "import lsst.sims.maf.db as db\n",
    "import lsst.sims.maf.slicers as slicers\n",
    "import lsst.sims.maf.metrics as metrics\n",
    "import lsst.sims.maf.stackers as stackers\n",
    "import lsst.sims.maf.metricBundles as metricBundles"
   ]
  },
  {
   "cell_type": "markdown",
   "metadata": {},
   "source": [
    "MAF provides a set of stock Stackers, and more are available with the sims_maf_contrib package. You can see the list of registered stackers like this:"
   ]
  },
  {
   "cell_type": "code",
   "execution_count": 2,
   "metadata": {
    "collapsed": false
   },
   "outputs": [
    {
     "name": "stdout",
     "output_type": "stream",
     "text": [
      "----  EclipticStacker  ----\n",
      "\n",
      "    Stack on the ecliptic coordinates of each pointing.  Optionally\n",
      "    subtract off the sun's ecliptic longitude and wrap.\n",
      "    \n",
      " Columns added to SimData:  eclipLat,eclipLon\n",
      " Default columns required:  expMJD,fieldRA,fieldDec\n",
      "----  FilterColorStacker  ----\n",
      "\n",
      "    Translate filters ('u', 'g', 'r' ..) into RGB tuples.\n",
      "    \n",
      " Columns added to SimData:  rRGB,gRGB,bRGB\n",
      " Default columns required:  filter\n",
      "----  GalacticStacker  ----\n",
      "\n",
      "    Stack on the galactic coordinates of each pointing.\n",
      "    \n",
      " Columns added to SimData:  gall,galb\n",
      " Default columns required:  fieldRA,fieldDec\n",
      "----  HourAngleStacker  ----\n",
      "\n",
      "    Add the Hour Angle for each observation.\n",
      "    \n",
      " Columns added to SimData:  HA\n",
      " Default columns required:  lst,fieldRA\n",
      "----  NEODistStacker  ----\n",
      "\n",
      "    For each observation, find the max distance to a ~144 km NEO,\n",
      "    also stack on the x,y position of the object.\n",
      "    \n",
      " Columns added to SimData:  MaxGeoDist,NEOHelioX,NEOHelioY\n",
      " Default columns required:  solarElong,filter,fiveSigmaDepth,sunAz,azimuth\n",
      "----  NightlyRandomDitherStacker  ----\n",
      "\n",
      "    Randomly dither the RA and Dec pointings up to maxDither degrees from center, one dither offset per night.\n",
      "    \n",
      " Columns added to SimData:  nightlyRandomRADither,nightlyRandomDecDither\n",
      " Default columns required:  fieldRA,fieldDec,night\n",
      "----  NightlySequentialHexDitherStacker  ----\n",
      "\n",
      "    Use offsets from the hexagonal grid of 'hexdither', but visit each vertex sequentially.\n",
      "    Sequential offset for each night of visits.\n",
      "    \n",
      " Columns added to SimData:  nightlySequentialHexRADither,nightlySequentialHexDecDither\n",
      " Default columns required:  fieldRA,fieldDec,night\n",
      "----  NightlySpiralDitherStacker  ----\n",
      "\n",
      "    Offset along an equidistant spiral with numPoints, out to a maximum radius of maxDither.\n",
      "    Sequential offset for each night of visits to a field.\n",
      "    \n",
      " Columns added to SimData:  nightlySpiralRADither,nightlySpiralDecDither\n",
      " Default columns required:  fieldRA,fieldDec,fieldID,night\n",
      "----  NormAirmassStacker  ----\n",
      "\n",
      "    Calculate the normalized airmass for each opsim pointing.\n",
      "    \n",
      " Columns added to SimData:  normairmass\n",
      " Default columns required:  airmass,fieldDec\n",
      "----  ParallaxFactorStacker  ----\n",
      "\n",
      "    Calculate the parallax factors for each opsim pointing.  Output parallax factor in arcseconds.\n",
      "    \n",
      " Columns added to SimData:  ra_pi_amp,dec_pi_amp\n",
      " Default columns required:  fieldRA,fieldDec,expMJD\n",
      "----  RandomDitherStacker  ----\n",
      "\n",
      "    Randomly dither the RA and Dec pointings up to maxDither degrees from center, different offset per visit.\n",
      "    \n",
      " Columns added to SimData:  randomRADither,randomDecDither\n",
      " Default columns required:  fieldRA,fieldDec\n",
      "----  SdssRADecStacker  ----\n",
      "convert the p1,p2,p3... columns to radians and wrap them \n",
      " Columns added to SimData:  RA1,Dec1,RA2,Dec2,RA3,Dec3,RA4,Dec4\n",
      " Default columns required:  p1,p2,p3,p4,p5,p6,p7,p8\n",
      "----  SequentialHexDitherStacker  ----\n",
      "\n",
      "    Use offsets from the hexagonal grid of 'hexdither', but visit each vertex sequentially.\n",
      "    Sequential offset for each visit.\n",
      "    \n",
      " Columns added to SimData:  sequentialHexRADither,sequentialHexDecDither\n",
      " Default columns required:  fieldRA,fieldDec\n",
      "----  SpiralDitherStacker  ----\n",
      "\n",
      "    Offset along an equidistant spiral with numPoints, out to a maximum radius of maxDither.\n",
      "    Sequential offset for each individual visit to a field.\n",
      "    \n",
      " Columns added to SimData:  spiralRADither,spiralDecDither\n",
      " Default columns required:  fieldRA,fieldDec,fieldID\n",
      "----  ZenithDistStacker  ----\n",
      "\n",
      "    Calculate the zenith distance for each pointing.\n",
      "    \n",
      " Columns added to SimData:  zenithDistance\n",
      " Default columns required:  altitude\n"
     ]
    }
   ],
   "source": [
    "stackers.BaseStacker.list(doc=True)"
   ]
  },
  {
   "cell_type": "markdown",
   "metadata": {},
   "source": [
    "---\n",
    "Let's look at how you might use a simple stacker to calculate the mean of the Hour Angle visited each night. By default Opsim does not provide the Hour Angle, but you can see above that we provide a stacker (HourAngleStacker) to calculate it automatically if requested. \n",
    "\n",
    "To use simple stackers that do not require configuration (such as the HourAngleStacker), simply reference the column name which the stacker adds to the opsim data ('simdata')."
   ]
  },
  {
   "cell_type": "code",
   "execution_count": 3,
   "metadata": {
    "collapsed": true
   },
   "outputs": [],
   "source": [
    "metric = metrics.MeanMetric(col='HA')\n",
    "slicer = slicers.OneDSlicer(sliceColName='night', binsize=1)\n",
    "sqlconstraint = 'night<100'\n",
    "runName = 'enigma_1189'\n",
    "mB = metricBundles.MetricBundle(metric, slicer, sqlconstraint, runName=runName)"
   ]
  },
  {
   "cell_type": "code",
   "execution_count": 4,
   "metadata": {
    "collapsed": false
   },
   "outputs": [],
   "source": [
    "opsdb = db.OpsimDatabase(runName+'_sqlite.db')\n",
    "outDir = 'stackers_test'\n",
    "resultsDb = db.ResultsDb(outDir=outDir)"
   ]
  },
  {
   "cell_type": "markdown",
   "metadata": {},
   "source": [
    "We have not set up or referenced the stacker, except by the column name, but when we get the data from the database (done during the 'runAll' step), we can see that the stacker has been called and the virtual column added to the simdata results."
   ]
  },
  {
   "cell_type": "code",
   "execution_count": 5,
   "metadata": {
    "collapsed": false
   },
   "outputs": [
    {
     "name": "stdout",
     "output_type": "stream",
     "text": [
      "Querying database with constraint night<100\n",
      "Found 76940 visits\n",
      "Running:  ['ha']\n",
      "Completed metric generation.\n",
      "Running reduce methods.\n",
      "Running summary statistics.\n",
      "Completed.\n",
      "('obsHistID', 'lst', 'fieldRA', 'night', 'HA')\n"
     ]
    },
    {
     "name": "stderr",
     "output_type": "stream",
     "text": [
      "/Users/lynnej/anaconda/lib/python2.7/site-packages/sqlalchemy/sql/elements.py:3758: SAWarning: Textual SQL expression 'night<100' should be explicitly declared as text('night<100') (this warning may be suppressed after 10 occurrences)\n",
      "  {\"expr\": util.ellipses_string(element)})\n"
     ]
    }
   ],
   "source": [
    "bgroup = metricBundles.MetricBundleGroup({'ha':mB}, opsdb, outDir=outDir, resultsDb=resultsDb)\n",
    "bgroup.runAll()\n",
    "print bgroup.simData.dtype.names"
   ]
  },
  {
   "cell_type": "code",
   "execution_count": 6,
   "metadata": {
    "collapsed": false
   },
   "outputs": [
    {
     "name": "stdout",
     "output_type": "stream",
     "text": [
      "Plotting.\n",
      "Plotting complete.\n"
     ]
    },
    {
     "data": {
      "image/png": "[encoded data removed]",
      "text/plain": [
       "<matplotlib.figure.Figure at 0x11ca10a10>"
      ]
     },
     "metadata": {},
     "output_type": "display_data"
    }
   ],
   "source": [
    "bgroup.plotAll(closefigs=False)"
   ]
  },
  {
   "cell_type": "markdown",
   "metadata": {},
   "source": [
    "Now let's use a stacker to try out some different dithering options.  Rather than the standard fieldRA and fieldDec columns, we'll add columns that are slightly offset."
   ]
  },
  {
   "cell_type": "code",
   "execution_count": 7,
   "metadata": {
    "collapsed": false
   },
   "outputs": [
    {
     "name": "stdout",
     "output_type": "stream",
     "text": [
      "Healpix slicer using NSIDE=64, approximate resolution 54.967783 arcminutes\n"
     ]
    }
   ],
   "source": [
    "slicer = slicers.HealpixSlicer(nside=64, lonCol='nightlyRandomRADither', latCol='nightlyRandomDecDither')\n",
    "sqlconstraint = 'filter=\"r\" and night<400'"
   ]
  },
  {
   "cell_type": "code",
   "execution_count": 8,
   "metadata": {
    "collapsed": false
   },
   "outputs": [],
   "source": [
    "metric = metrics.CountMetric(col='night')"
   ]
  },
  {
   "cell_type": "markdown",
   "metadata": {},
   "source": [
    "We could use the stacker in its default configuration, but we want to change it so that the maxDither is much smaller. To do this, we must instantiate the stacker and configure it ourselves, then pass this to the metricBundle."
   ]
  },
  {
   "cell_type": "code",
   "execution_count": 9,
   "metadata": {
    "collapsed": false
   },
   "outputs": [],
   "source": [
    "maxDither = 0.1\n",
    "stackerList = [stackers.NightlyRandomDitherStacker(maxDither=maxDither)]"
   ]
  },
  {
   "cell_type": "code",
   "execution_count": 10,
   "metadata": {
    "collapsed": false
   },
   "outputs": [],
   "source": [
    "plotDict={'colorMax':50, 'xlabel':'Number of Visits', 'label':'max dither = %.2f' % maxDither}\n",
    "bundle = metricBundles.MetricBundle(metric, slicer, sqlconstraint, runName=runName, \n",
    "                                    stackerList=stackerList, plotDict=plotDict)\n",
    "bgroup = metricBundles.MetricBundleGroup({'dither':bundle}, opsdb, outDir=outDir, resultsDb=resultsDb)"
   ]
  },
  {
   "cell_type": "code",
   "execution_count": 11,
   "metadata": {
    "collapsed": false
   },
   "outputs": [
    {
     "name": "stdout",
     "output_type": "stream",
     "text": [
      "Querying database with constraint filter=\"r\" and night<400\n",
      "Found 46128 visits\n",
      "Running:  ['dither']\n",
      "Completed metric generation."
     ]
    },
    {
     "name": "stderr",
     "output_type": "stream",
     "text": [
      "/Users/lynnej/anaconda/lib/python2.7/site-packages/sqlalchemy/sql/elements.py:3758: SAWarning: Textual SQL expression 'filter=\"r\" and night<400' should be explicitly declared as text('filter=\"r\" and night<400') (this warning may be suppressed after 10 occurrences)\n",
      "  {\"expr\": util.ellipses_string(element)})\n",
      "Optimal bin calculation tried to make 558 bins, returning 200\n"
     ]
    },
    {
     "name": "stdout",
     "output_type": "stream",
     "text": [
      "\n",
      "Running reduce methods.\n",
      "Running summary statistics.\n",
      "Completed.\n",
      "Plotting.\n",
      "monopole: 14.2388  dipole: lon: 56.6765, lat: -76.7455, amp: 7.66088\n",
      "Plotting complete.\n"
     ]
    }
   ],
   "source": [
    "bgroup.runAll()\n",
    "bgroup.plotAll()"
   ]
  },
  {
   "cell_type": "code",
   "execution_count": 12,
   "metadata": {
    "collapsed": false
   },
   "outputs": [],
   "source": [
    "# Update the stacker to use a larger max dither and re-run the bundle\n",
    "maxDither = 1.75\n",
    "plotDict2 = {'colorMax':50, 'xlabel':'Number of Visits', 'label':'max dither = %.2f' % maxDither}\n",
    "stackerList = [stackers.NightlyRandomDitherStacker(maxDither=maxDither)]\n",
    "bundle2 = metricBundles.MetricBundle(metric, slicer, sqlconstraint, stackerList=stackerList, plotDict=plotDict2)\n",
    "bgroup2 = metricBundles.MetricBundleGroup({'dither_large':bundle2}, opsdb, outDir=outDir, resultsDb=resultsDb)"
   ]
  },
  {
   "cell_type": "code",
   "execution_count": 13,
   "metadata": {
    "collapsed": false
   },
   "outputs": [
    {
     "name": "stdout",
     "output_type": "stream",
     "text": [
      "Querying database with constraint filter=\"r\" and night<400\n",
      "Found 46128 visits\n",
      "Running:  ['dither_large']\n",
      "Completed metric generation.\n",
      "Running reduce methods.\n",
      "Running summary statistics.\n",
      "Completed.\n",
      "Plotting.\n",
      "monopole: 13.7382  dipole: lon: 61.6295, lat: -76.7714, amp: 8.51741\n",
      "Plotting complete.\n"
     ]
    },
    {
     "name": "stderr",
     "output_type": "stream",
     "text": [
      "Optimal bin calculation tried to make 630 bins, returning 200\n"
     ]
    }
   ],
   "source": [
    "bgroup2.runAll()\n",
    "bgroup2.plotAll()"
   ]
  },
  {
   "cell_type": "markdown",
   "metadata": {},
   "source": [
    "Now we can combine the results on a single plot if we want to more easily compare them."
   ]
  },
  {
   "cell_type": "code",
   "execution_count": 14,
   "metadata": {
    "collapsed": false
   },
   "outputs": [
    {
     "name": "stdout",
     "output_type": "stream",
     "text": [
      "monopole: 14.2388  dipole: lon: 56.6765, lat: -76.7455, amp: 7.66088\n",
      "monopole: 13.7382  dipole: lon: 61.6295, lat: -76.7714, amp: 8.51741\n"
     ]
    },
    {
     "data": {
      "text/plain": [
       "<matplotlib.legend.Legend at 0x11cfb1f90>"
      ]
     },
     "execution_count": 14,
     "metadata": {},
     "output_type": "execute_result"
    },
    {
     "data": {
      "image/png": "[encoded data removed]",
      "text/plain": [
       "<matplotlib.figure.Figure at 0x11cf719d0>"
      ]
     },
     "metadata": {},
     "output_type": "display_data"
    }
   ],
   "source": [
    "from lsst.sims.maf.plots import HealpixPowerSpectrum\n",
    "fig = plt.figure(1)\n",
    "plotter = HealpixPowerSpectrum()\n",
    "plotter(bundle.metricValues, slicer, {'label':'max dither 0.1'}, fignum=1)\n",
    "plotter(bundle2.metricValues, slicer, {'label':'max dither 1.75'}, fignum=1)\n",
    "plt.legend()"
   ]
  },
  {
   "cell_type": "code",
   "execution_count": 12,
   "metadata": {
    "collapsed": false
   },
   "outputs": [],
   "source": []
  }
 ],
 "metadata": {
  "kernelspec": {
   "display_name": "Python 2",
   "language": "python",
   "name": "python2"
  },
  "language_info": {
   "codemirror_mode": {
    "name": "ipython",
    "version": 2
   },
   "file_extension": ".py",
   "mimetype": "text/x-python",
   "name": "python",
   "nbconvert_exporter": "python",
   "pygments_lexer": "ipython2",
   "version": "2.7.10"
  }
 },
 "nbformat": 4,
 "nbformat_minor": 0
}
