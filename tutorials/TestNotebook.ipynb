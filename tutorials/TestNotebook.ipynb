{
 "cells": [
  {
   "cell_type": "markdown",
   "metadata": {},
   "source": [
    "This is just a very little test notebook. It might give you a place to play, and it ought to indicate if the ipython notebook environment is working as you expect.\n",
    "\n",
    "You will see various 'cells' (with numbers on the left hand side) below. These cells hold executable code (executable on your own machine, after installing sims_maf, doing a git clone of the sims_maf_contrib repo, and starting 'ipython notebook' in the tutorials directory of sims_maf_contrib). \n",
    "\n",
    "You can run the code in each cell by clicking on the cell, then pressing \"shift + return\". \n",
    "\n",
    "If you have more questions about ipython notebooks, you might find the [documentation](http://ipython.org/ipython-doc/stable/interactive/tutorial.html) useful. I also like the [ipython tutorials](http://nbviewer.ipython.org/github/AstroHackWeek/AstroHackWeek2014/blob/master/day1/ipython/Index.ipynb) from the 2014 Astro Hack Week. "
   ]
  },
  {
   "cell_type": "code",
   "execution_count": 1,
   "metadata": {
    "collapsed": false
   },
   "outputs": [
    {
     "name": "stdout",
     "output_type": "stream",
     "text": [
      "Hi\n"
     ]
    }
   ],
   "source": [
    "print \"Hi\""
   ]
  },
  {
   "cell_type": "code",
   "execution_count": 2,
   "metadata": {
    "collapsed": true
   },
   "outputs": [],
   "source": [
    "import os\n",
    "yourname = os.getenv('USER')"
   ]
  },
  {
   "cell_type": "code",
   "execution_count": 3,
   "metadata": {
    "collapsed": false
   },
   "outputs": [
    {
     "name": "stdout",
     "output_type": "stream",
     "text": [
      "Hi lynnej\n"
     ]
    }
   ],
   "source": [
    "print \"Hi\", yourname"
   ]
  },
  {
   "cell_type": "code",
   "execution_count": 4,
   "metadata": {
    "collapsed": false
   },
   "outputs": [
    {
     "name": "stdout",
     "output_type": "stream",
     "text": [
      "I think I'm in directory  /Users/lynnej/lsstRepos/sims_maf_contrib\n"
     ]
    }
   ],
   "source": [
    "currentdir = os.getenv('PWD')\n",
    "print \"I think I'm in directory \", currentdir"
   ]
  },
  {
   "cell_type": "code",
   "execution_count": 5,
   "metadata": {
    "collapsed": false
   },
   "outputs": [
    {
     "name": "stdout",
     "output_type": "stream",
     "text": [
      "Notebooks in this directory include: \n",
      "['Compare Runs.ipynb', 'Complex Metrics.ipynb', 'Dithers.ipynb', 'Getting_MAF_Help.ipynb', 'Index.ipynb', 'Introduction Notebook.ipynb', 'MAFCameraGeom.ipynb', 'Plotting Examples.ipynb', 'SDSSSlicer.ipynb', 'Slicers.ipynb', 'Stackers.ipynb', 'TestNotebook.ipynb', 'Writing A New Metric.ipynb']\n"
     ]
    }
   ],
   "source": [
    "filenames = !ls *ipynb\n",
    "print \"Notebooks in this directory include: \"\n",
    "print filenames"
   ]
  },
  {
   "cell_type": "markdown",
   "metadata": {},
   "source": [
    "Let's try to import various modules. "
   ]
  },
  {
   "cell_type": "code",
   "execution_count": 6,
   "metadata": {
    "collapsed": true
   },
   "outputs": [],
   "source": [
    "import numpy as np"
   ]
  },
  {
   "cell_type": "code",
   "execution_count": 7,
   "metadata": {
    "collapsed": true
   },
   "outputs": [],
   "source": [
    "import matplotlib.pyplot as plt\n",
    "%matplotlib inline"
   ]
  },
  {
   "cell_type": "markdown",
   "metadata": {},
   "source": [
    "And why not get all of the maf modules loaded up. "
   ]
  },
  {
   "cell_type": "code",
   "execution_count": 8,
   "metadata": {
    "collapsed": false
   },
   "outputs": [],
   "source": [
    "import lsst.sims.maf.db as db\n",
    "import lsst.sims.maf.metrics as metrics\n",
    "import lsst.sims.maf.slicers as slicers\n",
    "import lsst.sims.maf.stackers as stackers\n",
    "import lsst.sims.maf.plots as plot\n",
    "import lsst.sims.maf.utils as utils\n",
    "import lsst.sims.maf.metricBundles as metricBundles"
   ]
  },
  {
   "cell_type": "markdown",
   "metadata": {
    "collapsed": true
   },
   "source": [
    "If you get an error message after running the cell above saying \"ImportError: No module named lsst.sims.maf.db\", please check to be sure that you have \n",
    "> `setup sims_maf -t sims` (or whatever is your appropriate tag - if you installed via 'conda' binaries, there is no tag)\n",
    "\n",
    "If you get an error message like \"ImportError: No module named persistence\" or \"ImportError: No module named lsst.sims.maf.metricBundles\" you have an old version of the LSST software stack installed. Please update your software by following the instructions on the [Index](./Index.ipynb) notebook."
   ]
  },
  {
   "cell_type": "code",
   "execution_count": null,
   "metadata": {
    "collapsed": true
   },
   "outputs": [],
   "source": []
  }
 ],
 "metadata": {
  "kernelspec": {
   "display_name": "Python 2",
   "language": "python",
   "name": "python2"
  },
  "language_info": {
   "codemirror_mode": {
    "name": "ipython",
    "version": 2
   },
   "file_extension": ".py",
   "mimetype": "text/x-python",
   "name": "python",
   "nbconvert_exporter": "python",
   "pygments_lexer": "ipython2",
   "version": "2.7.10"
  }
 },
 "nbformat": 4,
 "nbformat_minor": 0
}
