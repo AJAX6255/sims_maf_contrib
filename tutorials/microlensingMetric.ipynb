{
 "cells": [
  {
   "cell_type": "code",
   "execution_count": null,
   "metadata": {},
   "outputs": [],
   "source": [
    "# import matplotlib to show plots inline.\n",
    "%matplotlib inline\n",
    "import matplotlib.pyplot as plt"
   ]
  },
  {
   "cell_type": "code",
   "execution_count": null,
   "metadata": {},
   "outputs": [],
   "source": [
    "import lsst.sims.maf.db as db\n",
    "from lsst.sims.utils import _healbin\n",
    "import lsst.sims.maf.plots as plots\n",
    "import lsst.sims.maf.metrics as metrics\n",
    "import lsst.sims.maf.metricBundles as metricBundles\n",
    "\n",
    "import numpy as np\n",
    "import healpy as hp\n",
    "\n",
    "import microlensingMetric"
   ]
  },
  {
   "cell_type": "code",
   "execution_count": null,
   "metadata": {},
   "outputs": [],
   "source": [
    "#Please enter your SciServer username between the single quotes below!\n",
    "your_username = 'nsabrams'"
   ]
  },
  {
   "cell_type": "code",
   "execution_count": null,
   "metadata": {},
   "outputs": [],
   "source": [
    "#Read in an opSim (in this case \"baseline_v1.5_10yrs.db\")\n",
    "opsdb1 = db.OpsimDatabase('/home/idies/workspace/lsst_cadence/FBS_1.5/baseline_v1.5_10yrs.db')"
   ]
  },
  {
   "cell_type": "markdown",
   "metadata": {},
   "source": [
    "Create an output folder, 'outDir', that will track the results in another database ('resultsDb_sqlite.db').  "
   ]
  },
  {
   "cell_type": "code",
   "execution_count": null,
   "metadata": {},
   "outputs": [],
   "source": [
    "if your_username == '':\n",
    "    raise Exception('Please provide your username!  See the top of this notebook.')\n",
    "    \n",
    "outDir = '/home/idies/workspace/Storage/{}/persistent/LSST_Hackathon/tmp'.format(your_username)\n",
    "resultsDb = db.ResultsDb(outDir=outDir)"
   ]
  },
  {
   "cell_type": "code",
   "execution_count": null,
   "metadata": {},
   "outputs": [],
   "source": [
    "# generate a slicer with 10000 microlensing events\n",
    "slicer = microlensingMetric.generateMicrolensingSlicer(min_crossing_time=1, max_crossing_time=10, n_events=10000)\n",
    "# We can reach into the slicer and plot up the distribution of things\n",
    "dist = _healbin(slicer.slicePoints['ra'], slicer.slicePoints['dec'], slicer.slicePoints['dec']*0+1, reduceFunc=np.sum)\n",
    "hp.mollview(dist, title='Input Microlensing events', unit='N events')"
   ]
  },
  {
   "cell_type": "markdown",
   "metadata": {},
   "source": [
    "## Put time in days before peak you would like the trigger criteria to be met"
   ]
  },
  {
   "cell_type": "code",
   "execution_count": null,
   "metadata": {},
   "outputs": [],
   "source": [
    "metric = microlensingMetric.MicrolensingMetric(time_before_peak = 10)\n",
    "\n",
    "sql = ''\n",
    "# Don't want to try and plot N individual points, \n",
    "plotDict = {'reduceFunc': np.sum, 'nside': 64}\n",
    "plotFuncs = [plots.HealpixSkyMap()]\n",
    "summaryMetrics=[metrics.MeanMetric(maskVal=0)]\n",
    "bundle = metricBundles.MetricBundle(metric, slicer, sql,\n",
    "                                    plotDict=plotDict, plotFuncs=plotFuncs,\n",
    "                                    summaryMetrics=summaryMetrics)\n",
    "bundleDict = {'microlensing': bundle}\n",
    "\n",
    "bgroup = metricBundles.MetricBundleGroup(bundleDict, opsdb1, outDir=outDir, resultsDb=resultsDb)\n",
    "bgroup.runAll()\n",
    "bgroup.plotAll(closefigs=False)"
   ]
  },
  {
   "cell_type": "markdown",
   "metadata": {},
   "source": [
    "## Put detect = True if you would like both side of the light curve to be considered and increase the ptsNeeded on either side of the lightcurve"
   ]
  },
  {
   "cell_type": "code",
   "execution_count": null,
   "metadata": {},
   "outputs": [],
   "source": [
    "metric = microlensingMetric.MicrolensingMetric(detect = True, ptsNeeded = 4)\n",
    "\n",
    "sql = ''\n",
    "# Don't want to try and plot N individual points, \n",
    "plotDict = {'reduceFunc': np.sum, 'nside': 64}\n",
    "plotFuncs = [plots.HealpixSkyMap()]\n",
    "summaryMetrics=[metrics.MeanMetric(maskVal=0)]\n",
    "bundle = metricBundles.MetricBundle(metric, slicer, sql,\n",
    "                                    plotDict=plotDict, plotFuncs=plotFuncs,\n",
    "                                    summaryMetrics=summaryMetrics)\n",
    "bundleDict = {'microlensing': bundle}\n",
    "\n",
    "bgroup = metricBundles.MetricBundleGroup(bundleDict, opsdb1, outDir=outDir, resultsDb=resultsDb)\n",
    "bgroup.runAll()\n",
    "bgroup.plotAll(closefigs=False)"
   ]
  },
  {
   "cell_type": "markdown",
   "metadata": {},
   "source": [
    "## It does not make sense to ask for a trigger before the peak if you want both sides of the lightcurve to be considered, so an error will be raised"
   ]
  },
  {
   "cell_type": "code",
   "execution_count": null,
   "metadata": {},
   "outputs": [],
   "source": [
    "metric = microlensingMetric.MicrolensingMetric(detect = True, time_before_peak = 10)\n",
    "\n",
    "sql = ''\n",
    "# Don't want to try and plot N individual points, \n",
    "plotDict = {'reduceFunc': np.sum, 'nside': 64}\n",
    "plotFuncs = [plots.HealpixSkyMap()]\n",
    "summaryMetrics=[metrics.MeanMetric(maskVal=0)]\n",
    "bundle = metricBundles.MetricBundle(metric, slicer, sql,\n",
    "                                    plotDict=plotDict, plotFuncs=plotFuncs,\n",
    "                                    summaryMetrics=summaryMetrics)\n",
    "bundleDict = {'microlensing': bundle}\n",
    "\n",
    "bgroup = metricBundles.MetricBundleGroup(bundleDict, opsdb1, outDir=outDir, resultsDb=resultsDb)\n",
    "bgroup.runAll()\n",
    "bgroup.plotAll(closefigs=False)"
   ]
  },
  {
   "cell_type": "code",
   "execution_count": null,
   "metadata": {},
   "outputs": [],
   "source": []
  }
 ],
 "metadata": {
  "kernelspec": {
   "display_name": "Python 3",
   "language": "python",
   "name": "python3"
  },
  "language_info": {
   "codemirror_mode": {
    "name": "ipython",
    "version": 3
   },
   "file_extension": ".py",
   "mimetype": "text/x-python",
   "name": "python",
   "nbconvert_exporter": "python",
   "pygments_lexer": "ipython3",
   "version": "3.7.3"
  }
 },
 "nbformat": 4,
 "nbformat_minor": 4
}
