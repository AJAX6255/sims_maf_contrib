{
 "cells": [
  {
   "cell_type": "markdown",
   "metadata": {},
   "source": [
    "## Example of comparing maf run results ##\n",
    "\n",
    "This notebook provides a demonstration of using MAF to compare the summary statistics coming from multiple runs. These summary statistics are visible using 'showMaf' for a single run (for example, see the results from [minion_1016](http://opsim.lsst.org:8080/allMetricResults?runId=7)), but we are developing tools to compare these summary statistics from multiple runs. This provides a small example.\n",
    "\n",
    "Requirements:\n",
    "To run this notebook, you need sims_maf version 2.3.6 or newer. \n",
    "You will also need some resultsDB_sqlite.db (maf results sqlite databases) files to query. We have provided the results dbs from minion_1016 (the current baseline) and minion_1012 (a run containing only the WFD proposal) in this git repo (in the \"resultsDb\" subdirectory in the tutorials directory). "
   ]
  },
  {
   "cell_type": "code",
   "execution_count": 1,
   "metadata": {},
   "outputs": [],
   "source": [
    "# import the modules needed.\n",
    "from __future__ import print_function\n",
    "import os\n",
    "import numpy as np\n",
    "import matplotlib.pyplot as plt\n",
    "%matplotlib inline\n",
    "from lsst.sims.maf.db import ResultsDb"
   ]
  },
  {
   "cell_type": "markdown",
   "metadata": {},
   "source": [
    "Modify the next cell as needed to specify the location of your results database files. If you downloaded the [example set](http://www.astro.washington.edu/users/lynnej/opsim/results_example.tar.gz), set 'rootDir' below to the directory you wish to work with, and untar the 'results_example.tar.gz' file into that directory. \n",
    "\n",
    "Note that the connection to ResultsDB assumes the standard name for the resultsDB file (e.g. \"resultsDb_sqlite.db\"). If you modify these filenames, you should also modify the database name below. An example is given in the last line."
   ]
  },
  {
   "cell_type": "code",
   "execution_count": 2,
   "metadata": {},
   "outputs": [],
   "source": [
    "rootDir = 'resultsDb'\n",
    "rundb = {}\n",
    "rundb['minion_1016'] = ResultsDb(database=os.path.join(rootDir, 'minion_1016_scheduler_results.db'))\n",
    "rundb['minion_1012'] = ResultsDb(database=os.path.join(rootDir, 'minion_1012_scheduler_results.db'))"
   ]
  },
  {
   "cell_type": "markdown",
   "metadata": {},
   "source": [
    "There are various methods on the resultsDb to help you gather information that was recorded in the sqlite file. \n",
    "The most relevant methods, in order to compare metrics between runs, are the **getMetricId**, **getMetricDisplayInfo**, **getSummaryStats**, and **getPlotFiles** methods. These return numpy arrays with the relevant information. Generally, the first thing you'd want to do is identify the 'metricID' for a particular metric. You may know the metric name, the slicer name, and/or the metadata associated with the metric you want.  "
   ]
  },
  {
   "cell_type": "code",
   "execution_count": 3,
   "metadata": {},
   "outputs": [
    {
     "name": "stdout",
     "output_type": "stream",
     "text": [
      "Help on method getMetricId in module lsst.sims.maf.db.resultsDb:\n",
      "\n",
      "getMetricId(metricName, slicerName=None, metricMetadata=None, simDataName=None) method of lsst.sims.maf.db.resultsDb.ResultsDb instance\n",
      "    Given a metric name and optional slicerName/metricMetadata/simData information,\n",
      "    Return a list of the matching metricIds.\n",
      "\n",
      "Help on method getMetricDisplayInfo in module lsst.sims.maf.db.resultsDb:\n",
      "\n",
      "getMetricDisplayInfo(metricId=None) method of lsst.sims.maf.db.resultsDb.ResultsDb instance\n",
      "    Get the contents of the metrics and displays table, together with the 'basemetricname'\n",
      "    (optionally, for metricId list).\n",
      "    Returns a numpy array of the metric information + display information.\n",
      "\n",
      "Help on method getSummaryStats in module lsst.sims.maf.db.resultsDb:\n",
      "\n",
      "getSummaryStats(metricId=None, summaryName=None) method of lsst.sims.maf.db.resultsDb.ResultsDb instance\n",
      "    Get the summary stats (optionally for metricId list).\n",
      "    Optionally, also specify the summary metric name.\n",
      "    Returns a numpy array of the metric information + summary statistic information.\n",
      "\n",
      "Help on method getPlotFiles in module lsst.sims.maf.db.resultsDb:\n",
      "\n",
      "getPlotFiles(metricId=None) method of lsst.sims.maf.db.resultsDb.ResultsDb instance\n",
      "    Return the metricId, name, metadata, and all plot info (optionally for metricId list).\n",
      "    Returns a numpy array of the metric information + plot file names.\n",
      "\n"
     ]
    }
   ],
   "source": [
    "help(rundb['minion_1016'].getMetricId)\n",
    "help(rundb['minion_1016'].getMetricDisplayInfo)\n",
    "help(rundb['minion_1016'].getSummaryStats)\n",
    "help(rundb['minion_1016'].getPlotFiles)"
   ]
  },
  {
   "cell_type": "markdown",
   "metadata": {},
   "source": [
    "For example: you might want to look at the \"Nvisits\" metric results. In our scheduler validation metric runs, the \"Nvisits\" metric counts how many visits a field receives; without any further clarification, getMetricId will return the metric IDs associated with all metrics named Nvisits.  (There are actually one of these for each filter for each of 'All props', 'DD' and 'WFD' -- the information on the metrics available can be derived from the showMaf visualization of the MAF run results). "
   ]
  },
  {
   "cell_type": "code",
   "execution_count": 4,
   "metadata": {},
   "outputs": [
    {
     "name": "stdout",
     "output_type": "stream",
     "text": [
      "minion_1016 [167, 1709, 1710, 1701, 1689, 1939, 1120, 1213, 1022, 566, 627, 1187, 1043, 1105, 2530, 2605, 2621, 2606, 889, 899, 2401, 808, 820, 1393, 112, 1330, 1772, 1705, 294, 1706, 1707]\n",
      "\n",
      "minion_1012 [172, 185, 186, 1010, 768, 914, 337, 841, 463, 255, 1145, 1173, 1159, 692, 936, 557, 543, 114, 188, 187]\n",
      "\n"
     ]
    }
   ],
   "source": [
    "metricName = 'NVisits'\n",
    "mIds = {}\n",
    "for r in rundb:\n",
    "    mIds[r] = rundb[r].getMetricId(metricName=metricName)\n",
    "    print(r, mIds[r])\n",
    "    print('')"
   ]
  },
  {
   "cell_type": "markdown",
   "metadata": {},
   "source": [
    "We can also specify a particular metadata value -- so let's look for Nvisits metric results for the r band, WFD only."
   ]
  },
  {
   "cell_type": "code",
   "execution_count": 5,
   "metadata": {},
   "outputs": [
    {
     "name": "stdout",
     "output_type": "stream",
     "text": [
      "minion_1016 [1213]\n",
      "minion_1012 [914]\n"
     ]
    }
   ],
   "source": [
    "# Retrieve all summary statistics for a metric + set of metric metadata + for a particular slicer.\n",
    "metricName = 'NVisits'\n",
    "metricMetadata = 'i band, WFD'\n",
    "mIds = {}\n",
    "for r in rundb:\n",
    "    mIds[r] = rundb[r].getMetricId(metricName=metricName, metricMetadata=metricMetadata)\n",
    "    print(r, mIds[r])"
   ]
  },
  {
   "cell_type": "markdown",
   "metadata": {},
   "source": [
    "With this very specific information and the metricIds associated with this specific metric, we can then get the plots associated with this metric and the summary statistics."
   ]
  },
  {
   "cell_type": "code",
   "execution_count": 6,
   "metadata": {},
   "outputs": [
    {
     "name": "stdout",
     "output_type": "stream",
     "text": [
      "Run minion_1016\n",
      "[b'minion_1016_NVisits_i_band_WFD_OPSI_SkyMap.pdf'\n",
      " b'minion_1016_NVisits_i_band_WFD_OPSI_Histogram.pdf']\n",
      "[ (1213, b'NVisits', b'OpsimFieldSlicer', b'i band, WFD', b'Mean',   200.34452682)\n",
      " (1213, b'NVisits', b'OpsimFieldSlicer', b'i band, WFD', b'Rms',     3.00441773)\n",
      " (1213, b'NVisits', b'OpsimFieldSlicer', b'i band, WFD', b'Median',   201.        )\n",
      " (1213, b'NVisits', b'OpsimFieldSlicer', b'i band, WFD', b'Count',  2293.        )\n",
      " (1213, b'NVisits', b'OpsimFieldSlicer', b'i band, WFD', b'N(+3Sigma)',     0.        )\n",
      " (1213, b'NVisits', b'OpsimFieldSlicer', b'i band, WFD', b'N(-3Sigma)',     0.        )\n",
      " (1213, b'NVisits', b'OpsimFieldSlicer', b'i band, WFD', b'25th%ile',   197.        )\n",
      " (1213, b'NVisits', b'OpsimFieldSlicer', b'i band, WFD', b'75th%ile',   203.        )\n",
      " (1213, b'NVisits', b'OpsimFieldSlicer', b'i band, WFD', b'Min',   194.        )\n",
      " (1213, b'NVisits', b'OpsimFieldSlicer', b'i band, WFD', b'Max',   207.        )]\n",
      "\n",
      "Run minion_1012\n",
      "[b'minion_1012_NVisits_i_band_WFD_OPSI_SkyMap.pdf'\n",
      " b'minion_1012_NVisits_i_band_WFD_OPSI_Histogram.pdf']\n",
      "[ (914, b'NVisits', b'OpsimFieldSlicer', b'i band, WFD', b'Mean',   232.28129089)\n",
      " (914, b'NVisits', b'OpsimFieldSlicer', b'i band, WFD', b'Rms',    26.9724995 )\n",
      " (914, b'NVisits', b'OpsimFieldSlicer', b'i band, WFD', b'Median',   216.        )\n",
      " (914, b'NVisits', b'OpsimFieldSlicer', b'i band, WFD', b'Count',  2293.        )\n",
      " (914, b'NVisits', b'OpsimFieldSlicer', b'i band, WFD', b'N(+3Sigma)',    25.        )\n",
      " (914, b'NVisits', b'OpsimFieldSlicer', b'i band, WFD', b'N(-3Sigma)',     0.        )\n",
      " (914, b'NVisits', b'OpsimFieldSlicer', b'i band, WFD', b'25th%ile',   215.        )\n",
      " (914, b'NVisits', b'OpsimFieldSlicer', b'i band, WFD', b'75th%ile',   253.        )\n",
      " (914, b'NVisits', b'OpsimFieldSlicer', b'i band, WFD', b'Min',   210.        )\n",
      " (914, b'NVisits', b'OpsimFieldSlicer', b'i band, WFD', b'Max',   363.        )]\n",
      "\n"
     ]
    }
   ],
   "source": [
    "for r in rundb:\n",
    "    plotFiles = rundb[r].getPlotFiles(mIds[r])\n",
    "    summaryStats = rundb[r].getSummaryStats(mIds[r])\n",
    "    print(\"Run %s\" %r)\n",
    "    print(plotFiles['plotFile']) # this is a numpy array with the metric information + plot file name\n",
    "    print(summaryStats)\n",
    "    print('')"
   ]
  },
  {
   "cell_type": "markdown",
   "metadata": {
    "collapsed": true
   },
   "source": [
    "And if we had a very specific summary statistic we wanted to get, for a very specific metric, slicer and metric metadata combination: "
   ]
  },
  {
   "cell_type": "code",
   "execution_count": 7,
   "metadata": {},
   "outputs": [],
   "source": [
    "metricName = 'NVisits'\n",
    "slicerName = 'OneDSlicer'\n",
    "metricMetadata  = 'Per night'  # capitalization matters!\n",
    "summaryStatName = 'Median'\n",
    "\n",
    "stats = {}\n",
    "for r in rundb:\n",
    "    mIds = rundb[r].getMetricId(metricName=metricName, metricMetadata=metricMetadata, slicerName=slicerName)\n",
    "    stats[r] = rundb[r].getSummaryStats(mIds, summaryName=summaryStatName)   "
   ]
  },
  {
   "cell_type": "markdown",
   "metadata": {},
   "source": [
    "At this point, 'stats' is a dictionary containing a numpy array with fields \"metricId\", \"metricMetadata, \"slicerName\",  \"summaryName\" and \"summaryValue\" for each statistic that matches the metricIds: (i.e. all the metric info and the summary statistic info). "
   ]
  },
  {
   "cell_type": "code",
   "execution_count": 8,
   "metadata": {},
   "outputs": [
    {
     "name": "stdout",
     "output_type": "stream",
     "text": [
      "[(167, b'NVisits', b'OneDSlicer', b'Per night', b'Median',  816.)]\n",
      "[ 816.]\n"
     ]
    }
   ],
   "source": [
    "# All of the values in stats\n",
    "print(stats['minion_1016'])\n",
    "# And the relevant 'summaryValue' -- of which there is only one, because we used one metricID and one summaryStatName.\n",
    "print(stats['minion_1016']['summaryValue'])"
   ]
  },
  {
   "cell_type": "code",
   "execution_count": 9,
   "metadata": {
    "scrolled": true
   },
   "outputs": [
    {
     "name": "stdout",
     "output_type": "stream",
     "text": [
      "minion_1016 816.0 1.0\n",
      "minion_1012 807.0 0.988970588235\n"
     ]
    }
   ],
   "source": [
    "# So you can easily create bigger tables or ratios:\n",
    "baseline = stats['minion_1016']['summaryValue'][0]\n",
    "for r in rundb:\n",
    "    print(r, stats[r]['summaryValue'][0], stats[r]['summaryValue'][0]/baseline)"
   ]
  },
  {
   "cell_type": "code",
   "execution_count": 10,
   "metadata": {},
   "outputs": [
    {
     "name": "stdout",
     "output_type": "stream",
     "text": [
      "minion_1016\n",
      "[('Nights in survey',   3.65000000e+03) ('Total NVisits',   2.44793100e+06)\n",
      " ('NVisits Per night',   8.16000000e+02)\n",
      " ('Mean slew time',   6.82073495e+00)\n",
      " ('Mean Nfilter changes',   4.28717779e+00)\n",
      " ('Total Nfilter changes',   1.41940000e+04)\n",
      " ('Median Nvisits WFD',   9.12000000e+02)\n",
      " ('Median Nvisits r All',   1.97000000e+02)]\n",
      "minion_1012\n",
      "[('Nights in survey',   3.65000000e+03) ('Total NVisits',   2.42193300e+06)\n",
      " ('NVisits Per night',   8.07000000e+02)\n",
      " ('Mean slew time',   7.23858778e+00)\n",
      " ('Mean Nfilter changes',   3.21454545e+00)\n",
      " ('Total Nfilter changes',   1.09480000e+04)\n",
      " ('Median Nvisits WFD',   9.74000000e+02)\n",
      " ('Median Nvisits r All',   2.16000000e+02)]\n"
     ]
    }
   ],
   "source": [
    "# Or you could pull out several summary statistics, to plot together.\n",
    "\n",
    "# Nice names for the comparisons we'll do (nice names for a plot)\n",
    "metricComparisons = ['Nights in survey', 'Total NVisits', 'NVisits Per night', 'Mean slew time', 'Mean Nfilter changes', \n",
    "                     'Total Nfilter changes', 'Median Nvisits WFD', 'Median Nvisits r All']\n",
    "# But we need to know how to pull this info out of the resultsDB, so get the actual metric names, metadata, summaryName.\n",
    "metricInfo = [{'metricName':'Total nights in survey', 'metadata':None, 'summary':None},\n",
    "              {'metricName':'NVisits', 'metadata':'All Visits', 'summary':None},\n",
    "              {'metricName':'NVisits', 'metadata':'Per night', 'summary':'Median'},\n",
    "              {'metricName':'Mean slewTime', 'metadata':None, 'summary':None},\n",
    "              {'metricName':'Filter Changes', 'metadata':'Per night', 'summary':'Mean'}, \n",
    "              {'metricName':'Total Filter Changes', 'metadata':'All visits', 'summary':None},\n",
    "              {'metricName':'NVisits', 'metadata':'All filters, WFD', 'summary':'Median'},\n",
    "              {'metricName':'NVisits', 'metadata':'r band, all props', 'summary':'Median'}]\n",
    "\n",
    "stats = {}\n",
    "for r in rundb:\n",
    "    stats[r] = np.empty((len(metricComparisons)), dtype=([('name', np.str, 50), ('value', float)]))\n",
    "    for i, (mComparison, mInfo) in enumerate(zip(metricComparisons, metricInfo)):\n",
    "        mIds = rundb[r].getMetricId(metricName=mInfo['metricName'], metricMetadata=mInfo['metadata'])\n",
    "        s = rundb[r].getSummaryStats(mIds, summaryName=mInfo['summary'])\n",
    "        if len(s) == 0:\n",
    "            print(\"Could not find metric summary stat matching info for :\")\n",
    "            print(\"\\t\", r, mComparison)\n",
    "            print(\"\\t\", mInfo)\n",
    "        else:\n",
    "            stats[r]['name'][i] = mComparison\n",
    "            stats[r]['value'][i] = s['summaryValue'][0]\n",
    "\n",
    "# Let's print the results.\n",
    "for r in rundb:\n",
    "    print(r)\n",
    "    print(stats[r])"
   ]
  },
  {
   "cell_type": "code",
   "execution_count": 11,
   "metadata": {},
   "outputs": [
    {
     "data": {
      "text/plain": [
       "<matplotlib.legend.Legend at 0x11eabe710>"
      ]
     },
     "execution_count": 11,
     "metadata": {},
     "output_type": "execute_result"
    },
    {
     "data": {
      "image/png": "[encoded data removed]",
      "text/plain": [
       "<matplotlib.figure.Figure at 0x11ea6aeb8>"
      ]
     },
     "metadata": {},
     "output_type": "display_data"
    }
   ],
   "source": [
    "# Because the scales will be quite different (# of visits vs. # of filter changes, for example), normalize\n",
    "#   both by dividing by the first set of values (or pick another baseline).\n",
    "\n",
    "baseline = stats['minion_1016']['value']\n",
    "xoffset = 0.8/(float(len(rundb)))\n",
    "x = np.arange(len(baseline))\n",
    "colors = ['k', 'lightgrey', 'r']\n",
    "for i, r in enumerate(rundb):\n",
    "    plt.bar(x+i*xoffset, stats[r]['value']/baseline, width=xoffset, color=colors[i], label=r)\n",
    "plt.xticks(x, stats[r]['name'], rotation=80)\n",
    "plt.axhline(1.0)\n",
    "plt.ylim(0.7, 1.2)\n",
    "plt.legend(loc=(1.0, 0.2))"
   ]
  },
  {
   "cell_type": "markdown",
   "metadata": {},
   "source": [
    "We can also do more general comparisons. We can query for all of the metrics and summary statistics; Pandas becomes useful at this point, for slicing and dicing these bigger arrays. \n"
   ]
  },
  {
   "cell_type": "code",
   "execution_count": 12,
   "metadata": {},
   "outputs": [],
   "source": [
    "import pandas as pd\n",
    "\n",
    "# Pull out *ALL* the summary stats from the results database, joined with the metric information.\n",
    "metrics = {}\n",
    "stats = {}\n",
    "for r in rundb:\n",
    "    metrics[r] = rundb[r].getMetricDisplayInfo()\n",
    "    stats[r] = rundb[r].getSummaryStats()\n",
    "    metrics[r] = pd.DataFrame(metrics[r])\n",
    "    stats[r] = pd.DataFrame(stats[r])"
   ]
  },
  {
   "cell_type": "code",
   "execution_count": 13,
   "metadata": {},
   "outputs": [
    {
     "name": "stdout",
     "output_type": "stream",
     "text": [
      "metricId                                                          99\n",
      "metricName                                            Median FWHMeff\n",
      "baseMetricNames                                       Median FWHMeff\n",
      "slicerName                                                 UniSlicer\n",
      "sqlConstraint                                                       \n",
      "metricMetadata                                   all band, all props\n",
      "metricDataFile     minion_1016_Median_FWHMeff_all_band_all_props_...\n",
      "displayGroup                                               G: Seeing\n",
      "displaySubgroup                                            All Props\n",
      "displayOrder                                                    3324\n",
      "displayCaption     Median FWHMeff calculated on a UniSlicer basis...\n",
      "Name: 98, dtype: object\n",
      "\n",
      "metricId                           99\n",
      "metricName             Median FWHMeff\n",
      "slicerName                  UniSlicer\n",
      "metricMetadata    all band, all props\n",
      "summaryName                  Identity\n",
      "summaryValue                 0.919177\n",
      "Name: 98, dtype: object\n"
     ]
    }
   ],
   "source": [
    "# This will not be necessary in the future, but until bytes/strings are completely sorted out, it's around for now.\n",
    "def convertbytes(x):\n",
    "    try:\n",
    "        return x.decode('utf-8')\n",
    "    except AttributeError:\n",
    "        return x\n",
    "\n",
    "for r in rundb:\n",
    "    metrics[r] = metrics[r].applymap(convertbytes)\n",
    "    stats[r] = stats[r].applymap(convertbytes)\n",
    "    \n",
    "    \n",
    "print(metrics['minion_1016'].iloc[98])\n",
    "print('')\n",
    "print(stats['minion_1016'].iloc[98])"
   ]
  },
  {
   "cell_type": "code",
   "execution_count": 14,
   "metadata": {},
   "outputs": [
    {
     "name": "stdout",
     "output_type": "stream",
     "text": [
      "minion_1016 39\n",
      "minion_1012 39\n"
     ]
    }
   ],
   "source": [
    "# Let's pull out all the metrics for subgroup 'WFD' in the Seeing group.\n",
    "# We'll put these in a dataframe which we'll later compare between the two runs to find the ones present in both.\n",
    "# We'll pull out the percentile and N+-3sigma metrics.\n",
    "\n",
    "groupList = ['G: Seeing' ]\n",
    "\n",
    "mStats = {}\n",
    "for r in rundb:\n",
    "    m = metrics[r].query('displaySubgroup == \"WFD\"')\n",
    "    m = m.query('displayGroup in @groupList')\n",
    "    m = m.query('slicerName != \"OneDSlicer\"')\n",
    "    m = m[m.metricName.str.contains('%ile') == False]\n",
    "    m = m[m.metricName.str.contains('N') == False]\n",
    "    m = m[m.metricName.str.contains('Count') == False]\n",
    "    mIds = m.metricId \n",
    "    s = stats[r].query('metricId in @mIds')\n",
    "    # And cut it down a little further by throwing out some of the summary stats too. \n",
    "    s = s[s.summaryName.str.contains('%ile') == False] \n",
    "    s = s[s.summaryName.str.contains('N') == False]\n",
    "    s = s[s.summaryName.str.contains('Count') == False]\n",
    "    mStats[r] = s\n",
    "    # we could have done this using getSummaryStats directly on the resultsDb too.\n",
    "    print(r, len(mStats[r]))"
   ]
  },
  {
   "cell_type": "code",
   "execution_count": 15,
   "metadata": {},
   "outputs": [],
   "source": [
    "# Pull out summary stats common to both runs and join into one data frame.\n",
    "compStats = pd.merge_ordered(mStats['minion_1016'], mStats['minion_1012'], how='inner', \n",
    "                       on=('metricName', 'slicerName', 'metricMetadata', 'summaryName'),\n",
    "                       suffixes=('_minion_1016', '_minion_1012'))\n",
    "#compStats"
   ]
  },
  {
   "cell_type": "code",
   "execution_count": 16,
   "metadata": {},
   "outputs": [],
   "source": [
    "# Add names which are nicer to plot.\n",
    "def makeName(x):\n",
    "    if x.summaryName == 'Identity':\n",
    "        mName = ' '.join([x.metricName, x.metricMetadata])\n",
    "    else:\n",
    "        mName = ' '.join([x.summaryName, x.metricName, x.metricMetadata])\n",
    "    return mName\n",
    "     \n",
    "compStats['mname'] = compStats.apply(makeName, axis=1)\n",
    "#compStats"
   ]
  },
  {
   "cell_type": "code",
   "execution_count": 17,
   "metadata": {
    "scrolled": true
   },
   "outputs": [
    {
     "data": {
      "text/plain": [
       "<matplotlib.legend.Legend at 0x1240ccb00>"
      ]
     },
     "execution_count": 17,
     "metadata": {},
     "output_type": "execute_result"
    },
    {
     "data": {
      "image/png": "[encoded data removed]",
      "text/plain": [
       "<matplotlib.figure.Figure at 0x12833b978>"
      ]
     },
     "metadata": {},
     "output_type": "display_data"
    }
   ],
   "source": [
    "baseline= 'minion_1016'\n",
    "xoffset = .6/(float(len(rundb)))\n",
    "x = np.arange(len(compStats))\n",
    "plt.figure(figsize=(15, 6))\n",
    "colors = ['k', 'gray', 'lightgray']\n",
    "for i, r in enumerate(rundb):\n",
    "    plt.bar(x+i*xoffset, compStats['summaryValue_%s' % r]/compStats['summaryValue_%s' % baseline], \n",
    "            width=xoffset, color=colors[i], label=r)\n",
    "plt.xticks(x, compStats['mname'], rotation=90)\n",
    "plt.axhline(1.0)\n",
    "plt.ylim(0.7, 1.2)\n",
    "plt.legend(loc=(0.98, 0.3))"
   ]
  },
  {
   "cell_type": "code",
   "execution_count": null,
   "metadata": {
    "collapsed": true
   },
   "outputs": [],
   "source": []
  }
 ],
 "metadata": {
  "kernelspec": {
   "display_name": "Python 3",
   "language": "python",
   "name": "python3"
  },
  "language_info": {
   "codemirror_mode": {
    "name": "ipython",
    "version": 3
   },
   "file_extension": ".py",
   "mimetype": "text/x-python",
   "name": "python",
   "nbconvert_exporter": "python",
   "pygments_lexer": "ipython3",
   "version": "3.6.2"
  }
 },
 "nbformat": 4,
 "nbformat_minor": 1
}
