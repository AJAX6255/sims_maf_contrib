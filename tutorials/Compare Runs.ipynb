{
 "cells": [
  {
   "cell_type": "markdown",
   "metadata": {},
   "source": [
    "## Example of comparing maf run results ##\n",
    "\n",
    "This notebook provides a demonstration of using MAF to compare the summary statistics coming from multiple runs. These summary statistics are visible using 'showMaf' for a single run (for example, see the results from [enigma_1189](http://tusken.astro.washington.edu:8080/summaryStats?runId=2)), but we are starting to develop tools to compare these summary statistics from multiple runs. \n",
    "\n",
    "Requirements:\n",
    "To run this notebook, you need sims_maf version >= 1.3. \n",
    "You will also need some resultsDB_sqlite.db (maf results sqlite databases) files to query. An example set (as expected in this notebook) is available for [download](http://www.astro.washington.edu/users/lynnej/opsim/results_example.tar.gz). "
   ]
  },
  {
   "cell_type": "code",
   "execution_count": 16,
   "metadata": {
    "collapsed": false
   },
   "outputs": [],
   "source": [
    "# import the modules needed.\n",
    "import os\n",
    "import numpy as np\n",
    "import matplotlib.pyplot as plt\n",
    "%matplotlib inline\n",
    "from lsst.sims.maf.db import ResultsDb"
   ]
  },
  {
   "cell_type": "markdown",
   "metadata": {},
   "source": [
    "Modify the next cell as needed to specify the location of your results database files. If you downloaded the [example set](http://www.astro.washington.edu/users/lynnej/opsim/results_example.tar.gz), set 'rootDir' below to the directory you wish to work with, and untar the 'results_example.tar.gz' file into that directory. \n",
    "\n",
    "Note that the connection to ResultsDB assumes the standard name for the resultsDB file (e.g. \"resultsDb_sqlite.db\"). If you modify these filenames, you should also modify the database name below. An example is given in the last line."
   ]
  },
  {
   "cell_type": "code",
   "execution_count": 3,
   "metadata": {
    "collapsed": false
   },
   "outputs": [],
   "source": [
    "rootDir = '.'\n",
    "rundb = {}\n",
    "rundb['enigma_1189'] = ResultsDb(database=os.path.join(rootDir, 'enigma_1189_results.db'))\n",
    "rundb['ewok_1004'] = ResultsDb(database=os.path.join(rootDir, 'ewok_1004_results.db'))"
   ]
  },
  {
   "cell_type": "markdown",
   "metadata": {},
   "source": [
    "There are various methods on the resultsDb to help you gather information that was recorded in the sqlite file. \n",
    "The most relevant methods, in order to compare metrics between runs, are the **getMetricId**, **getMetricDisplayInfo**, **getSummaryStats**, and **getPlotFiles** methods. These return numpy arrays with the relevant information. Generally, the first thing you'd want to do is identify the 'metricID' for a particular metric. You may know the metric name, the slicer name, and/or the metadata associated with the metric you want.  "
   ]
  },
  {
   "cell_type": "code",
   "execution_count": 4,
   "metadata": {
    "collapsed": false
   },
   "outputs": [
    {
     "name": "stdout",
     "output_type": "stream",
     "text": [
      "Help on method getMetricId in module lsst.sims.maf.db.resultsDb:\n",
      "\n",
      "getMetricId(self, metricName, slicerName=None, metricMetadata=None, simDataName=None) method of lsst.sims.maf.db.resultsDb.ResultsDb instance\n",
      "    Given a metric name and optional slicerName/metricMetadata/simData information,\n",
      "    Return a list of the matching metricIds.\n",
      "\n",
      "Help on method getMetricDisplayInfo in module lsst.sims.maf.db.resultsDb:\n",
      "\n",
      "getMetricDisplayInfo(self, metricId=None) method of lsst.sims.maf.db.resultsDb.ResultsDb instance\n",
      "    Get the contents of the metrics and displays table, together with the 'basemetricname' (optionally, for metricId list).\n",
      "    Returns a numpy array of the metric information + display information.\n",
      "\n",
      "Help on method getSummaryStats in module lsst.sims.maf.db.resultsDb:\n",
      "\n",
      "getSummaryStats(self, metricId=None, summaryName=None) method of lsst.sims.maf.db.resultsDb.ResultsDb instance\n",
      "    Get the summary stats (optionally for metricId list).\n",
      "    Optionally, also specify the summary metric name.\n",
      "    Returns a numpy array of the metric information + summary statistic information.\n",
      "\n",
      "Help on method getPlotFiles in module lsst.sims.maf.db.resultsDb:\n",
      "\n",
      "getPlotFiles(self, metricId=None) method of lsst.sims.maf.db.resultsDb.ResultsDb instance\n",
      "    Return the metricId, name, metadata, and all plot info (optionally for metricId list).\n",
      "    Returns a numpy array of the metric information + plot file names.\n",
      "\n"
     ]
    }
   ],
   "source": [
    "help(rundb['enigma_1189'].getMetricId)\n",
    "help(rundb['enigma_1189'].getMetricDisplayInfo)\n",
    "help(rundb['enigma_1189'].getSummaryStats)\n",
    "help(rundb['enigma_1189'].getPlotFiles)"
   ]
  },
  {
   "cell_type": "markdown",
   "metadata": {},
   "source": [
    "For example: you might want to look at the \"Nvisits\" metric results. In our scheduler validation metric runs, the \"Nvisits\" metric counts how many visits a field receives; without any further clarification, getMetricId will return the metric IDs associated with all metrics named Nvisits.  (There are actually one of these for each filter for each of 'All props', 'DD' and 'WFD' -- the information on the metrics available can be derived from the showMaf visualization of the MAF run results). "
   ]
  },
  {
   "cell_type": "code",
   "execution_count": 5,
   "metadata": {
    "collapsed": false
   },
   "outputs": [
    {
     "name": "stdout",
     "output_type": "stream",
     "text": [
      "enigma_1189 [2280, 902, 2283, 817, 740, 1770, 2603, 1845, 824, 1276, 424, 348, 429, 2621, 1057, 981, 1695, 2357, 2361, 1350, 2628]\n",
      "\n",
      "ewok_1004 [2231, 1116, 1766, 636, 1397, 700, 1587, 487, 1194, 2418, 1328, 2485, 2605, 2622, 2606, 1585, 563, 2290, 2228, 300, 835]\n",
      "\n"
     ]
    }
   ],
   "source": [
    "metricName = 'Nvisits'\n",
    "mIds = {}\n",
    "for r in rundb:\n",
    "    mIds[r] = rundb[r].getMetricId(metricName=metricName)\n",
    "    print r, mIds[r]\n",
    "    print ''"
   ]
  },
  {
   "cell_type": "markdown",
   "metadata": {},
   "source": [
    "We can also specify a particular metadata value -- so let's look for Nvisits metric results for the r band, WFD only."
   ]
  },
  {
   "cell_type": "code",
   "execution_count": 6,
   "metadata": {
    "collapsed": false
   },
   "outputs": [
    {
     "name": "stdout",
     "output_type": "stream",
     "text": [
      "enigma_1189 [740]\n",
      "ewok_1004 [1397]\n"
     ]
    }
   ],
   "source": [
    "# Retrieve all summary statistics for a metric + set of metric metadata + for a particular slicer.\n",
    "metricName = 'Nvisits'\n",
    "metricMetadata = 'i band, WFD'\n",
    "mIds = {}\n",
    "for r in rundb:\n",
    "    mIds[r] = rundb[r].getMetricId(metricName=metricName, metricMetadata=metricMetadata)\n",
    "    print r, mIds[r]"
   ]
  },
  {
   "cell_type": "markdown",
   "metadata": {},
   "source": [
    "With this very specific information and the metricIds associated with this specific metric, we can then get the plots associated with this metric and the summary statistics."
   ]
  },
  {
   "cell_type": "code",
   "execution_count": 7,
   "metadata": {
    "collapsed": false
   },
   "outputs": [
    {
     "name": "stdout",
     "output_type": "stream",
     "text": [
      "Run enigma_1189\n",
      "['enigma_1189_Nvisits_i_band_WFD_OPSI_Histogram.pdf'\n",
      " 'enigma_1189_Nvisits_i_band_WFD_OPSI_SkyMap.pdf']\n",
      "[(740, 'Nvisits', 'OpsimFieldSlicer', 'i band, WFD', '75th%ile', 205.0)\n",
      " (740, 'Nvisits', 'OpsimFieldSlicer', 'i band, WFD', '25th%ile', 199.0)\n",
      " (740, 'Nvisits', 'OpsimFieldSlicer', 'i band, WFD', 'N(+3Sigma)', 3.0)\n",
      " (740, 'Nvisits', 'OpsimFieldSlicer', 'i band, WFD', 'Min', 194.0)\n",
      " (740, 'Nvisits', 'OpsimFieldSlicer', 'i band, WFD', 'Median', 202.0)\n",
      " (740, 'Nvisits', 'OpsimFieldSlicer', 'i band, WFD', 'N(-3Sigma)', 0.0)\n",
      " (740, 'Nvisits', 'OpsimFieldSlicer', 'i band, WFD', 'Max', 602.0)\n",
      " (740, 'Nvisits', 'OpsimFieldSlicer', 'i band, WFD', 'Count', 2293.0)\n",
      " (740, 'Nvisits', 'OpsimFieldSlicer', 'i band, WFD', 'Mean', 202.62363715656346)\n",
      " (740, 'Nvisits', 'OpsimFieldSlicer', 'i band, WFD', 'Rms', 11.914585513449934)]\n",
      "\n",
      "Run ewok_1004\n",
      "['ewok_1004_Nvisits_i_band_WFD_OPSI_SkyMap.pdf'\n",
      " 'ewok_1004_Nvisits_i_band_WFD_OPSI_Histogram.pdf']\n",
      "[ (1397, 'Nvisits', 'OpsimFieldSlicer', 'i band, WFD', 'Mean', 199.44265154819016)\n",
      " (1397, 'Nvisits', 'OpsimFieldSlicer', 'i band, WFD', 'Rms', 2.8630394035901454)\n",
      " (1397, 'Nvisits', 'OpsimFieldSlicer', 'i band, WFD', 'Median', 200.0)\n",
      " (1397, 'Nvisits', 'OpsimFieldSlicer', 'i band, WFD', 'Count', 2293.0)\n",
      " (1397, 'Nvisits', 'OpsimFieldSlicer', 'i band, WFD', 'N(+3Sigma)', 0.0)\n",
      " (1397, 'Nvisits', 'OpsimFieldSlicer', 'i band, WFD', 'N(-3Sigma)', 0.0)\n",
      " (1397, 'Nvisits', 'OpsimFieldSlicer', 'i band, WFD', '25th%ile', 197.0)\n",
      " (1397, 'Nvisits', 'OpsimFieldSlicer', 'i band, WFD', '75th%ile', 202.0)\n",
      " (1397, 'Nvisits', 'OpsimFieldSlicer', 'i band, WFD', 'Min', 193.0)\n",
      " (1397, 'Nvisits', 'OpsimFieldSlicer', 'i band, WFD', 'Max', 206.0)]\n",
      "\n"
     ]
    }
   ],
   "source": [
    "for r in rundb:\n",
    "    plotFiles = rundb[r].getPlotFiles(mIds[r])\n",
    "    summaryStats = rundb[r].getSummaryStats(mIds[r])\n",
    "    print \"Run %s\" %r\n",
    "    print plotFiles['plotFile']  # this is a numpy array with the metric information + plot file name\n",
    "    print summaryStats\n",
    "    print ''"
   ]
  },
  {
   "cell_type": "markdown",
   "metadata": {
    "collapsed": true
   },
   "source": [
    "And if we had a very specific summary statistic we wanted to get, for a very specific metric, slicer and metric metadata combination: "
   ]
  },
  {
   "cell_type": "code",
   "execution_count": 8,
   "metadata": {
    "collapsed": false
   },
   "outputs": [],
   "source": [
    "metricName = 'NVisits'\n",
    "slicerName = 'OneDSlicer'\n",
    "metricMetadata  = 'Per night'  # capitalization matters!\n",
    "summaryStatName = 'Median'\n",
    "\n",
    "stats = {}\n",
    "for r in rundb:\n",
    "    mIds = rundb[r].getMetricId(metricName=metricName, metricMetadata=metricMetadata, slicerName=slicerName)\n",
    "    stats[r] = rundb[r].getSummaryStats(mIds, summaryName=summaryStatName)   "
   ]
  },
  {
   "cell_type": "markdown",
   "metadata": {},
   "source": [
    "At this point, 'stats' is a dictionary containing a numpy array with fields \"metricId\", \"metricMetadata, \"slicerName\",  \"summaryName\" and \"summaryValue\" for each statistic that matches the metricIds: (i.e. all the metric info and the summary statistic info). "
   ]
  },
  {
   "cell_type": "code",
   "execution_count": 9,
   "metadata": {
    "collapsed": false
   },
   "outputs": [
    {
     "name": "stdout",
     "output_type": "stream",
     "text": [
      "[(106, 'NVisits', 'OneDSlicer', 'Per night', 'Median', 815.0)]\n",
      "[ 815.]\n"
     ]
    }
   ],
   "source": [
    "# All of the values in stats\n",
    "print stats['enigma_1189']\n",
    "# And the relevant 'summaryValue' -- of which there is only one, because we used one metricID and one summaryStatName.\n",
    "print stats['enigma_1189']['summaryValue']"
   ]
  },
  {
   "cell_type": "code",
   "execution_count": 10,
   "metadata": {
    "collapsed": false,
    "scrolled": true
   },
   "outputs": [
    {
     "name": "stdout",
     "output_type": "stream",
     "text": [
      "enigma_1189 815.0 1.0\n",
      "ewok_1004 817.0 1.00245398773\n"
     ]
    }
   ],
   "source": [
    "# So you can easily create bigger tables or ratios:\n",
    "baseline = stats['enigma_1189']['summaryValue'][0]\n",
    "for r in rundb:\n",
    "    print r, stats[r]['summaryValue'][0], stats[r]['summaryValue'][0]/baseline"
   ]
  },
  {
   "cell_type": "code",
   "execution_count": 75,
   "metadata": {
    "collapsed": false
   },
   "outputs": [
    {
     "name": "stdout",
     "output_type": "stream",
     "text": [
      "enigma_1189 [ 815.            6.94987078    4.59242325  919.          199.        ]\n",
      "ewok_1004 [ 817.            6.82632627    4.26602776  911.          196.        ]\n"
     ]
    }
   ],
   "source": [
    "# Or you could pull out several summary statistics, to plot together.\n",
    "\n",
    "# Nice names for the comparisons we'll do (nice names for a plot)\n",
    "metricComparisons = ['NVisits Per night', 'Mean slew time', 'Mean Nfilter changes', \n",
    "                     'Median Nvisits WFD', 'Median Nvisits r All']\n",
    "# But we need to know how to pull this info out of the resultsDB, so get the actual metric names, metadata, summaryName.\n",
    "metricInfo = [{'metricName':'NVisits', 'metadata':'Per night', 'summary':'Median'},\n",
    "              {'metricName':'Mean slewTime', 'metadata':None, 'summary':None},\n",
    "              {'metricName':'Filter Changes', 'metadata':'Per night', 'summary':'Mean'}, \n",
    "              {'metricName':'Nvisits, all filters', 'metadata':'All filters WFD: histogram only', 'summary':'Median'},\n",
    "              {'metricName':'Nvisits', 'metadata':'r band, all props', 'summary':'Median'}]\n",
    "\n",
    "stats = {}\n",
    "for r in rundb:\n",
    "    stats[r] = np.zeros(len(metricComparisons), float)\n",
    "    for i, (mComparison, mInfo) in enumerate(zip(metricComparisons, metricInfo)):\n",
    "        mIds = rundb[r].getMetricId(metricName=mInfo['metricName'], metricMetadata=mInfo['metadata'])\n",
    "        s = rundb[r].getSummaryStats(mIds, summaryName=mInfo['summary'])\n",
    "        stats[r][i] = s['summaryValue'][0]        \n",
    "    print r, stats[r]"
   ]
  },
  {
   "cell_type": "code",
   "execution_count": 76,
   "metadata": {
    "collapsed": false
   },
   "outputs": [
    {
     "data": {
      "text/plain": [
       "<matplotlib.legend.Legend at 0x10e1ff5d0>"
      ]
     },
     "execution_count": 76,
     "metadata": {},
     "output_type": "execute_result"
    },
    {
     "data": {
      "image/png": "[encoded data removed]",
      "text/plain": [
       "<matplotlib.figure.Figure at 0x10d7691d0>"
      ]
     },
     "metadata": {},
     "output_type": "display_data"
    }
   ],
   "source": [
    "# Because the scales will be quite different (# of visits vs. # of filter changes, for example), normalize\n",
    "#   both by dividing by the first set of values (or pick another baseline).\n",
    "\n",
    "baseline = stats['ewok_1004']\n",
    "xoffset = -0.4\n",
    "x = np.arange(len(baseline))\n",
    "colors = np.random.random_sample((len(baseline), 3))\n",
    "for i, r in enumerate(rundb):\n",
    "    plt.bar(x-xoffset, stats[r]/baseline, width=0.3, color=colors[i], label=r)\n",
    "    xoffset += 0.4\n",
    "plt.xticks(x, metricComparisons, rotation=45)\n",
    "plt.axhline(1.0)\n",
    "plt.ylim(0.9, 1.1)\n",
    "plt.legend(loc=(1.0, 0.2))\n",
    "    "
   ]
  }
 ],
 "metadata": {
  "kernelspec": {
   "display_name": "Python 2",
   "language": "python",
   "name": "python2"
  },
  "language_info": {
   "codemirror_mode": {
    "name": "ipython",
    "version": 2
   },
   "file_extension": ".py",
   "mimetype": "text/x-python",
   "name": "python",
   "nbconvert_exporter": "python",
   "pygments_lexer": "ipython2",
   "version": "2.7.11"
  }
 },
 "nbformat": 4,
 "nbformat_minor": 0
}
