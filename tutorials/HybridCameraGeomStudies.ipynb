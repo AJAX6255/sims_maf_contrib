{
 "cells": [
  {
   "cell_type": "markdown",
   "metadata": {},
   "source": [
    "###For a given hybrid focal plane layout how much sky do we cover as a function of time###"
   ]
  },
  {
   "cell_type": "code",
   "execution_count": 8,
   "metadata": {
    "collapsed": false
   },
   "outputs": [],
   "source": [
    "%matplotlib inline\n",
    "import numpy as np\n",
    "import matplotlib.pyplot as plt\n",
    "import lsst.sims.maf.slicers as slicers\n",
    "import lsst.sims.maf.metrics as metrics\n",
    "import lsst.sims.maf.metricBundles as metricBundles\n",
    "import lsst.sims.maf.db as db\n",
    "from lsst.sims.maf.plots import PlotHandler\n",
    "import healpy as hp"
   ]
  },
  {
   "cell_type": "code",
   "execution_count": 2,
   "metadata": {
    "collapsed": false
   },
   "outputs": [],
   "source": [
    "# This is needed to avoid an error when a metric is redefined\n",
    "from lsst.sims.maf.metrics import BaseMetric\n",
    "try:\n",
    "    del metrics.BaseMetric.registry['__main__.selectChipsMetric']\n",
    "except KeyError:\n",
    "    pass"
   ]
  },
  {
   "cell_type": "code",
   "execution_count": 3,
   "metadata": {
    "collapsed": false
   },
   "outputs": [],
   "source": [
    "class selectChipsMetric(BaseMetric):\n",
    "    \"\"\"\n",
    "    Pass a set of sensors or rafts for a given vendor\n",
    "    \"\"\"\n",
    "\n",
    "    def __init__(self, cols=None, sensors=None, **kwargs):\n",
    "        if sensors == None:\n",
    "            self.sensors = []\n",
    "        else:\n",
    "            self.sensors = sensors\n",
    "\n",
    "        if cols is None:\n",
    "            cols = []\n",
    "        super(selectChipsMetric,self).__init__(col=cols, metricDtype=float, **kwargs)\n",
    "\n",
    "    def _selectChips(self, chipName):\n",
    "        \"\"\"\n",
    "        given a list of sensors increment count if a region of the sky covers that sensor \n",
    "        \"\"\"\n",
    "        count = 0\n",
    "        for chip in chipName:\n",
    "            for sensor in self.sensors:\n",
    "                if sensor in chip:\n",
    "                    count +=1\n",
    "                    break\n",
    "        return count\n",
    "                \n",
    "    def run(self, dataSlice, slicePoint=None):\n",
    "\n",
    "        if 'chipNames' not in slicePoint.keys():\n",
    "            raise ValueError('No chipname info, need to set useCamera=True with a spatial slicer.')\n",
    "\n",
    "        result = self._selectChips(slicePoint['chipNames'])\n",
    "\n",
    "        if result == 0:\n",
    "            result = self.badval\n",
    "        return result"
   ]
  },
  {
   "cell_type": "code",
   "execution_count": 12,
   "metadata": {
    "collapsed": false
   },
   "outputs": [],
   "source": [
    "# Set the database and query\n",
    "database = 'enigma_1189_sqlite.db'\n",
    "#sqlWhere = 'filter = \"r\" and night < 400'\n",
    "opsdb = db.OpsimDatabase(database)\n",
    "outDir = 'Camera'\n",
    "resultsDb = db.ResultsDb(outDir=outDir)\n",
    "nside=512"
   ]
  },
  {
   "cell_type": "code",
   "execution_count": 13,
   "metadata": {
    "collapsed": false
   },
   "outputs": [
    {
     "name": "stdout",
     "output_type": "stream",
     "text": [
      "Healpix slicer using NSIDE=512, approximate resolution 6.870973 arcminutes\n"
     ]
    }
   ],
   "source": [
    "#define rafts for a given vendor\n",
    "\n",
    "rafts = ['R:0,1', 'R:0,2', 'R:0,3',\n",
    "         'R:1,0', 'R:1,1', 'R:1,2', 'R:1,3', 'R:1,4',\n",
    "         'R:2,0', 'R:2,1', 'R:2,2', 'R:2,3', 'R:2,4',\n",
    "         'R:3,0', 'R:3,1', 'R:3,2', 'R:3,3', 'R:3,4',\n",
    "         'R:4,1', 'R:4,2', 'R:4,3',\n",
    "        ]\n",
    "rafts2 = ['R:0,1',  'R:0,3',\n",
    "         'R:1,1', 'R:1,3', \n",
    "         'R:2,0', 'R:2,2', 'R:2,4',\n",
    "         'R:3,1', 'R:3,3', \n",
    "         'R:4,1',  'R:4,3',\n",
    "        ]\n",
    "rafts1 = ['R:2,2', 'R:2,3', 'R:2,4',\n",
    "         'R:3,0', 'R:3,1', 'R:3,2', 'R:3,3', 'R:3,4',\n",
    "         'R:4,0', 'R:4,1', 'R:4,2', 'R:4,3', \n",
    "        ]\n",
    "metric1 = metrics.CountMetric('expMJD')\n",
    "metric2 = selectChipsMetric('expMJD', sensors =rafts2)\n",
    "slicer = slicers.HealpixSlicer(nside=nside, useCamera=True)\n",
    "summaryMetrics = [metrics.SumMetric()]"
   ]
  },
  {
   "cell_type": "code",
   "execution_count": 18,
   "metadata": {
    "collapsed": false
   },
   "outputs": [
    {
     "name": "stdout",
     "output_type": "stream",
     "text": [
      "Querying database with constraint filter = \"r\" and expMJD < 49547.36 and fieldRA < 0.261799 and fieldDec > -0.261799 and fieldDec < 0\n",
      "Found 1 visits\n",
      "Running:  ['Full', 'Hybrid']\n",
      "Completed metric generation.\n",
      "Running reduce methods.\n",
      "Running summary statistics.\n",
      "Completed.\n"
     ]
    }
   ],
   "source": [
    "#run metric with all sensors\n",
    "sqlWhere = 'filter = \"r\" and expMJD < 49547.36 and fieldRA < %f and fieldDec > %f and fieldDec < 0' % (np.radians(15.), np.radians(-15.))\n",
    "#sqlWhere = 'fieldID = 2266 and expMJD < 49593.3'\n",
    "bundle1 = metricBundles.MetricBundle(metric1,slicer,sqlWhere, summaryMetrics=summaryMetrics)\n",
    "bundle2 = metricBundles.MetricBundle(metric2,slicer,sqlWhere, summaryMetrics=summaryMetrics)\n",
    "bgFull = metricBundles.MetricBundleGroup({'Full':bundle1,'Hybrid':bundle2,},opsdb, outDir=outDir, resultsDb=resultsDb)\n",
    "bgFull.runAll()\n",
    "normPixels = len((np.where(bundle1.metricValues > 0))[0])"
   ]
  },
  {
   "cell_type": "code",
   "execution_count": 19,
   "metadata": {
    "collapsed": false,
    "scrolled": true
   },
   "outputs": [
    {
     "data": {
      "image/png": "[encoded data removed]",
      "text/plain": [
       "<matplotlib.figure.Figure at 0x1158e46d0>"
      ]
     },
     "metadata": {},
     "output_type": "display_data"
    },
    {
     "data": {
      "image/png": "[encoded data removed]",
      "text/plain": [
       "<matplotlib.figure.Figure at 0x1158e4190>"
      ]
     },
     "metadata": {},
     "output_type": "display_data"
    },
    {
     "data": {
      "image/png": "[encoded data removed]",
      "text/plain": [
       "<matplotlib.figure.Figure at 0x123227c10>"
      ]
     },
     "metadata": {},
     "output_type": "display_data"
    }
   ],
   "source": [
    "#plot camera\n",
    "hp.mollview(bundle1.metricValues, title='No Camera')\n",
    "hp.gnomview(bundle1.metricValues, xsize=800,ysize=800, rot=(0,0,0))\n",
    "hp.gnomview(bundle2.metricValues, xsize=800,ysize=800, rot=(0,0,0))\n",
    "#hp.gnomview(bundle1.metricValues, xsize=400,ysize=400, rot=(48,-9,0), title='With Camera', unit='Vendor')\n",
    "#hp.gnomview(bundle1.metricValues, xsize=800,ysize=800, rot=(48,-9,0))\n"
   ]
  },
  {
   "cell_type": "code",
   "execution_count": null,
   "metadata": {
    "collapsed": true
   },
   "outputs": [],
   "source": [
    "#loop over seasons and calculate the depth\n",
    "nSeasons = 10\n",
    "seasonLength = 50\n",
    "nRepeats = [1,2,4,8,10]\n",
    "numPixels = np.zeros((nSeasons,len(nRepeats)))\n",
    "for i in range(nSeasons):\n",
    "    sqlWhere = 'filter = \"r\" and night < %f and fieldRA < %f and fieldDec > %f and fieldDec < 0' % (i*seasonLength,np.radians(15), np.radians(-15))\n",
    "    bundle2 = metricBundles.MetricBundle(metric2,slicer,sqlWhere, summaryMetrics=summaryMetrics)\n",
    "    bgHybrid = metricBundles.MetricBundleGroup({'Hybrid':bundle2},opsdb, outDir=outDir, resultsDb=resultsDb)\n",
    "    bgHybrid.runAll() \n",
    "    for j,repeat in enumerate(nRepeats):\n",
    "        numPixels[i,j] = len((np.where(bundle2.metricValues > repeat))[0])"
   ]
  },
  {
   "cell_type": "code",
   "execution_count": 28,
   "metadata": {
    "collapsed": false,
    "scrolled": true
   },
   "outputs": [
    {
     "data": {
      "text/plain": [
       "<matplotlib.legend.Legend at 0x11b089b90>"
      ]
     },
     "execution_count": 28,
     "metadata": {},
     "output_type": "execute_result"
    },
    {
     "data": {
      "image/png": "[encoded data removed]",
      "text/plain": [
       "<matplotlib.figure.Figure at 0x115da4490>"
      ]
     },
     "metadata": {},
     "output_type": "display_data"
    }
   ],
   "source": [
    "#plot repeats as a function of time\n",
    "fig = plt.figure(figsize=(10, 3.75))\n",
    "ax = fig.add_subplot(111)\n",
    "ax.set_xlabel('Number of Days')\n",
    "ax.set_ylabel('Fraction of sky')\n",
    "for i in range(len(nRepeats)):\n",
    "    plt.plot(seasonLength*np.arange(nSeasons), numPixels[:,i]*100./normPixels, label='Number of repeated observations %d'%(nRepeats[i]))\n",
    "ax.legend(loc=0)"
   ]
  }
 ],
 "metadata": {
  "gist_id": "a457cab27853cb92b2d5",
  "kernelspec": {
   "display_name": "Python 2",
   "language": "python",
   "name": "python2"
  },
  "language_info": {
   "codemirror_mode": {
    "name": "ipython",
    "version": 2
   },
   "file_extension": ".py",
   "mimetype": "text/x-python",
   "name": "python",
   "nbconvert_exporter": "python",
   "pygments_lexer": "ipython2",
   "version": "2.7.10"
  }
 },
 "nbformat": 4,
 "nbformat_minor": 0
}
